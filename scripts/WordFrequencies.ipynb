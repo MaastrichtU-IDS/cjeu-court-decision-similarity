{
 "cells": [
  {
   "cell_type": "code",
   "execution_count": null,
   "metadata": {},
   "outputs": [],
   "source": [
    "import os\n",
    "# returns the next word in the file\n",
    "def words_generator(fileobj):\n",
    "    for line in fileobj:\n",
    "        for word in line.split():\n",
    "            yield word\n",
    "\n",
    "total_document_count = 0.0\n",
    "average_length_document = 0.0\n",
    "total_length_document = 0.0\n",
    "\n",
    "word_count_dict = {}\n",
    "for dirpath, dnames, fnames in os.walk(\"../inputdata/full_texts_all_cases/\"):\n",
    "    for file in fnames:\n",
    "        total_document_count+=1\n",
    "        f = open(\"../inputdata/full_texts_all_cases/\"+file,\"r\",encoding=\"utf-8\")\n",
    "        words = words_generator(f)\n",
    "        words = list(words)\n",
    "        total_length_document=len(words)\n",
    "        for word in words:\n",
    "            if word.lower() not in word_count_dict:\n",
    "                word_count_dict[word.lower()] = {\"total\":0.0}\n",
    "            else:\n",
    "                word_count_dict[word.lower()][\"total\"] += 1.0\n",
    "        for k,v in word_count_dict.items():\n",
    "            word_count_dict[k][\"total\"] /= total_length_document\n",
    "\n",
    "print(len(word_count_dict))\n",
    "average_length_document =  float(total_lengths_document) / float(total_document_count)\n",
    "print(average_length_document)"
   ]
  },
  {
   "cell_type": "code",
   "execution_count": null,
   "metadata": {},
   "outputs": [],
   "source": [
    "import pandas as pd        \n",
    "word_count_df = pd.DataFrame.from_dict(word_count_dict)\n",
    "wdf = word_count_df.sort_values(by='total', axis=1, ascending=False, inplace=False)\n",
    "wdf_transposed = wdf.T\n",
    "wdf_transposed.head(500)"
   ]
  },
  {
   "cell_type": "code",
   "execution_count": null,
   "metadata": {},
   "outputs": [],
   "source": [
    "wdf_transposed.to_csv(\"../outputdata/wordcounts.csv\")"
   ]
  }
 ],
 "metadata": {
  "kernelspec": {
   "display_name": "Python 3",
   "language": "python",
   "name": "python3"
  },
  "language_info": {
   "codemirror_mode": {
    "name": "ipython",
    "version": 3
   },
   "file_extension": ".py",
   "mimetype": "text/x-python",
   "name": "python",
   "nbconvert_exporter": "python",
   "pygments_lexer": "ipython3",
   "version": "3.6.8"
  }
 },
 "nbformat": 4,
 "nbformat_minor": 4
}
