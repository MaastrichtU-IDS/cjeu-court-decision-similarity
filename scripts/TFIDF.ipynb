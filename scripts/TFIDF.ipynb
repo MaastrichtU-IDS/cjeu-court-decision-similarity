{
 "cells": [
  {
   "cell_type": "markdown",
   "metadata": {},
   "source": [
    "# EUR-LEX Case Similarity Notebook: TF-IDF"
   ]
  },
  {
   "cell_type": "markdown",
   "metadata": {},
   "source": [
    "### Abstract: \n",
    "#### This notebook implements the TF/IDF document similarity measure on EUR-LEX judgements"
   ]
  },
  {
   "cell_type": "markdown",
   "metadata": {},
   "source": [
    "### Step 1. Import data and resources"
   ]
  },
  {
   "cell_type": "markdown",
   "metadata": {},
   "source": [
    "#### I.e. import full texts of cases from file, define a mapping to case IDs so we can lookup TF/IDF similarity values by caseID, import stopwords file"
   ]
  },
  {
   "cell_type": "code",
   "execution_count": 74,
   "metadata": {},
   "outputs": [],
   "source": [
    "from sklearn.feature_extraction.text import TfidfVectorizer\n",
    "from sklearn.metrics.pairwise import cosine_similarity\n",
    "from sklearn.metrics.pairwise import linear_kernel\n",
    "import os\n",
    "import pickle\n",
    "import nltk\n",
    "from nltk.corpus import stopwords\n",
    "from nltk.tokenize import sent_tokenize, word_tokenize\n",
    "from nltk.stem import PorterStemmer\n",
    "\n",
    "# Import stopwords           \n",
    "stopwordsfile = \"../script_resources/stopwords.pickle\"\n",
    "stopwords_full = []\n",
    "with open(stopwordsfile, \"rb\") as f:\n",
    "    tmp = pickle.load(f)\n",
    "    stopwords_full.extend(list(tmp))\n",
    "    stopwords_full.extend(stopwords.words('english'))\n",
    "stopwords_full = list(set(stopwords_full))\n",
    "\n",
    "#print(stopwords_full)\n",
    "\n",
    "porter=PorterStemmer()\n",
    "\n",
    "def stemSentence(sentence):\n",
    "    token_words=word_tokenize(sentence)\n",
    "    token_words\n",
    "    stem_sentence=[]\n",
    "    for word in token_words:\n",
    "        stem_sentence.append(porter.stem(word))\n",
    "        stem_sentence.append(\" \")\n",
    "    return \"\".join(stem_sentence)\n",
    "\n",
    "def removeStopWords(text, stopwords_list):\n",
    "    text = text.lower()\n",
    "    for item in stopwords_list:\n",
    "        text = text.replace(\" \" + item + \" \",\" \")\n",
    "        text = text.replace(\" \" + item + \",\",\" \")\n",
    "        text = text.replace(\" \" + item + \".\",\" \")\n",
    "        text = text.replace(\" \" + item + \";\",\" \")\n",
    "    text = text.replace(\"+\",\"\")\n",
    "    return text\n",
    "\n",
    "# Only keep celex number from filename\n",
    "def cleanfilename(name):\n",
    "    result = \"\"\n",
    "    result = name.replace(\"full_text_\",\"\")\n",
    "    result = result.replace(\".txt\",\"\")\n",
    "    return result\n",
    "\n",
    "# List all documents in directory\n",
    "path = \"../inputdata/full_texts_all_cases/\"\n",
    "\n",
    "files = []\n",
    "file_dict = {}\n",
    "# r=root, d=directories, f = files\n",
    "for r, d, f in os.walk(path):\n",
    "    count = 1\n",
    "    for file in f:\n",
    "        if '.txt' in file:\n",
    "            files.append(os.path.join(r, file))\n",
    "            celexnum = cleanfilename(os.path.basename(file))\n",
    "            with open (path+file, \"r\", encoding=\"utf-8\" ) as myfile:\n",
    "                data = myfile.read().replace('\\n','')\n",
    "                data = data.replace(\"  \",\" \")\n",
    "                data = removeStopWords(data,stopwords_full)\n",
    "                sent_text = nltk.sent_tokenize(data)\n",
    "                lemmatized_doc = \"\"\n",
    "                for sentence in sent_text:\n",
    "                    lemmatized_doc += stemSentence(sentence)\n",
    "                file_dict[celexnum] = lemmatized_doc\n",
    "\n",
    "# Mapping values (text of cases), to filename/case_id (k)\n",
    "values = []\n",
    "key = {}\n",
    "counter = 0\n",
    "for k,v in file_dict.items():\n",
    "    values.append(v)\n",
    "    key[k] = counter\n",
    "    counter+=1"
   ]
  },
  {
   "cell_type": "markdown",
   "metadata": {},
   "source": [
    "### Step 2. Compute TFIDF similarity scores for input data"
   ]
  },
  {
   "cell_type": "code",
   "execution_count": null,
   "metadata": {},
   "outputs": [],
   "source": [
    "# Create a TF-IDF vectoriser\n",
    "# Use custom legal text stopwords\n",
    "# Apply the tfidf model to the input files\n",
    "tfidfvect = TfidfVectorizer(use_idf=True, stop_words=stopwords_full)\n",
    "tfidf_data = tfidfvect.fit_transform(values)"
   ]
  },
  {
   "cell_type": "code",
   "execution_count": null,
   "metadata": {},
   "outputs": [],
   "source": [
    "pickle.dump(tfidf_data, open(\"tfidfmodel.pickle\", \"wb\"))"
   ]
  },
  {
   "cell_type": "markdown",
   "metadata": {},
   "source": [
    "### Step 3. Import sample cases from file"
   ]
  },
  {
   "cell_type": "code",
   "execution_count": null,
   "metadata": {},
   "outputs": [],
   "source": [
    "import pandas as pd\n",
    "\n",
    "# Fetch sample cases from file\n",
    "def get_sample_cases(topic):\n",
    "    data = pd.read_csv(\"../inputdata/sampled_cases.csv\")\n",
    "    relevant_rows = data[data['topic'] == topic]\n",
    "    return relevant_rows['source'].tolist()\n",
    "\n",
    "# Celex numbers of reference cases\n",
    "publichealth = get_sample_cases('public health')\n",
    "socialpolicy = get_sample_cases('social policy')\n",
    "dataprotection = get_sample_cases('data protection')"
   ]
  },
  {
   "cell_type": "markdown",
   "metadata": {},
   "source": [
    "### Step 4. Define function to lookup similarity values in TF/IDF matrix"
   ]
  },
  {
   "cell_type": "code",
   "execution_count": null,
   "metadata": {},
   "outputs": [],
   "source": [
    "def find_similar(tfidf_matrix, index, top_n):\n",
    "    cosine_similarities = linear_kernel(tfidf_matrix[index:index+1], tfidf_matrix).flatten()\n",
    "    related_docs_indices = [i for i in cosine_similarities.argsort()[::-1] if i != index]\n",
    "    return [(index, cosine_similarities[index]) for index in related_docs_indices][0:top_n]"
   ]
  },
  {
   "cell_type": "markdown",
   "metadata": {},
   "source": [
    "### Step 5. Define functions mapping between case ID, filename, and associated full text (references to same document)"
   ]
  },
  {
   "cell_type": "code",
   "execution_count": null,
   "metadata": {},
   "outputs": [],
   "source": [
    "# Keep a record of document to index\n",
    "def get_doc_index(docid):\n",
    "    global key\n",
    "    global tfidf_data\n",
    "    rowid = key[docid]\n",
    "    return rowid\n",
    "    \n",
    "# Keep a record of document to index\n",
    "def get_doc_row(docid):\n",
    "    global key\n",
    "    global tfidf_data\n",
    "    rowid = key[docid]\n",
    "    row = tfidf_data[rowid,:]\n",
    "    return row\n",
    "\n",
    "# Keep a record of document to index\n",
    "def get_doc_id(rowid):\n",
    "    global key\n",
    "    global tfidf_data\n",
    "    for k, v in key.items():    \n",
    "        if v == rowid:\n",
    "            return k\n",
    "    return -1"
   ]
  },
  {
   "cell_type": "markdown",
   "metadata": {},
   "source": [
    "### Step 6. Define functions to look up citations for a given case, and to check if there is a citation link between two cases"
   ]
  },
  {
   "cell_type": "code",
   "execution_count": null,
   "metadata": {},
   "outputs": [],
   "source": [
    "citations = pd.read_csv('../inputdata/all_cases_citations.csv')\n",
    "\n",
    "def find_cited_cases(celexnumber):\n",
    "    global citations\n",
    "    relevantsource = citations[citations['source'] == celexnumber]\n",
    "    return relevantsource['target'].tolist()\n",
    "\n",
    "def exists_citation_link_between(celexnumber1,celexnumber2):\n",
    "    global citations\n",
    "    relevantsource1 = citations[citations['source'] == celexnumber1]\n",
    "    relevantsource2 = citations[citations['source'] == celexnumber2]\n",
    "    if celexnumber2 in relevantsource1['target'].tolist() or celexnumber1 in relevantsource2['target'].tolist():\n",
    "        return True\n",
    "    return False"
   ]
  },
  {
   "cell_type": "markdown",
   "metadata": {},
   "source": [
    "### Step 7. Lookup top n similar cases per sample case"
   ]
  },
  {
   "cell_type": "code",
   "execution_count": null,
   "metadata": {},
   "outputs": [],
   "source": [
    "results = []\n",
    "\n",
    "# Function to convert entire similarity results to case ID references\n",
    "def convert_to_case_references(tfidf_result):\n",
    "    result = []\n",
    "    for item in tfidf_result:\n",
    "        case_reference = get_doc_id(item[0]) # convert to case reference\n",
    "        similarity_value = item[1]\n",
    "        result.append((case_reference,similarity_value))\n",
    "    return result\n",
    "\n",
    "def lookup_similar_cases(sample_cases, n, topic):\n",
    "    global results\n",
    "    global tfidf_data\n",
    "    for item in sample_cases:\n",
    "        index = get_doc_index(item)                         # Look up this cases index in the TFIDF matrix\n",
    "        similar_cases = find_similar(tfidf_data, index, n)  # Look up top n similar cases for this case\n",
    "        similar_cases_references = convert_to_case_references(similar_cases)\n",
    "        for reference in similar_cases_references:\n",
    "            results.append([item,reference[0],reference[1],'tfidf',exists_citation_link_between(item,reference[0]),topic])\n",
    "\n",
    "# 1. Public Health\n",
    "lookup_similar_cases(publichealth,20,'public health')\n",
    "# 2. Social Policy\n",
    "lookup_similar_cases(socialpolicy,20,'social policy')\n",
    "# 3. Data Protection\n",
    "lookup_similar_cases(dataprotection,20,'data protection')"
   ]
  },
  {
   "cell_type": "markdown",
   "metadata": {},
   "source": [
    "### Step 8. Write results to file"
   ]
  },
  {
   "cell_type": "code",
   "execution_count": null,
   "metadata": {},
   "outputs": [],
   "source": [
    "import csv\n",
    "import os.path\n",
    "\n",
    "if os.path.exists('../outputdata/results.csv') == False:\n",
    "    results.insert(0,['source_case','similar_case','similarity_score','method','citation_link','source_case_topic'])\n",
    "    \n",
    "with open('../outputdata/results.csv', 'a', newline='') as outfile:\n",
    "    writer = csv.writer(outfile, delimiter=',')\n",
    "    writer.writerows(results)"
   ]
  }
 ],
 "metadata": {
  "kernelspec": {
   "display_name": "Python 3",
   "language": "python",
   "name": "python3"
  },
  "language_info": {
   "codemirror_mode": {
    "name": "ipython",
    "version": 3
   },
   "file_extension": ".py",
   "mimetype": "text/x-python",
   "name": "python",
   "nbconvert_exporter": "python",
   "pygments_lexer": "ipython3",
   "version": "3.6.8"
  }
 },
 "nbformat": 4,
 "nbformat_minor": 4
}
