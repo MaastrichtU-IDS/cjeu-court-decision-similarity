{
 "cells": [
  {
   "cell_type": "markdown",
   "metadata": {},
   "source": [
    "# EUR-LEX Case Sampling Notebook"
   ]
  },
  {
   "cell_type": "markdown",
   "metadata": {},
   "source": [
    "### Abstract: \n",
    "#### This notebook samples cases for our study from the three chosen topics: Public Health, Data Protection & Social Policy"
   ]
  },
  {
   "cell_type": "markdown",
   "metadata": {},
   "source": [
    "### Step 1. Find all case identifiers for cases concerning the three topics"
   ]
  },
  {
   "cell_type": "code",
   "execution_count": 1,
   "metadata": {},
   "outputs": [
    {
     "name": "stdout",
     "output_type": "stream",
     "text": [
      "# of Public Health cases found: 181\n",
      "# of Social Policy cases found: 707\n",
      "# of Data Protection cases found: 42\n"
     ]
    }
   ],
   "source": [
    "# library for reading and writing CSV files\n",
    "import csv\n",
    "\n",
    "# Initialise variables to store case identifiers (CELEX numbers) for the three topics\n",
    "publichealth = []\n",
    "socialpolicy = []\n",
    "dataprotection = []\n",
    "\n",
    "# Find and store all case identifiers for the three topics\n",
    "with open('../inputdata/all_cases_subjects.csv', newline='') as csvfile:\n",
    "    csvreader = csv.reader(csvfile, delimiter=',', quotechar='|')\n",
    "    for row in csvreader:\n",
    "        if (\"health\" in row[1].lower()):\n",
    "            publichealth.append(row[0])\n",
    "        if (\"social policy\" in row[1].lower()):\n",
    "            socialpolicy.append(row[0])\n",
    "        if (\"data\" in row[1].lower()):\n",
    "            dataprotection.append(row[0])\n",
    "            \n",
    "# Remove any duplicates\n",
    "publichealth = list(set(publichealth))\n",
    "socialpolicy = list(set(socialpolicy))\n",
    "dataprotection = list(set(dataprotection))\n",
    "\n",
    "# Print the number of cases found in each topic \n",
    "print(\"# of Public Health cases found:\",len(publichealth))\n",
    "print(\"# of Social Policy cases found:\",len(socialpolicy))\n",
    "print(\"# of Data Protection cases found:\",len(dataprotection))"
   ]
  },
  {
   "cell_type": "markdown",
   "metadata": {},
   "source": [
    "### Step 2. Identify all case citations that are relevant for each topic"
   ]
  },
  {
   "cell_type": "code",
   "execution_count": 2,
   "metadata": {},
   "outputs": [
    {
     "name": "stdout",
     "output_type": "stream",
     "text": [
      "Public Health:  100\n",
      "Social Policy:  539\n",
      "Data Protectio:  32\n"
     ]
    }
   ],
   "source": [
    "# Import pandas Python library for manipulation and processing of tabular data\n",
    "import pandas as pd\n",
    "\n",
    "# Import (read) the file containing the citations for all extracted cases from EUR-LEX\n",
    "citationsdata = pd.read_csv(\"../inputdata/all_cases_citations.csv\") \n",
    "# Retain only those citations that involve cases in our chosen topics:\n",
    "# 1. Public Health\n",
    "publichealthcitations = citationsdata[citationsdata['target'].isin(publichealth)]\n",
    "print(\"Public Health: \", len(publichealthcitations['target'].unique()))\n",
    "# 2. Social Policy\n",
    "socialpolicycitations = citationsdata[citationsdata['target'].isin(socialpolicy)]\n",
    "print(\"Social Policy: \",len(socialpolicycitations['target'].unique()))\n",
    "# 3. Data Protection\n",
    "dataprotectioncitations = citationsdata[citationsdata['target'].isin(dataprotection)]\n",
    "print(\"Data Protectio: \",len(dataprotectioncitations['target'].unique()))"
   ]
  },
  {
   "cell_type": "markdown",
   "metadata": {},
   "source": [
    "### Step 3. Identify uncited cases"
   ]
  },
  {
   "cell_type": "markdown",
   "metadata": {},
   "source": [
    "##### I.e. cases from our original set which don't appear in 'citations.csv' (they are never cited). These uncited cases will be taken into account later on for sampling."
   ]
  },
  {
   "cell_type": "code",
   "execution_count": 3,
   "metadata": {},
   "outputs": [
    {
     "name": "stdout",
     "output_type": "stream",
     "text": [
      "Public Health:  81\n",
      "Social Policy:  168\n",
      "Data Protectio:  10\n"
     ]
    }
   ],
   "source": [
    "# Function to identify uncited cases\n",
    "def get_uncited_cases(allcases, citedcases):\n",
    "    return allcases.difference(citedcases)\n",
    "\n",
    "# 1. Public Health\n",
    "uncited_publichealth_cases = get_uncited_cases(set(publichealth), set(publichealthcitations['target'].unique()))\n",
    "print(\"Public Health: \",len(list(uncited_publichealth_cases)))\n",
    "# 2. Social Policy\n",
    "uncited_socialpolicy_cases = get_uncited_cases(set(socialpolicy), set(socialpolicycitations['target'].unique()))\n",
    "print(\"Social Policy: \",len(list(uncited_socialpolicy_cases)))\n",
    "# 3 Data Protection\n",
    "uncited_dataprotection_cases = get_uncited_cases(set(dataprotection), set(dataprotectioncitations['target'].unique()))\n",
    "print(\"Data Protectio: \",len(list(uncited_dataprotection_cases)))"
   ]
  },
  {
   "cell_type": "markdown",
   "metadata": {},
   "source": [
    "### Step 4. Add the uncited cases into the case citations dataframes"
   ]
  },
  {
   "cell_type": "code",
   "execution_count": 4,
   "metadata": {},
   "outputs": [
    {
     "name": "stdout",
     "output_type": "stream",
     "text": [
      "Public Health:  181\n",
      "Social Policy:  707\n",
      "Data Protectio:  42\n"
     ]
    }
   ],
   "source": [
    "# Function to sort and return a frame of case identifiers sorted by their number of citations - descending order\n",
    "def get_descending_sorted_frame_of_citations(cases_dataframe):\n",
    "    return cases_dataframe.groupby('target')['source'].count().reset_index(name='citations').sort_values('citations',ascending=False)\n",
    "\n",
    "# Apply the above function to the citation frames for each topic\n",
    "publichealth_citations_sorted_df = get_descending_sorted_frame_of_citations(publichealthcitations)\n",
    "socialpolicy_citations_sorted_df = get_descending_sorted_frame_of_citations(socialpolicycitations)\n",
    "dataprotection_citations_sorted_df = get_descending_sorted_frame_of_citations(dataprotectioncitations)\n",
    "\n",
    "# Add uncited cases\n",
    "# 1. Public Health\n",
    "publichealth_newrows = []\n",
    "for item in list(uncited_publichealth_cases):\n",
    "    publichealth_newrows.append({'target' : item, 'citations' : 0})\n",
    "ph_toadd = pd.DataFrame(publichealth_newrows)\n",
    "# 2. Social Policy\n",
    "socialpolicy_newrows = []\n",
    "for item in list(uncited_socialpolicy_cases):\n",
    "    socialpolicy_newrows.append({'target' : item, 'citations' : 0})\n",
    "sp_toadd = pd.DataFrame(socialpolicy_newrows)\n",
    "# 3. Data Protection\n",
    "dataprotection_newrows = []\n",
    "for item in list(uncited_dataprotection_cases):\n",
    "    dataprotection_newrows.append({'target' : item, 'citations' : 0})\n",
    "dp_toadd = pd.DataFrame(dataprotection_newrows)\n",
    "    \n",
    "publichealth_citations_sorted_df = publichealth_citations_sorted_df.append(ph_toadd, ignore_index=True, sort=False)\n",
    "socialpolicy_citations_sorted_df = socialpolicy_citations_sorted_df.append(sp_toadd, ignore_index=True, sort=False)\n",
    "dataprotection_citations_sorted_df = dataprotection_citations_sorted_df.append(dp_toadd, ignore_index=True, sort=False)\n",
    "\n",
    "total_publichealth = len(publichealth_citations_sorted_df['target'])\n",
    "total_socialpolicy = len(socialpolicy_citations_sorted_df['target'])\n",
    "total_dataprotection = len(dataprotection_citations_sorted_df['target'])\n",
    "\n",
    "print(\"Public Health: \",total_publichealth)\n",
    "print(\"Social Policy: \",total_socialpolicy)\n",
    "print(\"Data Protectio: \",total_dataprotection)"
   ]
  },
  {
   "cell_type": "markdown",
   "metadata": {},
   "source": [
    "### Step 5. Citations frequency distribution"
   ]
  },
  {
   "cell_type": "code",
   "execution_count": 5,
   "metadata": {},
   "outputs": [
    {
     "data": {
      "text/html": [
       "<div>\n",
       "<style scoped>\n",
       "    .dataframe tbody tr th:only-of-type {\n",
       "        vertical-align: middle;\n",
       "    }\n",
       "\n",
       "    .dataframe tbody tr th {\n",
       "        vertical-align: top;\n",
       "    }\n",
       "\n",
       "    .dataframe thead th {\n",
       "        text-align: right;\n",
       "    }\n",
       "</style>\n",
       "<table border=\"1\" class=\"dataframe\">\n",
       "  <thead>\n",
       "    <tr style=\"text-align: right;\">\n",
       "      <th></th>\n",
       "      <th>target</th>\n",
       "      <th>citations</th>\n",
       "    </tr>\n",
       "  </thead>\n",
       "  <tbody>\n",
       "    <tr>\n",
       "      <th>0</th>\n",
       "      <td>62003CJ0453</td>\n",
       "      <td>32</td>\n",
       "    </tr>\n",
       "    <tr>\n",
       "      <th>1</th>\n",
       "      <td>62004CJ0372</td>\n",
       "      <td>24</td>\n",
       "    </tr>\n",
       "    <tr>\n",
       "      <th>2</th>\n",
       "      <td>61988CJ0070</td>\n",
       "      <td>12</td>\n",
       "    </tr>\n",
       "    <tr>\n",
       "      <th>3</th>\n",
       "      <td>62009CJ0266</td>\n",
       "      <td>10</td>\n",
       "    </tr>\n",
       "    <tr>\n",
       "      <th>4</th>\n",
       "      <td>61999CJ0029</td>\n",
       "      <td>10</td>\n",
       "    </tr>\n",
       "    <tr>\n",
       "      <th>5</th>\n",
       "      <td>61980CJ0272</td>\n",
       "      <td>9</td>\n",
       "    </tr>\n",
       "    <tr>\n",
       "      <th>6</th>\n",
       "      <td>62004CJ0504</td>\n",
       "      <td>8</td>\n",
       "    </tr>\n",
       "    <tr>\n",
       "      <th>7</th>\n",
       "      <td>62006CJ0037</td>\n",
       "      <td>8</td>\n",
       "    </tr>\n",
       "    <tr>\n",
       "      <th>8</th>\n",
       "      <td>62009CJ0229</td>\n",
       "      <td>8</td>\n",
       "    </tr>\n",
       "    <tr>\n",
       "      <th>9</th>\n",
       "      <td>61996CJ0137</td>\n",
       "      <td>8</td>\n",
       "    </tr>\n",
       "  </tbody>\n",
       "</table>\n",
       "</div>"
      ],
      "text/plain": [
       "        target  citations\n",
       "0  62003CJ0453         32\n",
       "1  62004CJ0372         24\n",
       "2  61988CJ0070         12\n",
       "3  62009CJ0266         10\n",
       "4  61999CJ0029         10\n",
       "5  61980CJ0272          9\n",
       "6  62004CJ0504          8\n",
       "7  62006CJ0037          8\n",
       "8  62009CJ0229          8\n",
       "9  61996CJ0137          8"
      ]
     },
     "execution_count": 5,
     "metadata": {},
     "output_type": "execute_result"
    }
   ],
   "source": [
    "data = publichealth_citations_sorted_df\n",
    "data.head(10)"
   ]
  },
  {
   "cell_type": "code",
   "execution_count": 16,
   "metadata": {},
   "outputs": [
    {
     "data": {
      "text/html": [
       "<div>\n",
       "<style scoped>\n",
       "    .dataframe tbody tr th:only-of-type {\n",
       "        vertical-align: middle;\n",
       "    }\n",
       "\n",
       "    .dataframe tbody tr th {\n",
       "        vertical-align: top;\n",
       "    }\n",
       "\n",
       "    .dataframe thead th {\n",
       "        text-align: right;\n",
       "    }\n",
       "</style>\n",
       "<table border=\"1\" class=\"dataframe\">\n",
       "  <thead>\n",
       "    <tr style=\"text-align: right;\">\n",
       "      <th></th>\n",
       "      <th>citations</th>\n",
       "      <th>quantile</th>\n",
       "    </tr>\n",
       "  </thead>\n",
       "  <tbody>\n",
       "    <tr>\n",
       "      <th>count</th>\n",
       "      <td>181.000000</td>\n",
       "      <td>181.000000</td>\n",
       "    </tr>\n",
       "    <tr>\n",
       "      <th>mean</th>\n",
       "      <td>1.933702</td>\n",
       "      <td>0.502762</td>\n",
       "    </tr>\n",
       "    <tr>\n",
       "      <th>std</th>\n",
       "      <td>3.649356</td>\n",
       "      <td>0.274695</td>\n",
       "    </tr>\n",
       "    <tr>\n",
       "      <th>min</th>\n",
       "      <td>0.000000</td>\n",
       "      <td>0.226519</td>\n",
       "    </tr>\n",
       "    <tr>\n",
       "      <th>25%</th>\n",
       "      <td>0.000000</td>\n",
       "      <td>0.226519</td>\n",
       "    </tr>\n",
       "    <tr>\n",
       "      <th>50%</th>\n",
       "      <td>1.000000</td>\n",
       "      <td>0.549724</td>\n",
       "    </tr>\n",
       "    <tr>\n",
       "      <th>75%</th>\n",
       "      <td>2.000000</td>\n",
       "      <td>0.707182</td>\n",
       "    </tr>\n",
       "    <tr>\n",
       "      <th>max</th>\n",
       "      <td>32.000000</td>\n",
       "      <td>1.000000</td>\n",
       "    </tr>\n",
       "  </tbody>\n",
       "</table>\n",
       "</div>"
      ],
      "text/plain": [
       "        citations    quantile\n",
       "count  181.000000  181.000000\n",
       "mean     1.933702    0.502762\n",
       "std      3.649356    0.274695\n",
       "min      0.000000    0.226519\n",
       "25%      0.000000    0.226519\n",
       "50%      1.000000    0.549724\n",
       "75%      2.000000    0.707182\n",
       "max     32.000000    1.000000"
      ]
     },
     "execution_count": 16,
     "metadata": {},
     "output_type": "execute_result"
    },
    {
     "data": {
      "image/png": "[encoded data removed]",
      "text/plain": [
       "<Figure size 432x288 with 1 Axes>"
      ]
     },
     "metadata": {
      "needs_background": "light"
     },
     "output_type": "display_data"
    }
   ],
   "source": [
    "import seaborn as sns\n",
    "sns.distplot(data['citations'])\n",
    "data.describe()"
   ]
  },
  {
   "cell_type": "code",
   "execution_count": 7,
   "metadata": {},
   "outputs": [],
   "source": [
    "publichealth_citations_sorted_df['topic'] = 'public health'\n",
    "socialpolicy_citations_sorted_df['topic'] = 'social policy'\n",
    "dataprotection_citations_sorted_df['topic'] = 'data protection'"
   ]
  },
  {
   "cell_type": "markdown",
   "metadata": {},
   "source": [
    "### Step 6. Sampling cases based on quantiles"
   ]
  },
  {
   "cell_type": "code",
   "execution_count": 8,
   "metadata": {},
   "outputs": [],
   "source": [
    "publichealth_citations_sorted_df['quantile'] = \\\n",
    "    publichealth_citations_sorted_df['citations'].rank(pct=True)\n",
    "socialpolicy_citations_sorted_df['quantile'] = \\\n",
    "    socialpolicy_citations_sorted_df['citations'].rank(pct=True)\n",
    "dataprotection_citations_sorted_df['quantile'] = \\\n",
    "    dataprotection_citations_sorted_df['citations'].rank(pct=True)"
   ]
  },
  {
   "cell_type": "code",
   "execution_count": 9,
   "metadata": {},
   "outputs": [],
   "source": [
    "def sampleSize(population_size, margin_error=.05, confidence_level=.99, sigma=1/2):\n",
    "    alpha = 1 - (confidence_level)\n",
    "    # dictionary of confidence levels and corresponding z-scores\n",
    "    # computed via norm.ppf(1 - (alpha/2)), where norm is\n",
    "    zdict = {\n",
    "        .90: 1.645,\n",
    "        .91: 1.695,\n",
    "        .99: 2.576,\n",
    "        .97: 2.17,\n",
    "        .94: 1.881,\n",
    "        .93: 1.812,\n",
    "        .95: 1.96,\n",
    "        .98: 2.326,\n",
    "        .96: 2.054,\n",
    "        .92: 1.751\n",
    "    }\n",
    "    if confidence_level in zdict:\n",
    "        z = zdict[confidence_level]\n",
    "    else:\n",
    "        from scipy.stats import norm\n",
    "        z = norm.ppf(1 - (alpha/2))\n",
    "    N = population_size\n",
    "    M = margin_error\n",
    "    a = z**2 * sigma**2 * (N / (N-1))\n",
    "    b = M**2 + ((z**2 * sigma**2)/(N-1))\n",
    "    return int(round(a/b,0))"
   ]
  },
  {
   "cell_type": "code",
   "execution_count": 10,
   "metadata": {},
   "outputs": [
    {
     "name": "stdout",
     "output_type": "stream",
     "text": [
      "63\n",
      "85\n",
      "29\n"
     ]
    }
   ],
   "source": [
    "sample_size_publichealth = sampleSize(total_publichealth, margin_error=.1, confidence_level=.95)\n",
    "sample_size_socialpolicy = sampleSize(total_socialpolicy, margin_error=.1, confidence_level=.95)\n",
    "sample_size_dataprotection = sampleSize(total_dataprotection, margin_error=.1, confidence_level=.95)\n",
    "\n",
    "print(sample_size_publichealth)\n",
    "print(sample_size_socialpolicy)\n",
    "print(sample_size_dataprotection)"
   ]
  },
  {
   "cell_type": "code",
   "execution_count": null,
   "metadata": {},
   "outputs": [],
   "source": [
    "Total  \n",
    "Public Health:  181\n",
    "Social Policy:  707\n",
    "Data Protectio:  42"
   ]
  },
  {
   "cell_type": "code",
   "execution_count": 11,
   "metadata": {},
   "outputs": [],
   "source": [
    "def sample_ordered_index(df, size):\n",
    "    \"\"\"the function assumes ordered frame by rank\"\"\"\n",
    "    if size < len(df.index):\n",
    "        bins = len(df.index)/size\n",
    "        index_sample = [df.index[int(i*bins)] for i in range(size)]\n",
    "    else:\n",
    "        print('Sample size is bigger than the popolation')\n",
    "    return df[df.index.isin(index_sample)]"
   ]
  },
  {
   "cell_type": "code",
   "execution_count": 12,
   "metadata": {},
   "outputs": [],
   "source": [
    "sample_cases_publichealth = sample_ordered_index(\n",
    "    publichealth_citations_sorted_df, sample_size_publichealth)\n",
    "sample_cases_socialpolicy = sample_ordered_index(\n",
    "    socialpolicy_citations_sorted_df, sample_size_socialpolicy)\n",
    "sample_cases_dataprotection = sample_ordered_index(\n",
    "    dataprotection_citations_sorted_df, sample_size_dataprotection)"
   ]
  },
  {
   "cell_type": "code",
   "execution_count": 13,
   "metadata": {},
   "outputs": [
    {
     "data": {
      "text/html": [
       "<div>\n",
       "<style scoped>\n",
       "    .dataframe tbody tr th:only-of-type {\n",
       "        vertical-align: middle;\n",
       "    }\n",
       "\n",
       "    .dataframe tbody tr th {\n",
       "        vertical-align: top;\n",
       "    }\n",
       "\n",
       "    .dataframe thead th {\n",
       "        text-align: right;\n",
       "    }\n",
       "</style>\n",
       "<table border=\"1\" class=\"dataframe\">\n",
       "  <thead>\n",
       "    <tr style=\"text-align: right;\">\n",
       "      <th></th>\n",
       "      <th>target</th>\n",
       "      <th>citations</th>\n",
       "      <th>topic</th>\n",
       "      <th>quantile</th>\n",
       "    </tr>\n",
       "  </thead>\n",
       "  <tbody>\n",
       "    <tr>\n",
       "      <th>0</th>\n",
       "      <td>62000CJ0465</td>\n",
       "      <td>17</td>\n",
       "      <td>data protection</td>\n",
       "      <td>1.000000</td>\n",
       "    </tr>\n",
       "    <tr>\n",
       "      <th>1</th>\n",
       "      <td>62009CJ0092</td>\n",
       "      <td>16</td>\n",
       "      <td>data protection</td>\n",
       "      <td>0.976190</td>\n",
       "    </tr>\n",
       "    <tr>\n",
       "      <th>2</th>\n",
       "      <td>62001CJ0101</td>\n",
       "      <td>15</td>\n",
       "      <td>data protection</td>\n",
       "      <td>0.940476</td>\n",
       "    </tr>\n",
       "    <tr>\n",
       "      <th>4</th>\n",
       "      <td>61998CJ0223</td>\n",
       "      <td>11</td>\n",
       "      <td>data protection</td>\n",
       "      <td>0.904762</td>\n",
       "    </tr>\n",
       "    <tr>\n",
       "      <th>5</th>\n",
       "      <td>62006CJ0524</td>\n",
       "      <td>10</td>\n",
       "      <td>data protection</td>\n",
       "      <td>0.880952</td>\n",
       "    </tr>\n",
       "  </tbody>\n",
       "</table>\n",
       "</div>"
      ],
      "text/plain": [
       "        target  citations            topic  quantile\n",
       "0  62000CJ0465         17  data protection  1.000000\n",
       "1  62009CJ0092         16  data protection  0.976190\n",
       "2  62001CJ0101         15  data protection  0.940476\n",
       "4  61998CJ0223         11  data protection  0.904762\n",
       "5  62006CJ0524         10  data protection  0.880952"
      ]
     },
     "execution_count": 13,
     "metadata": {},
     "output_type": "execute_result"
    }
   ],
   "source": [
    "sample_cases_dataprotection.head()"
   ]
  },
  {
   "cell_type": "code",
   "execution_count": 14,
   "metadata": {},
   "outputs": [],
   "source": [
    "# tidyfile and write\n",
    "df = sample_cases_publichealth\\\n",
    "    .append(sample_cases_socialpolicy)\\\n",
    "    .append(sample_cases_dataprotection)\n",
    "df['quantile'] = [round(x,2) for x in df['quantile']]\n",
    "df.sort_values('citations', ascending=False)\\\n",
    "    .reset_index()\\\n",
    "    [['quantile','target','citations','topic']]\\\n",
    "    .rename(columns = {'target':'source'})\\\n",
    "    .to_csv('../inputdata/sampled_cases.csv', index=False)"
   ]
  },
  {
   "cell_type": "code",
   "execution_count": null,
   "metadata": {},
   "outputs": [],
   "source": []
  }
 ],
 "metadata": {
  "kernelspec": {
   "display_name": "Python 3",
   "language": "python",
   "name": "python3"
  },
  "language_info": {
   "codemirror_mode": {
    "name": "ipython",
    "version": 3
   },
   "file_extension": ".py",
   "mimetype": "text/x-python",
   "name": "python",
   "nbconvert_exporter": "python",
   "pygments_lexer": "ipython3",
   "version": "3.7.3"
  }
 },
 "nbformat": 4,
 "nbformat_minor": 4
}
