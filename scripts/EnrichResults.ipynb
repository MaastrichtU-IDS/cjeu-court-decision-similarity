{
 "cells": [
  {
   "cell_type": "code",
   "execution_count": null,
   "metadata": {},
   "outputs": [],
   "source": [
    "import pandas as pd\n",
    "import os\n",
    "import csv\n",
    "\n",
    "df = pd.read_csv(os.path.join(os.path.join(os.path.realpath('..'), \"outputdata\"), \"results.csv\"))\n",
    "\n",
    "print(len(df))"
   ]
  },
  {
   "cell_type": "code",
   "execution_count": null,
   "metadata": {},
   "outputs": [],
   "source": [
    "df.drop_duplicates(subset=None, keep='first', inplace=False)\n",
    "overlapsDf = df[df[\"citation_link\"] == True]\n",
    "nonoverlapsDf = df[df[\"citation_link\"] == False]\n",
    "\n",
    "print(overlapsDf.head(10))\n",
    "print(len(overlapsDf))"
   ]
  },
  {
   "cell_type": "code",
   "execution_count": null,
   "metadata": {},
   "outputs": [],
   "source": [
    "print(\"* Import citations for cases...\")\n",
    "citations = pd.read_csv('../inputdata/all_cases_citations.csv')\n",
    "print(\" Successfully imported citations!\")\n",
    "\n",
    "print(\"* Import subjects for cases...\")\n",
    "subjects = pd.read_csv('../inputdata/all_cases_subjects.csv')\n",
    "print(\" Successfully imported subjects!\")\n",
    "\n",
    "def find_num_citations(celexnumber):\n",
    "    global citations\n",
    "    relevantsource = citations[citations['target'] == celexnumber]\n",
    "    relevantsource.drop_duplicates(subset=None, keep='first', inplace=True)\n",
    "    return len(relevantsource)\n",
    "\n",
    "def get_citation_type(celexnumber1,celexnumber2):\n",
    "    global citations\n",
    "    relevantsource1 = citations[citations['source'] == celexnumber1]\n",
    "    relevantsource2 = citations[citations['source'] == celexnumber2]\n",
    "    if (celexnumber2 in relevantsource1['target'].tolist()) and (celexnumber1 in relevantsource2['target'].tolist()):\n",
    "        return 'lr'\n",
    "    elif (celexnumber2 in relevantsource1['target'].tolist()) and (celexnumber1 not in relevantsource2['target'].tolist()):\n",
    "        return 'r'\n",
    "    elif (celexnumber1 in relevantsource2['target'].tolist()) and (celexnumber2 not in relevantsource1['target'].tolist()):\n",
    "        return 'l'\n",
    "    return 'n'\n",
    "\n",
    "def find_case_topic(celexnumber):\n",
    "    results = subjects[subjects['source'] == celexnumber]\n",
    "    ph = results[results['subject'] == 'public health']\n",
    "    dp = results[results['subject'] == 'data protection']\n",
    "    sp = results[results['subject'] == 'social policy']\n",
    "    \n",
    "    if len(dp) > 0:\n",
    "        return 'data protection'\n",
    "    if len(ph) > 0:\n",
    "        return 'public health'\n",
    "    if len(sp) > 0:\n",
    "        return 'social policy'\n",
    "    if len(results) > 0:\n",
    "        return results.iloc[0,1]\n",
    "    return ''"
   ]
  },
  {
   "cell_type": "code",
   "execution_count": null,
   "metadata": {},
   "outputs": [],
   "source": [
    "# newDf = pd.DataFrame()\n",
    "# newDf.columns = ['source_case', 'num_source_case_citations', 'similar_case', 'num_similar_case_citations','similarity_score', 'method','citation_link', 'citation_link_type', 'source_case_topic','target_case_topic']\n",
    "\n",
    "new_rows = []\n",
    "for index, row in df.iterrows():\n",
    "    current_row = []\n",
    "    current_row.append(row['source_case'])\n",
    "    current_row.append(find_num_citations(row['source_case']))\n",
    "    current_row.append(row['similar_case'])\n",
    "    current_row.append(find_num_citations(row['similar_case']))\n",
    "    current_row.append(row['similarity_score'])\n",
    "    current_row.append(row['method'])\n",
    "    current_row.append(row['citation_link'])\n",
    "    current_row.append(get_citation_type(row['source_case'], row['similar_case']))\n",
    "    current_row.append(row['source_case_topic'])\n",
    "    current_row.append(find_case_topic(row['similar_case']))\n",
    "    new_rows.append(current_row)\n",
    "    \n",
    "print(new_rows[0:4])\n",
    "# finalDf = pd.DataFrame(new_rows)\n",
    "\n",
    "# superfinalDf = newDf.append(finalDf,ignore_index=False)"
   ]
  },
  {
   "cell_type": "code",
   "execution_count": null,
   "metadata": {},
   "outputs": [],
   "source": [
    "print(superfinalDf.head(100))"
   ]
  }
 ],
 "metadata": {
  "kernelspec": {
   "display_name": "Python 3",
   "language": "python",
   "name": "python3"
  },
  "language_info": {
   "codemirror_mode": {
    "name": "ipython",
    "version": 3
   },
   "file_extension": ".py",
   "mimetype": "text/x-python",
   "name": "python",
   "nbconvert_exporter": "python",
   "pygments_lexer": "ipython3",
   "version": "3.6.8"
  }
 },
 "nbformat": 4,
 "nbformat_minor": 4
}
