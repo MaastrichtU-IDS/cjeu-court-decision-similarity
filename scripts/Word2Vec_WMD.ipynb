{
 "cells": [
  {
   "cell_type": "code",
   "execution_count": null,
   "metadata": {},
   "outputs": [],
   "source": [
    "def lookup_similar_cases_wmdistance(sample_cases, topic, wmdmodel, vector_size):\n",
    "    global results\n",
    "    count = 1\n",
    "    for item in sample_cases:\n",
    "        wmdistance_32 = WmdSimilarity(documents, model_32, num_best=20)\n",
    "        text = None\n",
    "        with open(path+\"full_text_\"+item+\".txt\",\"r\",encoding='utf-8') as inputfile:\n",
    "            text = inputfile.read()\n",
    "    \n",
    "        if count == 1:\n",
    "            print(text)\n",
    "            print()\n",
    "            print(wmdistance_32[text])\n",
    "            \n",
    "        count+=1\n",
    "        #wmdistance_64 = WmdSimilarity(documents, model_64, num_best=20)\n",
    "        #wmdistance_128 = WmdSimilarity([celex_to_index(item)], model_128, num_best=20)\n",
    "        #wmdistance_256 = WmdSimilarity([celex_to_index(item)], model_256, num_best=20)\n",
    "        #print(wmdistance_32['62016CJ0184'])\n",
    "        #similar_cases_references = convert_to_case_references(similar_cases)\n",
    "        #for reference in similar_cases_references:\n",
    "        #    results.append([item,reference[0],reference[1],\"doc2vec_\"+str(vector_size)+\"_wmd\",exists_citation_link_between(item,reference[0]),topic])"
   ]
  },
  {
   "cell_type": "code",
   "execution_count": null,
   "metadata": {},
   "outputs": [],
   "source": [
    "#print(wmdistance_32[])\n",
    "\n",
    "lookup_similar_cases_wmdistance(publichealth,'public health',wmdistance_32,32)\n",
    "# lookup_similar_cases_wmdistance(publichealth,'public health',wmdistance_64,64)\n",
    "# lookup_similar_cases_wmdistance(publichealth,'public health',wmdistance_128,128)\n",
    "# lookup_similar_cases_wmdistance(publichealth,'public health',wmdistance_256,256)\n",
    "\n",
    "# lookup_similar_cases_wmdistance(socialpolicy,'social policy',wmdistance_32,32)\n",
    "# lookup_similar_cases_wmdistance(socialpolicy,'social policy',wmdistance_64,64)\n",
    "# lookup_similar_cases_wmdistance(socialpolicy,'social policy',wmdistance_128,128)\n",
    "# lookup_similar_cases_wmdistance(socialpolicy,'social policy',wmdistance_256,256)\n",
    "\n",
    "# lookup_similar_cases_wmdistance(dataprotection,'data protection',wmdistance_32,32)\n",
    "# lookup_similar_cases_wmdistance(dataprotection,'data protection',wmdistance_64,64)\n",
    "# lookup_similar_cases_wmdistance(dataprotection,'data protection',wmdistance_128,128)\n",
    "# lookup_similar_cases_wmdistance(dataprotection,'data protection',wmdistance_256,256)"
   ]
  },
  {
   "cell_type": "code",
   "execution_count": null,
   "metadata": {},
   "outputs": [],
   "source": [
    "from gensim.similarities import WmdSimilarity\n",
    "\n",
    "wmdistance_32 = WmdSimilarity(sample_cases_indices, model_32, num_best=20)\n",
    "wmdistance_64 = WmdSimilarity(sample_cases_indices, model_64, num_best=20)\n",
    "wmdistance_128 = WmdSimilarity(sample_cases_indices, model_128, num_best=20)\n",
    "wmdistance_256 = WmdSimilarity(sample_cases_indices, model_256, num_best=20)"
   ]
  }
 ],
 "metadata": {
  "kernelspec": {
   "display_name": "Python 3",
   "language": "python",
   "name": "python3"
  },
  "language_info": {
   "codemirror_mode": {
    "name": "ipython",
    "version": 3
   },
   "file_extension": ".py",
   "mimetype": "text/x-python",
   "name": "python",
   "nbconvert_exporter": "python",
   "pygments_lexer": "ipython3",
   "version": "3.6.8"
  }
 },
 "nbformat": 4,
 "nbformat_minor": 4
}
