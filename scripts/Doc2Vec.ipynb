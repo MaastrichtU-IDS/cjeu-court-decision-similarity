{
 "cells": [
  {
   "cell_type": "markdown",
   "metadata": {},
   "source": [
    "# EUR-LEX Case Similarity Notebook: Doc2Vec"
   ]
  },
  {
   "cell_type": "markdown",
   "metadata": {},
   "source": [
    "### Abstract: \n",
    "#### This notebook implements Doc2Vec document similarity measures (based on Word2Vec) on EUR-LEX judgements and orders"
   ]
  },
  {
   "cell_type": "markdown",
   "metadata": {},
   "source": [
    "### Step 1. Import data & resources"
   ]
  },
  {
   "cell_type": "markdown",
   "metadata": {},
   "source": [
    "#### I.e. import full texts of cases from file, define a mapping to case IDs so we can lookup Doc2Vec similarity values by caseID, import stopwords file"
   ]
  },
  {
   "cell_type": "code",
   "execution_count": 28,
   "metadata": {},
   "outputs": [
    {
     "name": "stdout",
     "output_type": "stream",
     "text": [
      "Doc2Vec document similarity analyser\n",
      "------------------------------------\n",
      "\n",
      "* Building index of documents...\n",
      " Index successfully built!\n",
      "\n"
     ]
    }
   ],
   "source": [
    "from gensim.test.utils import common_texts\n",
    "from gensim.models.doc2vec import Doc2Vec, TaggedDocument\n",
    "import os\n",
    "import pickle\n",
    "import nltk\n",
    "from nltk.corpus import stopwords\n",
    "import time\n",
    "\n",
    "start = time.time()\n",
    "\n",
    "print(\"Doc2Vec document similarity analyser\")\n",
    "print(\"------------------------------------\")\n",
    "print()\n",
    "\n",
    "print(\"* Building index of documents...\")\n",
    "\n",
    "# List all documents in directory\n",
    "path = \"../inputdata/full_texts_all_cases/\"\n",
    "\n",
    "# Import stopwords           \n",
    "stopwordsfile = \"../script_resources/stopwords.pickle\"\n",
    "stopwords_full = []\n",
    "with open(stopwordsfile, \"rb\") as f:\n",
    "    tmp = pickle.load(f)\n",
    "    stopwords_full.extend(list(tmp))\n",
    "    stopwords_full.extend(stopwords.words('english'))\n",
    "    \n",
    "stopwords_full = list(set(stopwords_full))\n",
    "\n",
    "# Only keep celex number from filename\n",
    "def cleanfilename(name):\n",
    "    result = \"\"\n",
    "    result = name.replace(\"full_text_\",\"\")\n",
    "    result = result.replace(\".txt\",\"\")\n",
    "    return result\n",
    "\n",
    "def remove_stopwords(text):\n",
    "    global stopwords_full\n",
    "    for item in stopwords_full:\n",
    "        text = text.replace(str(item),'')\n",
    "    return text\n",
    "\n",
    "# Import files and define mapping between case IDS and full texts   \n",
    "files = []\n",
    "index_to_celex = {}\n",
    "datafortraining = []\n",
    "index = 0\n",
    "for r, d, f in os.walk(path):\n",
    "    for file in f:\n",
    "        if '.txt' in file:\n",
    "            files.append(os.path.join(r, file))\n",
    "            celexnum = cleanfilename(os.path.basename(file))\n",
    "            with open (path+file, \"r\", encoding=\"utf-8\" ) as myfile:\n",
    "                data = myfile.read().replace('\\n', '')\n",
    "                data = remove_stopwords(data)\n",
    "                datafortraining.append(data)\n",
    "                index_to_celex[index] = file\n",
    "                index += 1\n",
    "\n",
    "documents = [TaggedDocument(file, [i]) for i, file in enumerate(datafortraining)]\n",
    "\n",
    "print(\" Index successfully built!\")\n",
    "print()"
   ]
  },
  {
   "cell_type": "markdown",
   "metadata": {},
   "source": [
    "### Step 2. Train Doc2Vec model on input case texts"
   ]
  },
  {
   "cell_type": "code",
   "execution_count": 29,
   "metadata": {},
   "outputs": [
    {
     "name": "stdout",
     "output_type": "stream",
     "text": [
      "* Loading / training Doc2Vec models...\n",
      "\n",
      "* Vector size 32\n",
      "\n",
      "\n",
      " training model...\n",
      " successfully trained model!\n",
      " saving model to file...\n",
      " successfully saved model!\n",
      "\n",
      "* Vector size 64\n",
      " training model...\n"
     ]
    },
    {
     "name": "stderr",
     "output_type": "stream",
     "text": [
      "c:\\users\\kody.moodley\\appdata\\local\\continuum\\anaconda3\\envs\\python36\\lib\\site-packages\\smart_open\\smart_open_lib.py:398: UserWarning: This function is deprecated, use smart_open.open instead. See the migration notes for details: https://github.com/RaRe-Technologies/smart_open/blob/master/README.rst#migrating-to-the-new-open-function\n",
      "  'See the migration notes for details: %s' % _MIGRATION_NOTES_URL\n"
     ]
    },
    {
     "name": "stdout",
     "output_type": "stream",
     "text": [
      " successfully trained model!\n",
      " saving model to file...\n",
      " successfully saved model!\n",
      "\n",
      "* Vector size 128\n",
      " training model...\n"
     ]
    },
    {
     "name": "stderr",
     "output_type": "stream",
     "text": [
      "c:\\users\\kody.moodley\\appdata\\local\\continuum\\anaconda3\\envs\\python36\\lib\\site-packages\\smart_open\\smart_open_lib.py:398: UserWarning: This function is deprecated, use smart_open.open instead. See the migration notes for details: https://github.com/RaRe-Technologies/smart_open/blob/master/README.rst#migrating-to-the-new-open-function\n",
      "  'See the migration notes for details: %s' % _MIGRATION_NOTES_URL\n"
     ]
    },
    {
     "name": "stdout",
     "output_type": "stream",
     "text": [
      " successfully trained model!\n",
      " saving model to file...\n",
      " successfully saved model!\n",
      "\n",
      "* Vector size 256\n",
      " training model...\n"
     ]
    },
    {
     "name": "stderr",
     "output_type": "stream",
     "text": [
      "c:\\users\\kody.moodley\\appdata\\local\\continuum\\anaconda3\\envs\\python36\\lib\\site-packages\\smart_open\\smart_open_lib.py:398: UserWarning: This function is deprecated, use smart_open.open instead. See the migration notes for details: https://github.com/RaRe-Technologies/smart_open/blob/master/README.rst#migrating-to-the-new-open-function\n",
      "  'See the migration notes for details: %s' % _MIGRATION_NOTES_URL\n"
     ]
    },
    {
     "name": "stdout",
     "output_type": "stream",
     "text": [
      " successfully trained model!\n",
      " saving model to file...\n"
     ]
    },
    {
     "name": "stderr",
     "output_type": "stream",
     "text": [
      "c:\\users\\kody.moodley\\appdata\\local\\continuum\\anaconda3\\envs\\python36\\lib\\site-packages\\smart_open\\smart_open_lib.py:398: UserWarning: This function is deprecated, use smart_open.open instead. See the migration notes for details: https://github.com/RaRe-Technologies/smart_open/blob/master/README.rst#migrating-to-the-new-open-function\n",
      "  'See the migration notes for details: %s' % _MIGRATION_NOTES_URL\n"
     ]
    },
    {
     "name": "stdout",
     "output_type": "stream",
     "text": [
      " successfully saved model!\n",
      "\n"
     ]
    }
   ],
   "source": [
    "import os.path\n",
    "from gensim.test.utils import get_tmpfile\n",
    "\n",
    "print(\"* Loading / training Doc2Vec models...\")\n",
    "\n",
    "model_32 = None\n",
    "model_64 = None\n",
    "model_128 = None\n",
    "model_256 = None\n",
    "\n",
    "fname_32 = None\n",
    "fname_64 = None\n",
    "fname_128 = None\n",
    "fname_256 = None\n",
    "\n",
    "print()\n",
    "print(\"* Vector size 32\")\n",
    "print()\n",
    "\n",
    "if os.path.exists(os.path.join(os.path.join(os.path.realpath('..'), \"script_resources\"), \"doc2vec_32.model\")):\n",
    "    print(\" loading model from file...\")\n",
    "    fname_32 = get_tmpfile(os.path.join(os.path.join(os.path.realpath('..'), \"script_resources\"), \"doc2vec_32.model\"))\n",
    "    model_32 = Doc2Vec.load(fname_32)\n",
    "    print(\" successfully loaded model!\")\n",
    "else:\n",
    "    print(\" training model...\")\n",
    "    model_32 = Doc2Vec(documents, vector_size=32, window=5, min_count=1, workers=4)\n",
    "    model_32.train(documents, total_examples=model_32.corpus_count,epochs=20)\n",
    "    print(\" successfully trained model!\")\n",
    "    print(\" saving model to file...\")\n",
    "    fname_32 = get_tmpfile(os.path.join(os.path.join(os.path.realpath('..'), \"script_resources\"), \"doc2vec_32.model\"))\n",
    "    model_32.save(fname_32)\n",
    "    print(\" successfully saved model!\")\n",
    "    \n",
    "print()\n",
    "\n",
    "print(\"* Vector size 64\")\n",
    "if os.path.exists(os.path.join(os.path.join(os.path.realpath('..'), \"script_resources\"), \"doc2vec_64.model\")):\n",
    "    print(\" loading model from file...\")\n",
    "    fname_64 = get_tmpfile(os.path.join(os.path.join(os.path.realpath('..'), \"script_resources\"), \"doc2vec_64.model\"))\n",
    "    model_64 = Doc2Vec.load(fname_64)\n",
    "    print(\" successfully loaded model!\")\n",
    "else:\n",
    "    print(\" training model...\")\n",
    "    model_64 = Doc2Vec(documents, vector_size=64, window=5, min_count=1, workers=4)\n",
    "    model_64.train(documents, total_examples=model_64.corpus_count,epochs=20)\n",
    "    print(\" successfully trained model!\")\n",
    "    print(\" saving model to file...\")\n",
    "    fname_64 = get_tmpfile(os.path.join(os.path.join(os.path.realpath('..'), \"script_resources\"), \"doc2vec_64.model\"))\n",
    "    model_64.save(fname_64)\n",
    "    print(\" successfully saved model!\")\n",
    "    \n",
    "print()\n",
    "\n",
    "print(\"* Vector size 128\")\n",
    "if os.path.exists(os.path.join(os.path.join(os.path.realpath('..'), \"script_resources\"), \"doc2vec_128.model\")):\n",
    "    print(\" loading model from file...\")\n",
    "    fname_128 = get_tmpfile(os.path.join(os.path.join(os.path.realpath('..'), \"script_resources\"), \"doc2vec_128.model\"))\n",
    "    model_128 = Doc2Vec.load(fname_128)\n",
    "    print(\" successfully loaded model!\")\n",
    "else:\n",
    "    print(\" training model...\")\n",
    "    model_128 = Doc2Vec(documents, vector_size=128, window=5, min_count=1, workers=4)\n",
    "    model_128.train(documents, total_examples=model_128.corpus_count,epochs=20)\n",
    "    print(\" successfully trained model!\")\n",
    "    print(\" saving model to file...\")\n",
    "    fname_128 = get_tmpfile(os.path.join(os.path.join(os.path.realpath('..'), \"script_resources\"), \"doc2vec_128.model\"))\n",
    "    model_128.save(fname_128)\n",
    "    print(\" successfully saved model!\")\n",
    "\n",
    "print()\n",
    "    \n",
    "print(\"* Vector size 256\")\n",
    "if os.path.exists(os.path.join(os.path.join(os.path.realpath('..'), \"script_resources\"), \"doc2vec_256.model\")):\n",
    "    print(\" loading model from file...\")\n",
    "    fname_256 = get_tmpfile(os.path.join(os.path.join(os.path.realpath('..'), \"script_resources\"), \"doc2vec_256.model\"))\n",
    "    model_256 = Doc2Vec.load(fname_256)\n",
    "    print(\" successfully loaded model!\")\n",
    "else:\n",
    "    print(\" training model...\")\n",
    "    model_256 = Doc2Vec(documents, vector_size=256, window=5, min_count=1, workers=4)\n",
    "    model_256.train(documents, total_examples=model_256.corpus_count,epochs=20)\n",
    "    print(\" successfully trained model!\")\n",
    "    print(\" saving model to file...\")\n",
    "    fname_256 = get_tmpfile(os.path.join(os.path.join(os.path.realpath('..'), \"script_resources\"), \"doc2vec_256.model\"))\n",
    "    model_256.save(fname_256)\n",
    "    print(\" successfully saved model!\")\n",
    "print()"
   ]
  },
  {
   "cell_type": "markdown",
   "metadata": {},
   "source": [
    "### Step 3. Import sample cases"
   ]
  },
  {
   "cell_type": "code",
   "execution_count": 41,
   "metadata": {},
   "outputs": [
    {
     "name": "stdout",
     "output_type": "stream",
     "text": [
      "* Importing sample cases...\n",
      " Successfully imported sample cases!\n",
      "\n"
     ]
    }
   ],
   "source": [
    "def getfile(celexnumber):\n",
    "    # r=root, d=directories, f = files\n",
    "    for r, d, f in os.walk(path):\n",
    "        for file in f:\n",
    "            if celexnumber in file:\n",
    "                return file\n",
    "    return None\n",
    "\n",
    "def celex_to_index(celexnumber):\n",
    "    file = getfile(celexnumber)\n",
    "    for k, v in index_to_celex.items():\n",
    "        if v == file:\n",
    "            return k\n",
    "    return -1\n",
    "\n",
    "import pandas as pd\n",
    "\n",
    "print(\"* Importing sample cases...\")\n",
    "# Fetch sample cases from file\n",
    "def get_sample_cases(topic):\n",
    "    data = pd.read_csv(\"../inputdata/sampled_cases.csv\")\n",
    "    relevant_rows = data[data['topic'] == topic]\n",
    "    return relevant_rows['source'].tolist()\n",
    "\n",
    "# Celex numbers of reference cases\n",
    "publichealth = get_sample_cases('public health')\n",
    "socialpolicy = get_sample_cases('social policy')\n",
    "dataprotection = get_sample_cases('data protection')\n",
    "\n",
    "publichealth_indices = []\n",
    "socialpolicy_indices = []\n",
    "dataprotection_indices = []\n",
    "sample_cases_indices = []\n",
    "\n",
    "for item in publichealth:\n",
    "    sample_cases_indices.append(celex_to_index(item))\n",
    "\n",
    "for item in socialpolicy:\n",
    "    sample_cases_indices.append(celex_to_index(item))\n",
    "\n",
    "for item in dataprotection:\n",
    "    sample_cases_indices.append(celex_to_index(item))\n",
    "\n",
    "print(\" Successfully imported sample cases!\")\n",
    "print()\n",
    "\n",
    "# print(publichealth)\n",
    "# print(socialpolicy)\n",
    "# print(dataprotection)"
   ]
  },
  {
   "cell_type": "markdown",
   "metadata": {},
   "source": [
    "### Step 4. Define functions mapping between case ID, filename, and associated full text (references to same document)"
   ]
  },
  {
   "cell_type": "code",
   "execution_count": 42,
   "metadata": {},
   "outputs": [],
   "source": [
    "# Function to convert entire similarity results to case ID references\n",
    "def convert_to_case_references(doc2vec_result):\n",
    "    global index_to_celex\n",
    "    result = []\n",
    "    for item in doc2vec_result:\n",
    "        case_reference = cleanfilename(index_to_celex[item[0]]) # convert to case reference\n",
    "        similarity_value = item[1]\n",
    "        result.append((case_reference,similarity_value))\n",
    "    return result"
   ]
  },
  {
   "cell_type": "markdown",
   "metadata": {},
   "source": [
    "### Step 5. Define functions to look up citations for a given case, and to check if there is a citation link between two cases"
   ]
  },
  {
   "cell_type": "code",
   "execution_count": 43,
   "metadata": {},
   "outputs": [
    {
     "name": "stdout",
     "output_type": "stream",
     "text": [
      "* Import citations for cases...\n",
      " Successfully imported citations!\n",
      "\n"
     ]
    }
   ],
   "source": [
    "print(\"* Import citations for cases...\")\n",
    "citations = pd.read_csv('../inputdata/all_cases_citations.csv')\n",
    "print(\" Successfully imported citations!\")\n",
    "print()\n",
    "\n",
    "def find_cited_cases(celexnumber):\n",
    "    global citations\n",
    "    relevantsource = citations[citations['source'] == celexnumber]\n",
    "    return relevantsource['target'].tolist()\n",
    "\n",
    "def exists_citation_link_between(celexnumber1,celexnumber2):\n",
    "    global citations\n",
    "    relevantsource1 = citations[citations['source'] == celexnumber1]\n",
    "    relevantsource2 = citations[citations['source'] == celexnumber2]\n",
    "    if celexnumber2 in relevantsource1['target'].tolist() or celexnumber1 in relevantsource2['target'].tolist():\n",
    "        return True\n",
    "    return False"
   ]
  },
  {
   "cell_type": "markdown",
   "metadata": {},
   "source": [
    "### Step 6. Look up top n similar cases per sample case"
   ]
  },
  {
   "cell_type": "code",
   "execution_count": 50,
   "metadata": {},
   "outputs": [
    {
     "name": "stdout",
     "output_type": "stream",
     "text": [
      "* Computing similar cases...\n"
     ]
    }
   ],
   "source": [
    "results = []\n",
    "\n",
    "from gensim.similarities import WmdSimilarity\n",
    "\n",
    "# wmdistance_32 = WmdSimilarity(sample_cases_indices, model_32, num_best=20)\n",
    "# wmdistance_64 = WmdSimilarity(sample_cases_indices, model_64, num_best=20)\n",
    "# wmdistance_128 = WmdSimilarity(sample_cases_indices, model_128, num_best=20)\n",
    "# wmdistance_256 = WmdSimilarity(sample_cases_indices, model_256, num_best=20)\n",
    "\n",
    "def lookup_similar_cases(sample_cases, n, topic, model, modelfilename):\n",
    "    global results\n",
    "\n",
    "    for item in sample_cases:\n",
    "        similar_cases = model.docvecs.most_similar(celex_to_index(item), topn=n)\n",
    "        similar_cases_references = convert_to_case_references(similar_cases)\n",
    "        for reference in similar_cases_references:\n",
    "            method = modelfilename[-17:]\n",
    "            method = method.replace(\".model\",\"\")\n",
    "            method = method.replace('\\\\',\"\")\n",
    "            method = method + str(\"_default\")\n",
    "            results.append([item,reference[0],reference[1],method,exists_citation_link_between(item,reference[0]),topic])\n",
    "\n",
    "def lookup_similar_cases_wmdistance(sample_cases, topic, wmdmodel, vector_size):\n",
    "    global results\n",
    "\n",
    "    for item in sample_cases:\n",
    "        wmdistance_32 = WmdSimilarity([celex_to_index(item)], model_32, num_best=20)\n",
    "        wmdistance_64 = WmdSimilarity([celex_to_index(item)], model_64, num_best=20)\n",
    "        wmdistance_128 = WmdSimilarity([celex_to_index(item)], model_128, num_best=20)\n",
    "        wmdistance_256 = WmdSimilarity([celex_to_index(item)], model_256, num_best=20)\n",
    "        print(wmdistance_32['62016CJ0184'])\n",
    "        similar_cases_references = convert_to_case_references(similar_cases)\n",
    "        for reference in similar_cases_references:\n",
    "            results.append([item,reference[0],reference[1],\"doc2vec_\"+str(vector_size)+\"_wmd\",exists_citation_link_between(item,reference[0]),topic])\n",
    "            \n",
    "print(\"* Computing similar cases...\")\n",
    "\n"
   ]
  },
  {
   "cell_type": "code",
   "execution_count": null,
   "metadata": {},
   "outputs": [],
   "source": [
    "lookup_similar_cases(publichealth,20,'public health', model_32, fname_32)\n",
    "lookup_similar_cases(publichealth,20,'public health', model_64, fname_64)\n",
    "lookup_similar_cases(publichealth,20,'public health', model_128, fname_128)\n",
    "lookup_similar_cases(publichealth,20,'public health', model_256, fname_256)\n",
    "\n",
    "lookup_similar_cases(socialpolicy,20,'social policy', model_32, fname_32)\n",
    "lookup_similar_cases(socialpolicy,20,'social policy', model_64, fname_64)\n",
    "lookup_similar_cases(socialpolicy,20,'social policy', model_128, fname_128)\n",
    "lookup_similar_cases(socialpolicy,20,'social policy', model_256, fname_256)\n",
    "\n",
    "lookup_similar_cases(dataprotection,20,'data protection', model_32, fname_32)\n",
    "lookup_similar_cases(dataprotection,20,'data protection', model_64, fname_64)\n",
    "lookup_similar_cases(dataprotection,20,'data protection', model_128, fname_128)\n",
    "lookup_similar_cases(dataprotection,20,'data protection', model_256, fname_256)\n",
    "\n",
    "print(\" Successfully computed similar cases!\")\n",
    "print()"
   ]
  },
  {
   "cell_type": "code",
   "execution_count": 51,
   "metadata": {},
   "outputs": [
    {
     "ename": "TypeError",
     "evalue": "object of type 'int' has no len()",
     "output_type": "error",
     "traceback": [
      "\u001b[1;31m---------------------------------------------------------------------------\u001b[0m",
      "\u001b[1;31mTypeError\u001b[0m                                 Traceback (most recent call last)",
      "\u001b[1;32m<ipython-input-51-cd18576c98d7>\u001b[0m in \u001b[0;36m<module>\u001b[1;34m\u001b[0m\n\u001b[0;32m      1\u001b[0m \u001b[1;31m#print(wmdistance_32[])\u001b[0m\u001b[1;33m\u001b[0m\u001b[1;33m\u001b[0m\u001b[1;33m\u001b[0m\u001b[0m\n\u001b[0;32m      2\u001b[0m \u001b[1;33m\u001b[0m\u001b[0m\n\u001b[1;32m----> 3\u001b[1;33m \u001b[0mlookup_similar_cases_wmdistance\u001b[0m\u001b[1;33m(\u001b[0m\u001b[0mpublichealth\u001b[0m\u001b[1;33m,\u001b[0m\u001b[1;34m'public health'\u001b[0m\u001b[1;33m,\u001b[0m\u001b[0mwmdistance_32\u001b[0m\u001b[1;33m,\u001b[0m\u001b[1;36m32\u001b[0m\u001b[1;33m)\u001b[0m\u001b[1;33m\u001b[0m\u001b[1;33m\u001b[0m\u001b[0m\n\u001b[0m\u001b[0;32m      4\u001b[0m \u001b[1;31m# lookup_similar_cases_wmdistance(publichealth,'public health',wmdistance_64,64)\u001b[0m\u001b[1;33m\u001b[0m\u001b[1;33m\u001b[0m\u001b[1;33m\u001b[0m\u001b[0m\n\u001b[0;32m      5\u001b[0m \u001b[1;31m# lookup_similar_cases_wmdistance(publichealth,'public health',wmdistance_128,128)\u001b[0m\u001b[1;33m\u001b[0m\u001b[1;33m\u001b[0m\u001b[1;33m\u001b[0m\u001b[0m\n",
      "\u001b[1;32m<ipython-input-50-fbdc5b3b1fbe>\u001b[0m in \u001b[0;36mlookup_similar_cases_wmdistance\u001b[1;34m(sample_cases, topic, wmdmodel, vector_size)\u001b[0m\n\u001b[0;32m     29\u001b[0m         \u001b[0mwmdistance_128\u001b[0m \u001b[1;33m=\u001b[0m \u001b[0mWmdSimilarity\u001b[0m\u001b[1;33m(\u001b[0m\u001b[1;33m[\u001b[0m\u001b[0mcelex_to_index\u001b[0m\u001b[1;33m(\u001b[0m\u001b[0mitem\u001b[0m\u001b[1;33m)\u001b[0m\u001b[1;33m]\u001b[0m\u001b[1;33m,\u001b[0m \u001b[0mmodel_128\u001b[0m\u001b[1;33m,\u001b[0m \u001b[0mnum_best\u001b[0m\u001b[1;33m=\u001b[0m\u001b[1;36m20\u001b[0m\u001b[1;33m)\u001b[0m\u001b[1;33m\u001b[0m\u001b[1;33m\u001b[0m\u001b[0m\n\u001b[0;32m     30\u001b[0m         \u001b[0mwmdistance_256\u001b[0m \u001b[1;33m=\u001b[0m \u001b[0mWmdSimilarity\u001b[0m\u001b[1;33m(\u001b[0m\u001b[1;33m[\u001b[0m\u001b[0mcelex_to_index\u001b[0m\u001b[1;33m(\u001b[0m\u001b[0mitem\u001b[0m\u001b[1;33m)\u001b[0m\u001b[1;33m]\u001b[0m\u001b[1;33m,\u001b[0m \u001b[0mmodel_256\u001b[0m\u001b[1;33m,\u001b[0m \u001b[0mnum_best\u001b[0m\u001b[1;33m=\u001b[0m\u001b[1;36m20\u001b[0m\u001b[1;33m)\u001b[0m\u001b[1;33m\u001b[0m\u001b[1;33m\u001b[0m\u001b[0m\n\u001b[1;32m---> 31\u001b[1;33m         \u001b[0mprint\u001b[0m\u001b[1;33m(\u001b[0m\u001b[0mwmdistance_32\u001b[0m\u001b[1;33m[\u001b[0m\u001b[1;34m'62016CJ0184'\u001b[0m\u001b[1;33m]\u001b[0m\u001b[1;33m)\u001b[0m\u001b[1;33m\u001b[0m\u001b[1;33m\u001b[0m\u001b[0m\n\u001b[0m\u001b[0;32m     32\u001b[0m         \u001b[0msimilar_cases_references\u001b[0m \u001b[1;33m=\u001b[0m \u001b[0mconvert_to_case_references\u001b[0m\u001b[1;33m(\u001b[0m\u001b[0msimilar_cases\u001b[0m\u001b[1;33m)\u001b[0m\u001b[1;33m\u001b[0m\u001b[1;33m\u001b[0m\u001b[0m\n\u001b[0;32m     33\u001b[0m         \u001b[1;32mfor\u001b[0m \u001b[0mreference\u001b[0m \u001b[1;32min\u001b[0m \u001b[0msimilar_cases_references\u001b[0m\u001b[1;33m:\u001b[0m\u001b[1;33m\u001b[0m\u001b[1;33m\u001b[0m\u001b[0m\n",
      "\u001b[1;32mc:\\users\\kody.moodley\\appdata\\local\\continuum\\anaconda3\\envs\\python36\\lib\\site-packages\\gensim\\interfaces.py\u001b[0m in \u001b[0;36m__getitem__\u001b[1;34m(self, query)\u001b[0m\n\u001b[0;32m    338\u001b[0m                 \u001b[1;32melse\u001b[0m\u001b[1;33m:\u001b[0m\u001b[1;33m\u001b[0m\u001b[1;33m\u001b[0m\u001b[0m\n\u001b[0;32m    339\u001b[0m                     \u001b[0mquery\u001b[0m \u001b[1;33m=\u001b[0m \u001b[0mmatutils\u001b[0m\u001b[1;33m.\u001b[0m\u001b[0munitvec\u001b[0m\u001b[1;33m(\u001b[0m\u001b[0mquery\u001b[0m\u001b[1;33m)\u001b[0m\u001b[1;33m\u001b[0m\u001b[1;33m\u001b[0m\u001b[0m\n\u001b[1;32m--> 340\u001b[1;33m         \u001b[0mresult\u001b[0m \u001b[1;33m=\u001b[0m \u001b[0mself\u001b[0m\u001b[1;33m.\u001b[0m\u001b[0mget_similarities\u001b[0m\u001b[1;33m(\u001b[0m\u001b[0mquery\u001b[0m\u001b[1;33m)\u001b[0m\u001b[1;33m\u001b[0m\u001b[1;33m\u001b[0m\u001b[0m\n\u001b[0m\u001b[0;32m    341\u001b[0m \u001b[1;33m\u001b[0m\u001b[0m\n\u001b[0;32m    342\u001b[0m         \u001b[1;32mif\u001b[0m \u001b[0mself\u001b[0m\u001b[1;33m.\u001b[0m\u001b[0mnum_best\u001b[0m \u001b[1;32mis\u001b[0m \u001b[1;32mNone\u001b[0m\u001b[1;33m:\u001b[0m\u001b[1;33m\u001b[0m\u001b[1;33m\u001b[0m\u001b[0m\n",
      "\u001b[1;32mc:\\users\\kody.moodley\\appdata\\local\\continuum\\anaconda3\\envs\\python36\\lib\\site-packages\\gensim\\similarities\\docsim.py\u001b[0m in \u001b[0;36mget_similarities\u001b[1;34m(self, query)\u001b[0m\n\u001b[0;32m   1064\u001b[0m         \u001b[1;32mfor\u001b[0m \u001b[0mqidx\u001b[0m \u001b[1;32min\u001b[0m \u001b[0mrange\u001b[0m\u001b[1;33m(\u001b[0m\u001b[0mn_queries\u001b[0m\u001b[1;33m)\u001b[0m\u001b[1;33m:\u001b[0m\u001b[1;33m\u001b[0m\u001b[1;33m\u001b[0m\u001b[0m\n\u001b[0;32m   1065\u001b[0m             \u001b[1;31m# Compute similarity for each query.\u001b[0m\u001b[1;33m\u001b[0m\u001b[1;33m\u001b[0m\u001b[1;33m\u001b[0m\u001b[0m\n\u001b[1;32m-> 1066\u001b[1;33m             \u001b[0mqresult\u001b[0m \u001b[1;33m=\u001b[0m \u001b[1;33m[\u001b[0m\u001b[0mself\u001b[0m\u001b[1;33m.\u001b[0m\u001b[0mw2v_model\u001b[0m\u001b[1;33m.\u001b[0m\u001b[0mwv\u001b[0m\u001b[1;33m.\u001b[0m\u001b[0mwmdistance\u001b[0m\u001b[1;33m(\u001b[0m\u001b[0mdocument\u001b[0m\u001b[1;33m,\u001b[0m \u001b[0mquery\u001b[0m\u001b[1;33m[\u001b[0m\u001b[0mqidx\u001b[0m\u001b[1;33m]\u001b[0m\u001b[1;33m)\u001b[0m \u001b[1;32mfor\u001b[0m \u001b[0mdocument\u001b[0m \u001b[1;32min\u001b[0m \u001b[0mself\u001b[0m\u001b[1;33m.\u001b[0m\u001b[0mcorpus\u001b[0m\u001b[1;33m]\u001b[0m\u001b[1;33m\u001b[0m\u001b[1;33m\u001b[0m\u001b[0m\n\u001b[0m\u001b[0;32m   1067\u001b[0m             \u001b[0mqresult\u001b[0m \u001b[1;33m=\u001b[0m \u001b[0mnumpy\u001b[0m\u001b[1;33m.\u001b[0m\u001b[0marray\u001b[0m\u001b[1;33m(\u001b[0m\u001b[0mqresult\u001b[0m\u001b[1;33m)\u001b[0m\u001b[1;33m\u001b[0m\u001b[1;33m\u001b[0m\u001b[0m\n\u001b[0;32m   1068\u001b[0m             \u001b[0mqresult\u001b[0m \u001b[1;33m=\u001b[0m \u001b[1;36m1.\u001b[0m \u001b[1;33m/\u001b[0m \u001b[1;33m(\u001b[0m\u001b[1;36m1.\u001b[0m \u001b[1;33m+\u001b[0m \u001b[0mqresult\u001b[0m\u001b[1;33m)\u001b[0m  \u001b[1;31m# Similarity is the negative of the distance.\u001b[0m\u001b[1;33m\u001b[0m\u001b[1;33m\u001b[0m\u001b[0m\n",
      "\u001b[1;32mc:\\users\\kody.moodley\\appdata\\local\\continuum\\anaconda3\\envs\\python36\\lib\\site-packages\\gensim\\similarities\\docsim.py\u001b[0m in \u001b[0;36m<listcomp>\u001b[1;34m(.0)\u001b[0m\n\u001b[0;32m   1064\u001b[0m         \u001b[1;32mfor\u001b[0m \u001b[0mqidx\u001b[0m \u001b[1;32min\u001b[0m \u001b[0mrange\u001b[0m\u001b[1;33m(\u001b[0m\u001b[0mn_queries\u001b[0m\u001b[1;33m)\u001b[0m\u001b[1;33m:\u001b[0m\u001b[1;33m\u001b[0m\u001b[1;33m\u001b[0m\u001b[0m\n\u001b[0;32m   1065\u001b[0m             \u001b[1;31m# Compute similarity for each query.\u001b[0m\u001b[1;33m\u001b[0m\u001b[1;33m\u001b[0m\u001b[1;33m\u001b[0m\u001b[0m\n\u001b[1;32m-> 1066\u001b[1;33m             \u001b[0mqresult\u001b[0m \u001b[1;33m=\u001b[0m \u001b[1;33m[\u001b[0m\u001b[0mself\u001b[0m\u001b[1;33m.\u001b[0m\u001b[0mw2v_model\u001b[0m\u001b[1;33m.\u001b[0m\u001b[0mwv\u001b[0m\u001b[1;33m.\u001b[0m\u001b[0mwmdistance\u001b[0m\u001b[1;33m(\u001b[0m\u001b[0mdocument\u001b[0m\u001b[1;33m,\u001b[0m \u001b[0mquery\u001b[0m\u001b[1;33m[\u001b[0m\u001b[0mqidx\u001b[0m\u001b[1;33m]\u001b[0m\u001b[1;33m)\u001b[0m \u001b[1;32mfor\u001b[0m \u001b[0mdocument\u001b[0m \u001b[1;32min\u001b[0m \u001b[0mself\u001b[0m\u001b[1;33m.\u001b[0m\u001b[0mcorpus\u001b[0m\u001b[1;33m]\u001b[0m\u001b[1;33m\u001b[0m\u001b[1;33m\u001b[0m\u001b[0m\n\u001b[0m\u001b[0;32m   1067\u001b[0m             \u001b[0mqresult\u001b[0m \u001b[1;33m=\u001b[0m \u001b[0mnumpy\u001b[0m\u001b[1;33m.\u001b[0m\u001b[0marray\u001b[0m\u001b[1;33m(\u001b[0m\u001b[0mqresult\u001b[0m\u001b[1;33m)\u001b[0m\u001b[1;33m\u001b[0m\u001b[1;33m\u001b[0m\u001b[0m\n\u001b[0;32m   1068\u001b[0m             \u001b[0mqresult\u001b[0m \u001b[1;33m=\u001b[0m \u001b[1;36m1.\u001b[0m \u001b[1;33m/\u001b[0m \u001b[1;33m(\u001b[0m\u001b[1;36m1.\u001b[0m \u001b[1;33m+\u001b[0m \u001b[0mqresult\u001b[0m\u001b[1;33m)\u001b[0m  \u001b[1;31m# Similarity is the negative of the distance.\u001b[0m\u001b[1;33m\u001b[0m\u001b[1;33m\u001b[0m\u001b[0m\n",
      "\u001b[1;32mc:\\users\\kody.moodley\\appdata\\local\\continuum\\anaconda3\\envs\\python36\\lib\\site-packages\\gensim\\models\\keyedvectors.py\u001b[0m in \u001b[0;36mwmdistance\u001b[1;34m(self, document1, document2)\u001b[0m\n\u001b[0;32m    717\u001b[0m \u001b[1;33m\u001b[0m\u001b[0m\n\u001b[0;32m    718\u001b[0m         \u001b[1;31m# Remove out-of-vocabulary words.\u001b[0m\u001b[1;33m\u001b[0m\u001b[1;33m\u001b[0m\u001b[1;33m\u001b[0m\u001b[0m\n\u001b[1;32m--> 719\u001b[1;33m         \u001b[0mlen_pre_oov1\u001b[0m \u001b[1;33m=\u001b[0m \u001b[0mlen\u001b[0m\u001b[1;33m(\u001b[0m\u001b[0mdocument1\u001b[0m\u001b[1;33m)\u001b[0m\u001b[1;33m\u001b[0m\u001b[1;33m\u001b[0m\u001b[0m\n\u001b[0m\u001b[0;32m    720\u001b[0m         \u001b[0mlen_pre_oov2\u001b[0m \u001b[1;33m=\u001b[0m \u001b[0mlen\u001b[0m\u001b[1;33m(\u001b[0m\u001b[0mdocument2\u001b[0m\u001b[1;33m)\u001b[0m\u001b[1;33m\u001b[0m\u001b[1;33m\u001b[0m\u001b[0m\n\u001b[0;32m    721\u001b[0m         \u001b[0mdocument1\u001b[0m \u001b[1;33m=\u001b[0m \u001b[1;33m[\u001b[0m\u001b[0mtoken\u001b[0m \u001b[1;32mfor\u001b[0m \u001b[0mtoken\u001b[0m \u001b[1;32min\u001b[0m \u001b[0mdocument1\u001b[0m \u001b[1;32mif\u001b[0m \u001b[0mtoken\u001b[0m \u001b[1;32min\u001b[0m \u001b[0mself\u001b[0m\u001b[1;33m]\u001b[0m\u001b[1;33m\u001b[0m\u001b[1;33m\u001b[0m\u001b[0m\n",
      "\u001b[1;31mTypeError\u001b[0m: object of type 'int' has no len()"
     ]
    }
   ],
   "source": [
    "#print(wmdistance_32[])\n",
    "\n",
    "lookup_similar_cases_wmdistance(publichealth,'public health',wmdistance_32,32)\n",
    "# lookup_similar_cases_wmdistance(publichealth,'public health',wmdistance_64,64)\n",
    "# lookup_similar_cases_wmdistance(publichealth,'public health',wmdistance_128,128)\n",
    "# lookup_similar_cases_wmdistance(publichealth,'public health',wmdistance_256,256)\n",
    "\n",
    "# lookup_similar_cases_wmdistance(socialpolicy,'social policy',wmdistance_32,32)\n",
    "# lookup_similar_cases_wmdistance(socialpolicy,'social policy',wmdistance_64,64)\n",
    "# lookup_similar_cases_wmdistance(socialpolicy,'social policy',wmdistance_128,128)\n",
    "# lookup_similar_cases_wmdistance(socialpolicy,'social policy',wmdistance_256,256)\n",
    "\n",
    "# lookup_similar_cases_wmdistance(dataprotection,'data protection',wmdistance_32,32)\n",
    "# lookup_similar_cases_wmdistance(dataprotection,'data protection',wmdistance_64,64)\n",
    "# lookup_similar_cases_wmdistance(dataprotection,'data protection',wmdistance_128,128)\n",
    "# lookup_similar_cases_wmdistance(dataprotection,'data protection',wmdistance_256,256)"
   ]
  },
  {
   "cell_type": "markdown",
   "metadata": {},
   "source": [
    "### Step 7. Write results to file"
   ]
  },
  {
   "cell_type": "code",
   "execution_count": 37,
   "metadata": {},
   "outputs": [],
   "source": [
    "print(\"* Writing results to file...\")\n",
    "import csv\n",
    "import os.path\n",
    "\n",
    "if os.path.exists('../outputdata/results.csv') == False:\n",
    "    results.insert(0,['source_case','similar_case','similarity_score','method','citation_link','source_case_topic'])\n",
    "    \n",
    "with open('../outputdata/results.csv', 'a', newline='') as outfile:\n",
    "    writer = csv.writer(outfile, delimiter=',')\n",
    "    writer.writerows(results)\n",
    "    \n",
    "end = time.time()\n",
    "\n",
    "print(\" Successfully wrote files to file!\")\n",
    "print()\n",
    "print(\" Done!\")\n",
    "print()\n",
    "print(\"* Time taken:\",(end-start),\"s\")"
   ]
  }
 ],
 "metadata": {
  "kernelspec": {
   "display_name": "Python 3",
   "language": "python",
   "name": "python3"
  },
  "language_info": {
   "codemirror_mode": {
    "name": "ipython",
    "version": 3
   },
   "file_extension": ".py",
   "mimetype": "text/x-python",
   "name": "python",
   "nbconvert_exporter": "python",
   "pygments_lexer": "ipython3",
   "version": "3.6.8"
  }
 },
 "nbformat": 4,
 "nbformat_minor": 4
}
