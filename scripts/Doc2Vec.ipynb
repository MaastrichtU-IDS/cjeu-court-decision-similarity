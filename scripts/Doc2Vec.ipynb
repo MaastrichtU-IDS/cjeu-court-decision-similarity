{
 "cells": [
  {
   "cell_type": "markdown",
   "metadata": {},
   "source": [
    "# EUR-LEX Case Similarity Notebook: Doc2Vec"
   ]
  },
  {
   "cell_type": "markdown",
   "metadata": {},
   "source": [
    "### Abstract: \n",
    "#### This notebook implements Doc2Vec document similarity measures (based on Word2Vec) on EUR-LEX judgements and orders"
   ]
  },
  {
   "cell_type": "markdown",
   "metadata": {},
   "source": [
    "### Step 1. Import data & resources"
   ]
  },
  {
   "cell_type": "markdown",
   "metadata": {},
   "source": [
    "#### I.e. import full texts of cases from file, define a mapping to case IDs so we can lookup Doc2Vec similarity values by caseID, import stopwords file"
   ]
  },
  {
   "cell_type": "code",
   "execution_count": 23,
   "metadata": {},
   "outputs": [],
   "source": [
    "from gensim.test.utils import common_texts\n",
    "from gensim.models.doc2vec import Doc2Vec, TaggedDocument\n",
    "import os\n",
    "import pickle\n",
    "import nltk\n",
    "from nltk.corpus import stopwords\n",
    "\n",
    "# List all documents in directory\n",
    "path = \"../inputdata/full_texts_all_cases/\"\n",
    "\n",
    "# Import stopwords           \n",
    "stopwordsfile = \"../script_resources/stopwords.pickle\"\n",
    "stopwords_full = []\n",
    "with open(stopwordsfile, \"rb\") as f:\n",
    "    tmp = pickle.load(f)\n",
    "    stopwords_full.extend(list(tmp))\n",
    "    stopwords_full.extend(stopwords.words('english'))\n",
    "    \n",
    "stopwords_full = list(set(stopwords_full))\n",
    "\n",
    "# Only keep celex number from filename\n",
    "def cleanfilename(name):\n",
    "    result = \"\"\n",
    "    result = name.replace(\"full_text_\",\"\")\n",
    "    result = result.replace(\".txt\",\"\")\n",
    "    return result\n",
    "\n",
    "def remove_stopwords(text):\n",
    "    global stopwords_full\n",
    "    for item in stopwords_full:\n",
    "        text = text.replace(str(item),'')\n",
    "    return text\n",
    "\n",
    "# Import files and define mapping between case IDS and full texts   \n",
    "files = []\n",
    "index_to_celex = {}\n",
    "datafortraining = []\n",
    "index = 0\n",
    "for r, d, f in os.walk(path):\n",
    "    for file in f:\n",
    "        if '.txt' in file:\n",
    "            files.append(os.path.join(r, file))\n",
    "            celexnum = cleanfilename(os.path.basename(file))\n",
    "            with open (path+file, \"r\", encoding=\"utf-8\" ) as myfile:\n",
    "                data = myfile.read().replace('\\n', '')\n",
    "                data = remove_stopwords(data)\n",
    "                datafortraining.append(data)\n",
    "                index_to_celex[index] = file\n",
    "                index += 1\n",
    "\n",
    "documents = [TaggedDocument(file, [i]) for i, file in enumerate(datafortraining)]"
   ]
  },
  {
   "cell_type": "markdown",
   "metadata": {},
   "source": [
    "### Step 2. Train Doc2Vec model on input case texts"
   ]
  },
  {
   "cell_type": "code",
   "execution_count": 24,
   "metadata": {},
   "outputs": [],
   "source": [
    "# This will take a while... a few hours\n",
    "model = Doc2Vec(documents, vector_size=32, window=5, min_count=1, workers=4)\n",
    "model.train(documents, total_examples=model.corpus_count,epochs=20)"
   ]
  },
  {
   "cell_type": "markdown",
   "metadata": {},
   "source": [
    "### Step 3. Import sample cases"
   ]
  },
  {
   "cell_type": "code",
   "execution_count": 30,
   "metadata": {},
   "outputs": [],
   "source": [
    "import pandas as pd\n",
    "\n",
    "# Fetch sample cases from file\n",
    "def get_sample_cases(topic):\n",
    "    data = pd.read_csv(\"../inputdata/sampled_cases.csv\")\n",
    "    relevant_rows = data[data['topic'] == topic]\n",
    "    return relevant_rows['source'].tolist()\n",
    "\n",
    "# Celex numbers of reference cases\n",
    "publichealth = get_sample_cases('public health')\n",
    "socialpolicy = get_sample_cases('social policy')\n",
    "dataprotection = get_sample_cases('data protection')\n",
    "\n",
    "# print(publichealth)\n",
    "# print(socialpolicy)\n",
    "# print(dataprotection)"
   ]
  },
  {
   "cell_type": "markdown",
   "metadata": {},
   "source": [
    "### Step 4. Define functions mapping between case ID, filename, and associated full text (references to same document)"
   ]
  },
  {
   "cell_type": "code",
   "execution_count": 31,
   "metadata": {},
   "outputs": [],
   "source": [
    "# Function to convert entire similarity results to case ID references\n",
    "def convert_to_case_references(doc2vec_result):\n",
    "    global index_to_celex\n",
    "    result = []\n",
    "    for item in doc2vec_result:\n",
    "        case_reference = cleanfilename(index_to_celex[item[0]]) # convert to case reference\n",
    "        similarity_value = item[1]\n",
    "        result.append((case_reference,similarity_value))\n",
    "    return result\n",
    "\n",
    "def getfile(celexnumber):\n",
    "    # r=root, d=directories, f = files\n",
    "    for r, d, f in os.walk(path):\n",
    "        for file in f:\n",
    "            if celexnumber in file:\n",
    "                return file\n",
    "    return None\n",
    "\n",
    "def celex_to_index(celexnumber):\n",
    "    file = getfile(celexnumber)\n",
    "    for k, v in index_to_celex.items():\n",
    "        if v == file:\n",
    "            return k\n",
    "    return -1"
   ]
  },
  {
   "cell_type": "markdown",
   "metadata": {},
   "source": [
    "### Step 5. Define functions to look up citations for a given case, and to check if there is a citation link between two cases"
   ]
  },
  {
   "cell_type": "code",
   "execution_count": 32,
   "metadata": {},
   "outputs": [],
   "source": [
    "citations = pd.read_csv('../inputdata/all_cases_citations.csv')\n",
    "\n",
    "def find_cited_cases(celexnumber):\n",
    "    global citations\n",
    "    relevantsource = citations[citations['source'] == celexnumber]\n",
    "    return relevantsource['target'].tolist()\n",
    "\n",
    "def exists_citation_link_between(celexnumber1,celexnumber2):\n",
    "    global citations\n",
    "    relevantsource1 = citations[citations['source'] == celexnumber1]\n",
    "    relevantsource2 = citations[citations['source'] == celexnumber2]\n",
    "    if celexnumber2 in relevantsource1['target'].tolist() or celexnumber1 in relevantsource2['target'].tolist():\n",
    "        return True\n",
    "    return False"
   ]
  },
  {
   "cell_type": "markdown",
   "metadata": {},
   "source": [
    "### Step 6. Look up top n similar cases per sample case"
   ]
  },
  {
   "cell_type": "code",
   "execution_count": 36,
   "metadata": {},
   "outputs": [],
   "source": [
    "results = []\n",
    "\n",
    "def lookup_similar_cases(sample_cases, n, topic):\n",
    "    global results\n",
    "    global model\n",
    "    for item in sample_cases:\n",
    "        similar_cases = model.docvecs.most_similar(celex_to_index(item), topn=n)\n",
    "        similar_cases_references = convert_to_case_references(similar_cases)\n",
    "        for reference in similar_cases_references:\n",
    "            results.append([item,reference[0],reference[1],'doc2vec',exists_citation_link_between(item,reference[0]),topic])\n",
    "            \n",
    "# 1. Public Health\n",
    "lookup_similar_cases(publichealth,20,'public health')\n",
    "# 2. Social Policy\n",
    "lookup_similar_cases(socialpolicy,20,'social policy')\n",
    "# 3. Data Protection\n",
    "lookup_similar_cases(dataprotection,20,'data protection')"
   ]
  },
  {
   "cell_type": "markdown",
   "metadata": {},
   "source": [
    "### Step 7. Write results to file"
   ]
  },
  {
   "cell_type": "code",
   "execution_count": 37,
   "metadata": {},
   "outputs": [],
   "source": [
    "import csv\n",
    "import os.path\n",
    "\n",
    "if os.path.exists('../outputdata/results.csv') == False:\n",
    "    results.insert(0,['source_case','similar_case','similarity_score','method','citation_link','source_case_topic'])\n",
    "    \n",
    "with open('../outputdata/results.csv', 'a', newline='') as outfile:\n",
    "    writer = csv.writer(outfile, delimiter=',')\n",
    "    writer.writerows(results)"
   ]
  }
 ],
 "metadata": {
  "kernelspec": {
   "display_name": "Python 3",
   "language": "python",
   "name": "python3"
  },
  "language_info": {
   "codemirror_mode": {
    "name": "ipython",
    "version": 3
   },
   "file_extension": ".py",
   "mimetype": "text/x-python",
   "name": "python",
   "nbconvert_exporter": "python",
   "pygments_lexer": "ipython3",
   "version": "3.6.8"
  }
 },
 "nbformat": 4,
 "nbformat_minor": 4
}
