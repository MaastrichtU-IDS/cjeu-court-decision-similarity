{
 "cells": [
  {
   "cell_type": "markdown",
   "metadata": {},
   "source": [
    "# EUR-LEX Case Similarity Notebook: Doc2Vec"
   ]
  },
  {
   "cell_type": "markdown",
   "metadata": {},
   "source": [
    "### Abstract: \n",
    "#### This notebook implements Doc2Vec document similarity measures (based on Word2Vec) on EUR-LEX judgements and orders"
   ]
  },
  {
   "cell_type": "markdown",
   "metadata": {},
   "source": [
    "### Step 1. Import data & resources"
   ]
  },
  {
   "cell_type": "markdown",
   "metadata": {},
   "source": [
    "#### I.e. import full texts of cases from file, define a mapping to case IDs so we can lookup Doc2Vec similarity values by caseID, import stopwords file"
   ]
  },
  {
   "cell_type": "code",
   "execution_count": 1,
   "metadata": {},
   "outputs": [
    {
     "name": "stdout",
     "output_type": "stream",
     "text": [
      "Doc2Vec document similarity analyser\n",
      "------------------------------------\n",
      "\n",
      "* Building index of documents...\n",
      " Index successfully built!\n",
      "\n"
     ]
    }
   ],
   "source": [
    "from gensim.test.utils import common_texts\n",
    "from gensim.models.doc2vec import Doc2Vec, TaggedDocument\n",
    "import os\n",
    "import pickle\n",
    "import nltk\n",
    "from nltk.corpus import stopwords\n",
    "import time\n",
    "\n",
    "start = time.time()\n",
    "\n",
    "print(\"Doc2Vec document similarity analyser\")\n",
    "print(\"------------------------------------\")\n",
    "print()\n",
    "\n",
    "print(\"* Building index of documents...\")\n",
    "\n",
    "# List all documents in directory\n",
    "path = \"../inputdata/full_texts_all_cases/\"\n",
    "\n",
    "# Import stopwords           \n",
    "stopwordsfile = \"../script_resources/stopwords.pickle\"\n",
    "stopwords_full = []\n",
    "with open(stopwordsfile, \"rb\") as f:\n",
    "    tmp = pickle.load(f)\n",
    "    stopwords_full.extend(list(tmp))\n",
    "    stopwords_full.extend(stopwords.words('english'))\n",
    "    \n",
    "stopwords_full = list(set(stopwords_full))\n",
    "\n",
    "#print(stopwords_full)\n",
    "\n",
    "# Only keep celex number from filename\n",
    "def cleanfilename(name):\n",
    "    result = \"\"\n",
    "    result = name.replace(\"full_text_\",\"\")\n",
    "    result = result.replace(\".txt\",\"\")\n",
    "    return result\n",
    "\n",
    "def removeStopWords(text, stopwords_list):\n",
    "    text = text.lower()\n",
    "    for item in stopwords_list:\n",
    "        text = text.replace(\" \" + item.lower() + \" \",\" \")\n",
    "        text = text.replace(\" \" + item.lower() + \",\",\" \")\n",
    "        text = text.replace(\" \" + item.lower() + \".\",\" \")\n",
    "        text = text.replace(\" \" + item.lower() + \";\",\" \")\n",
    "    text = text.replace(\"+\",\"\")\n",
    "    return text\n",
    "\n",
    "# Import files and define mapping between case IDS and full texts   \n",
    "files = []\n",
    "index_to_celex = {}\n",
    "datafortraining = []\n",
    "index = 0\n",
    "for r, d, f in os.walk(path):\n",
    "    for file in f:\n",
    "        if '.txt' in file:\n",
    "            files.append(os.path.join(r, file))\n",
    "            celexnum = cleanfilename(os.path.basename(file))\n",
    "            with open (path+file, \"r\", encoding=\"utf-8\") as myfile:\n",
    "                data = myfile.read().replace('\\n', '')\n",
    "                data = removeStopWords(data,stopwords_full)\n",
    "                datafortraining.append(data)\n",
    "                index_to_celex[index] = file\n",
    "                index += 1\n",
    "\n",
    "datafortraining=datafortraining[2:50]\n",
    "documents = [TaggedDocument(file, [i]) for i, file in enumerate(datafortraining)]\n",
    "\n",
    "print(\" Index successfully built!\")\n",
    "print()"
   ]
  },
  {
   "cell_type": "markdown",
   "metadata": {},
   "source": [
    "### Step 2. Train Doc2Vec model on input case texts"
   ]
  },
  {
   "cell_type": "code",
   "execution_count": 2,
   "metadata": {},
   "outputs": [
    {
     "name": "stdout",
     "output_type": "stream",
     "text": [
      "* Loading / training Doc2Vec models...\n",
      "\n",
      "* Window size: 5\n",
      "\n",
      "* Vector size 64\n",
      " loading model from file...\n",
      " successfully loaded model!\n",
      "\n",
      "* Vector size 128\n",
      " loading model from file...\n",
      " successfully loaded model!\n",
      "\n",
      "* Vector size 256\n",
      " loading model from file...\n"
     ]
    },
    {
     "name": "stderr",
     "output_type": "stream",
     "text": [
      "c:\\users\\kody.moodley\\appdata\\local\\continuum\\anaconda3\\envs\\python36\\lib\\site-packages\\smart_open\\smart_open_lib.py:398: UserWarning: This function is deprecated, use smart_open.open instead. See the migration notes for details: https://github.com/RaRe-Technologies/smart_open/blob/master/README.rst#migrating-to-the-new-open-function\n",
      "  'See the migration notes for details: %s' % _MIGRATION_NOTES_URL\n",
      "c:\\users\\kody.moodley\\appdata\\local\\continuum\\anaconda3\\envs\\python36\\lib\\site-packages\\smart_open\\smart_open_lib.py:398: UserWarning: This function is deprecated, use smart_open.open instead. See the migration notes for details: https://github.com/RaRe-Technologies/smart_open/blob/master/README.rst#migrating-to-the-new-open-function\n",
      "  'See the migration notes for details: %s' % _MIGRATION_NOTES_URL\n",
      "c:\\users\\kody.moodley\\appdata\\local\\continuum\\anaconda3\\envs\\python36\\lib\\site-packages\\smart_open\\smart_open_lib.py:398: UserWarning: This function is deprecated, use smart_open.open instead. See the migration notes for details: https://github.com/RaRe-Technologies/smart_open/blob/master/README.rst#migrating-to-the-new-open-function\n",
      "  'See the migration notes for details: %s' % _MIGRATION_NOTES_URL\n"
     ]
    },
    {
     "name": "stdout",
     "output_type": "stream",
     "text": [
      " successfully loaded model!\n",
      "\n",
      "\n",
      "* Window size: 10\n",
      "\n",
      "* Vector size 64\n",
      " training model...\n",
      " successfully trained model!\n",
      " saving model to file...\n",
      " successfully saved model!\n",
      "\n",
      "* Vector size 128\n",
      " training model...\n"
     ]
    },
    {
     "name": "stderr",
     "output_type": "stream",
     "text": [
      "c:\\users\\kody.moodley\\appdata\\local\\continuum\\anaconda3\\envs\\python36\\lib\\site-packages\\smart_open\\smart_open_lib.py:398: UserWarning: This function is deprecated, use smart_open.open instead. See the migration notes for details: https://github.com/RaRe-Technologies/smart_open/blob/master/README.rst#migrating-to-the-new-open-function\n",
      "  'See the migration notes for details: %s' % _MIGRATION_NOTES_URL\n"
     ]
    },
    {
     "name": "stdout",
     "output_type": "stream",
     "text": [
      " successfully trained model!\n",
      " saving model to file...\n",
      " successfully saved model!\n",
      "\n",
      "* Vector size 256\n",
      " training model...\n"
     ]
    },
    {
     "name": "stderr",
     "output_type": "stream",
     "text": [
      "c:\\users\\kody.moodley\\appdata\\local\\continuum\\anaconda3\\envs\\python36\\lib\\site-packages\\smart_open\\smart_open_lib.py:398: UserWarning: This function is deprecated, use smart_open.open instead. See the migration notes for details: https://github.com/RaRe-Technologies/smart_open/blob/master/README.rst#migrating-to-the-new-open-function\n",
      "  'See the migration notes for details: %s' % _MIGRATION_NOTES_URL\n"
     ]
    },
    {
     "name": "stdout",
     "output_type": "stream",
     "text": [
      " successfully trained model!\n",
      " saving model to file...\n",
      " successfully saved model!\n",
      "\n"
     ]
    },
    {
     "name": "stderr",
     "output_type": "stream",
     "text": [
      "c:\\users\\kody.moodley\\appdata\\local\\continuum\\anaconda3\\envs\\python36\\lib\\site-packages\\smart_open\\smart_open_lib.py:398: UserWarning: This function is deprecated, use smart_open.open instead. See the migration notes for details: https://github.com/RaRe-Technologies/smart_open/blob/master/README.rst#migrating-to-the-new-open-function\n",
      "  'See the migration notes for details: %s' % _MIGRATION_NOTES_URL\n"
     ]
    }
   ],
   "source": [
    "import os.path\n",
    "from gensim.test.utils import get_tmpfile\n",
    "\n",
    "print(\"* Loading / training Doc2Vec models...\")\n",
    "\n",
    "model_64 = None\n",
    "model_128 = None\n",
    "model_256 = None\n",
    "\n",
    "model_64_10 = None\n",
    "model_128_10 = None\n",
    "model_256_10 = None\n",
    "\n",
    "fname_64 = None\n",
    "fname_128 = None\n",
    "fname_256 = None\n",
    "\n",
    "fname_64_10 = None\n",
    "fname_128_10 = None\n",
    "fname_256_10 = None\n",
    "\n",
    "print()\n",
    "print(\"* Window size: 5\")\n",
    "print()\n",
    "print(\"* Vector size 64\")\n",
    "if os.path.exists(os.path.join(os.path.join(os.path.realpath('..'), \"script_resources\"), \"doc2vec_64.model\")):\n",
    "    print(\" loading model from file...\")\n",
    "    fname_64 = get_tmpfile(os.path.join(os.path.join(os.path.realpath('..'), \"script_resources\"), \"doc2vec_64.model\"))\n",
    "    model_64 = Doc2Vec.load(fname_64)\n",
    "    print(\" successfully loaded model!\")\n",
    "else:\n",
    "    print(\" training model...\")\n",
    "    model_64 = Doc2Vec(documents, vector_size=64, window=5, min_count=1, workers=16)\n",
    "    model_64.train(documents, total_examples=model_64.corpus_count,epochs=20)\n",
    "    print(\" successfully trained model!\")\n",
    "    print(\" saving model to file...\")\n",
    "    fname_64 = get_tmpfile(os.path.join(os.path.join(os.path.realpath('..'), \"script_resources\"), \"doc2vec_64.model\"))\n",
    "    model_64.save(fname_64)\n",
    "    print(\" successfully saved model!\")\n",
    "    \n",
    "print()\n",
    "\n",
    "print(\"* Vector size 128\")\n",
    "if os.path.exists(os.path.join(os.path.join(os.path.realpath('..'), \"script_resources\"), \"doc2vec_128.model\")):\n",
    "    print(\" loading model from file...\")\n",
    "    fname_128 = get_tmpfile(os.path.join(os.path.join(os.path.realpath('..'), \"script_resources\"), \"doc2vec_128.model\"))\n",
    "    model_128 = Doc2Vec.load(fname_128)\n",
    "    print(\" successfully loaded model!\")\n",
    "else:\n",
    "    print(\" training model...\")\n",
    "    model_128 = Doc2Vec(documents, vector_size=128, window=5, min_count=1, workers=16)\n",
    "    model_128.train(documents, total_examples=model_128.corpus_count,epochs=20)\n",
    "    print(\" successfully trained model!\")\n",
    "    print(\" saving model to file...\")\n",
    "    fname_128 = get_tmpfile(os.path.join(os.path.join(os.path.realpath('..'), \"script_resources\"), \"doc2vec_128.model\"))\n",
    "    model_128.save(fname_128)\n",
    "    print(\" successfully saved model!\")\n",
    "\n",
    "print()\n",
    "    \n",
    "print(\"* Vector size 256\")\n",
    "if os.path.exists(os.path.join(os.path.join(os.path.realpath('..'), \"script_resources\"), \"doc2vec_256.model\")):\n",
    "    print(\" loading model from file...\")\n",
    "    fname_256 = get_tmpfile(os.path.join(os.path.join(os.path.realpath('..'), \"script_resources\"), \"doc2vec_256.model\"))\n",
    "    model_256 = Doc2Vec.load(fname_256)\n",
    "    print(\" successfully loaded model!\")\n",
    "else:\n",
    "    print(\" training model...\")\n",
    "    model_256 = Doc2Vec(documents, vector_size=256, window=5, min_count=1, workers=16)\n",
    "    model_256.train(documents, total_examples=model_256.corpus_count,epochs=20)\n",
    "    print(\" successfully trained model!\")\n",
    "    print(\" saving model to file...\")\n",
    "    fname_256 = get_tmpfile(os.path.join(os.path.join(os.path.realpath('..'), \"script_resources\"), \"doc2vec_256.model\"))\n",
    "    model_256.save(fname_256)\n",
    "    print(\" successfully saved model!\")\n",
    "print()\n",
    "\n",
    "\n",
    "print()\n",
    "print(\"* Window size: 10\")\n",
    "print()\n",
    "print(\"* Vector size 64\")\n",
    "if os.path.exists(os.path.join(os.path.join(os.path.realpath('..'), \"script_resources\"), \"doc2vec_64_10.model\")):\n",
    "    print(\" loading model from file...\")\n",
    "    fname_64_10_10 = get_tmpfile(os.path.join(os.path.join(os.path.realpath('..'), \"script_resources\"), \"doc2vec_64_10.model\"))\n",
    "    model_64_10_10 = Doc2Vec.load(fname_64_10)\n",
    "    print(\" successfully loaded model!\")\n",
    "else:\n",
    "    print(\" training model...\")\n",
    "    model_64_10 = Doc2Vec(documents, vector_size=64, window=10, min_count=1, workers=16)\n",
    "    model_64_10.train(documents, total_examples=model_64_10.corpus_count,epochs=20)\n",
    "    print(\" successfully trained model!\")\n",
    "    print(\" saving model to file...\")\n",
    "    fname_64_10 = get_tmpfile(os.path.join(os.path.join(os.path.realpath('..'), \"script_resources\"), \"doc2vec_64_10.model\"))\n",
    "    model_64_10.save(fname_64_10)\n",
    "    print(\" successfully saved model!\")\n",
    "    \n",
    "print()\n",
    "\n",
    "print(\"* Vector size 128\")\n",
    "if os.path.exists(os.path.join(os.path.join(os.path.realpath('..'), \"script_resources\"), \"doc2vec_128_10.model\")):\n",
    "    print(\" loading model from file...\")\n",
    "    fname_128_10 = get_tmpfile(os.path.join(os.path.join(os.path.realpath('..'), \"script_resources\"), \"doc2vec_128_10.model\"))\n",
    "    model_128_10 = Doc2Vec.load(fname_128_10)\n",
    "    print(\" successfully loaded model!\")\n",
    "else:\n",
    "    print(\" training model...\")\n",
    "    model_128_10 = Doc2Vec(documents, vector_size=128, window=10, min_count=1, workers=16)\n",
    "    model_128_10.train(documents, total_examples=model_128_10.corpus_count,epochs=20)\n",
    "    print(\" successfully trained model!\")\n",
    "    print(\" saving model to file...\")\n",
    "    fname_128_10 = get_tmpfile(os.path.join(os.path.join(os.path.realpath('..'), \"script_resources\"), \"doc2vec_128_10.model\"))\n",
    "    model_128_10.save(fname_128_10)\n",
    "    print(\" successfully saved model!\")\n",
    "\n",
    "print()\n",
    "    \n",
    "print(\"* Vector size 256\")\n",
    "if os.path.exists(os.path.join(os.path.join(os.path.realpath('..'), \"script_resources\"), \"doc2vec_256_10.model\")):\n",
    "    print(\" loading model from file...\")\n",
    "    fname_256_10 = get_tmpfile(os.path.join(os.path.join(os.path.realpath('..'), \"script_resources\"), \"doc2vec_256_10.model\"))\n",
    "    model_256_10 = Doc2Vec.load(fname_256_10)\n",
    "    print(\" successfully loaded model!\")\n",
    "else:\n",
    "    print(\" training model...\")\n",
    "    model_256_10 = Doc2Vec(documents, vector_size=256, window=10, min_count=1, workers=16)\n",
    "    model_256_10.train(documents, total_examples=model_256_10.corpus_count,epochs=20)\n",
    "    print(\" successfully trained model!\")\n",
    "    print(\" saving model to file...\")\n",
    "    fname_256_10 = get_tmpfile(os.path.join(os.path.join(os.path.realpath('..'), \"script_resources\"), \"doc2vec_256_10.model\"))\n",
    "    model_256_10.save(fname_256_10)\n",
    "    print(\" successfully saved model!\")\n",
    "print()"
   ]
  },
  {
   "cell_type": "markdown",
   "metadata": {},
   "source": [
    "### Step 3. Import sample cases"
   ]
  },
  {
   "cell_type": "code",
   "execution_count": 3,
   "metadata": {},
   "outputs": [
    {
     "name": "stdout",
     "output_type": "stream",
     "text": [
      "* Importing sample cases...\n",
      " Successfully imported sample cases!\n",
      "\n"
     ]
    }
   ],
   "source": [
    "path = \"../inputdata/full_texts_all_cases/\"\n",
    "\n",
    "def getfile(celexnumber):\n",
    "    # r=root, d=directories, f = files\n",
    "    for r, d, f in os.walk(path):\n",
    "        for file in f:\n",
    "            if celexnumber in file:\n",
    "                return file\n",
    "    return None\n",
    "\n",
    "def celex_to_index(celexnumber):\n",
    "    file = getfile(celexnumber)\n",
    "    for k, v in index_to_celex.items():\n",
    "        if v == file:\n",
    "            return k\n",
    "    return -1\n",
    "\n",
    "import pandas as pd\n",
    "\n",
    "print(\"* Importing sample cases...\")\n",
    "# Fetch sample cases from file\n",
    "def get_sample_cases(topic):\n",
    "    data = pd.read_csv(\"../inputdata/sampled_cases.csv\")\n",
    "    relevant_rows = data[data['topic'] == topic]\n",
    "    return relevant_rows['source'].tolist()\n",
    "\n",
    "# Celex numbers of reference cases\n",
    "publichealth = get_sample_cases('public health')\n",
    "socialpolicy = get_sample_cases('social policy')\n",
    "dataprotection = get_sample_cases('data protection')\n",
    "\n",
    "print(\" Successfully imported sample cases!\")\n",
    "print()"
   ]
  },
  {
   "cell_type": "markdown",
   "metadata": {},
   "source": [
    "### Step 4. Define functions mapping between case ID, filename, and associated full text (references to same document)"
   ]
  },
  {
   "cell_type": "code",
   "execution_count": 4,
   "metadata": {},
   "outputs": [],
   "source": [
    "# Function to convert entire similarity results to case ID references\n",
    "def convert_to_case_references(doc2vec_result):\n",
    "    global index_to_celex\n",
    "    result = []\n",
    "    for item in doc2vec_result:\n",
    "        case_reference = cleanfilename(index_to_celex[item[0]]) # convert to case reference\n",
    "        similarity_value = item[1]\n",
    "        result.append((case_reference,similarity_value))\n",
    "    return result"
   ]
  },
  {
   "cell_type": "markdown",
   "metadata": {},
   "source": [
    "### Step 5. Define functions to look up citations for a given case, and to check if there is a citation link between two cases"
   ]
  },
  {
   "cell_type": "code",
   "execution_count": 5,
   "metadata": {},
   "outputs": [
    {
     "name": "stdout",
     "output_type": "stream",
     "text": [
      "* Import citations for cases...\n",
      " Successfully imported citations!\n",
      "\n"
     ]
    }
   ],
   "source": [
    "print(\"* Import citations for cases...\")\n",
    "citations = pd.read_csv('../inputdata/all_cases_citations.csv')\n",
    "print(\" Successfully imported citations!\")\n",
    "print()\n",
    "\n",
    "def find_cited_cases(celexnumber):\n",
    "    global citations\n",
    "    relevantsource = citations[citations['source'] == celexnumber]\n",
    "    return relevantsource['target'].tolist()\n",
    "\n",
    "def exists_citation_link_between(celexnumber1,celexnumber2):\n",
    "    global citations\n",
    "    relevantsource1 = citations[citations['source'] == celexnumber1]\n",
    "    relevantsource2 = citations[citations['source'] == celexnumber2]\n",
    "    if celexnumber2 in relevantsource1['target'].tolist() or celexnumber1 in relevantsource2['target'].tolist():\n",
    "        return True\n",
    "    return False"
   ]
  },
  {
   "cell_type": "markdown",
   "metadata": {},
   "source": [
    "### Step 6. Look up top n similar cases per sample case"
   ]
  },
  {
   "cell_type": "code",
   "execution_count": 6,
   "metadata": {},
   "outputs": [],
   "source": [
    "results = []\n",
    "\n",
    "def lookup_similar_cases(sample_cases, n, topic, model, modelfilename):\n",
    "    global results\n",
    "\n",
    "    for item in sample_cases:\n",
    "        similar_cases = model.docvecs.most_similar(celex_to_index(item), topn=n)\n",
    "        similar_cases_references = convert_to_case_references(similar_cases)\n",
    "        for reference in similar_cases_references:\n",
    "            path = str(os.path.join(os.path.realpath('..'), \"script_resources\"))\n",
    "            method = modelfilename.replace(path,\"\")\n",
    "            method = method.replace(\".model\",\"\")\n",
    "            method = method.replace('\\\\',\"\")\n",
    "            method = method.replace('/',\"\")\n",
    "            results.append([item,reference[0],reference[1],method,exists_citation_link_between(item,reference[0]),topic])"
   ]
  },
  {
   "cell_type": "code",
   "execution_count": 7,
   "metadata": {},
   "outputs": [
    {
     "name": "stdout",
     "output_type": "stream",
     "text": [
      "* Computing similar cases...\n",
      " Successfully computed similar cases!\n",
      "\n"
     ]
    }
   ],
   "source": [
    "print(\"* Computing similar cases...\")\n",
    "\n",
    "lookup_similar_cases(publichealth,20,'public health', model_64, fname_64)\n",
    "lookup_similar_cases(publichealth,20,'public health', model_128, fname_128)\n",
    "lookup_similar_cases(publichealth,20,'public health', model_256, fname_256)\n",
    "lookup_similar_cases(publichealth,20,'public health', model_64_10, fname_64_10)\n",
    "lookup_similar_cases(publichealth,20,'public health', model_128_10, fname_128_10)\n",
    "lookup_similar_cases(publichealth,20,'public health', model_256_10, fname_256_10)\n",
    "\n",
    "lookup_similar_cases(socialpolicy,20,'social policy', model_64, fname_64)\n",
    "lookup_similar_cases(socialpolicy,20,'social policy', model_128, fname_128)\n",
    "lookup_similar_cases(socialpolicy,20,'social policy', model_256, fname_256)\n",
    "lookup_similar_cases(socialpolicy,20,'social policy', model_64_10, fname_64_10)\n",
    "lookup_similar_cases(socialpolicy,20,'social policy', model_128_10, fname_128_10)\n",
    "lookup_similar_cases(socialpolicy,20,'social policy', model_256_10, fname_256_10)\n",
    "\n",
    "lookup_similar_cases(dataprotection,20,'data protection', model_64, fname_64)\n",
    "lookup_similar_cases(dataprotection,20,'data protection', model_128, fname_128)\n",
    "lookup_similar_cases(dataprotection,20,'data protection', model_256, fname_256)\n",
    "lookup_similar_cases(dataprotection,20,'data protection', model_64_10, fname_64_10)\n",
    "lookup_similar_cases(dataprotection,20,'data protection', model_128_10, fname_128_10)\n",
    "lookup_similar_cases(dataprotection,20,'data protection', model_256_10, fname_256_10)\n",
    "\n",
    "print(\" Successfully computed similar cases!\")\n",
    "print()"
   ]
  },
  {
   "cell_type": "markdown",
   "metadata": {},
   "source": [
    "### Step 7. Write results to file"
   ]
  },
  {
   "cell_type": "code",
   "execution_count": 8,
   "metadata": {},
   "outputs": [
    {
     "name": "stdout",
     "output_type": "stream",
     "text": [
      "* Writing results to file...\n",
      " Successfully wrote results to file!\n",
      "\n",
      " Done!\n",
      "\n",
      "* Time taken: 486.74411487579346 s\n"
     ]
    }
   ],
   "source": [
    "print(\"* Writing results to file...\")\n",
    "import csv\n",
    "import os.path\n",
    "\n",
    "if os.path.exists('../outputdata/results.csv') == False:\n",
    "    results.insert(0,['source_case','similar_case','similarity_score','method','citation_link','source_case_topic'])\n",
    "    \n",
    "with open('../outputdata/results.csv', 'a', newline='') as outfile:\n",
    "    writer = csv.writer(outfile, delimiter=',')\n",
    "    writer.writerows(results)\n",
    "    \n",
    "end = time.time()\n",
    "\n",
    "print(\" Successfully wrote results to file!\")\n",
    "print()\n",
    "print(\" Done!\")\n",
    "print()\n",
    "print(\"* Time taken:\",(end-start),\"s\")"
   ]
  }
 ],
 "metadata": {
  "kernelspec": {
   "display_name": "Python 3",
   "language": "python",
   "name": "python3"
  },
  "language_info": {
   "codemirror_mode": {
    "name": "ipython",
    "version": 3
   },
   "file_extension": ".py",
   "mimetype": "text/x-python",
   "name": "python",
   "nbconvert_exporter": "python",
   "pygments_lexer": "ipython3",
   "version": "3.6.8"
  }
 },
 "nbformat": 4,
 "nbformat_minor": 4
}
