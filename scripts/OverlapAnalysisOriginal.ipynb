{
 "cells": [
  {
   "cell_type": "code",
   "execution_count": 37,
   "metadata": {},
   "outputs": [
    {
     "name": "stdout",
     "output_type": "stream",
     "text": [
      "219480\n"
     ]
    }
   ],
   "source": [
    "import pandas as pd\n",
    "import os\n",
    "\n",
    "df = pd.read_csv(os.path.join(os.path.join(os.path.realpath('..'), \"outputdata\"), \"results.csv\"))\n",
    "\n",
    "print(len(df))\n",
    "# df = df[df.similarity_score != 1.0]\n",
    "# print(len(df))\n",
    "# df.to_csv(os.path.join(os.path.join(os.path.realpath('..'), \"outputdata\"), \"results_cleaned.csv\"),index=False)"
   ]
  },
  {
   "cell_type": "code",
   "execution_count": 38,
   "metadata": {},
   "outputs": [
    {
     "name": "stdout",
     "output_type": "stream",
     "text": [
      "                          method  citation_link  counts\n",
      "53        tfidf-quintgram-nostem           True     423\n",
      "59          tfidf-sesgram-nostem           True     421\n",
      "58                 tfidf-sesgram           True     421\n",
      "52               tfidf-quintgram           True     420\n",
      "57          tfidf-sepgram-nostem           True     417\n",
      "56                 tfidf-sepgram           True     413\n",
      "51         tfidf-quadgram-nostem           True     413\n",
      "50                tfidf-quadgram           True     411\n",
      "61          tfidf-trigram-nostem           True     402\n",
      "55  tfidf-quintgram-range-nostem           True     402\n",
      "60                 tfidf-trigram           True     396\n",
      "54         tfidf-quintgram-range           True     394\n",
      "48           tfidf-bigram-nostem           True     385\n",
      "43                       jaccard           True     374\n",
      "47                  tfidf-bigram           True     369\n",
      "49                  tfidf-nostem           True     365\n",
      "46                         tfidf           True     354\n",
      "44                  jaccard-stem           True     338\n",
      "2                Law2Vec-200-WMD           True     156\n",
      "0             GoogleNews-300-WMD           True     154\n",
      "3                    WMD_256_e30           True     116\n",
      "22               doc2vec_256_e30           True      46\n",
      "25               doc2vec_256_e50           True      44\n",
      "23               doc2vec_256_e40           True      39\n",
      "9                doc2vec_128_e40           True      37\n",
      "11                   doc2vec_256           True      35\n",
      "12                doc2vec_256_10           True      34\n",
      "4                    doc2vec_128           True      34\n",
      "5                 doc2vec_128_10           True      33\n",
      "45                   law2vec_200           True      31\n",
      "..                           ...            ...     ...\n",
      "1                 GoogleNews_300           True      29\n",
      "26                doc2vec_300_15           True      28\n",
      "41                doc2vec_64_e10           True      27\n",
      "15                doc2vec_256_15           True      27\n",
      "6             doc2vec_128_10_e10           True      25\n",
      "24                doc2vec_256_e5           True      25\n",
      "37                    doc2vec_64           True      24\n",
      "34                doc2vec_512_15           True      24\n",
      "16            doc2vec_256_15_e10           True      23\n",
      "39             doc2vec_64_10_e10           True      23\n",
      "30            doc2vec_300_20_e10           True      22\n",
      "8                doc2vec_128_e10           True      22\n",
      "10                doc2vec_128_e5           True      22\n",
      "29                doc2vec_300_20           True      22\n",
      "40              doc2vec_64_10_e5           True      22\n",
      "18                doc2vec_256_20           True      22\n",
      "19            doc2vec_256_20_e10           True      22\n",
      "35            doc2vec_512_15_e10           True      21\n",
      "42                 doc2vec_64_e5           True      19\n",
      "27            doc2vec_300_15_e10           True      19\n",
      "36             doc2vec_512_15_e5           True      18\n",
      "33                doc2vec_32_e30           True      18\n",
      "13            doc2vec_256_10_e10           True      17\n",
      "14             doc2vec_256_10_e5           True      17\n",
      "7              doc2vec_128_10_e5           True      16\n",
      "17             doc2vec_256_15_e5           True      15\n",
      "20             doc2vec_256_20_e5           True      14\n",
      "28             doc2vec_300_15_e5           True      12\n",
      "32                    doc2vec_32           True      11\n",
      "31             doc2vec_300_20_e5           True      11\n",
      "\n",
      "[62 rows x 3 columns]\n",
      "62\n"
     ]
    }
   ],
   "source": [
    "df.drop_duplicates(subset=None, keep='first', inplace=False)\n",
    "overlapsDf = df[df[\"citation_link\"] == True]\n",
    "df = df.drop(['source_case','similar_case','source_case_topic','similarity_score'], axis='columns')\n",
    "df = df[df[\"citation_link\"] == True]\n",
    "df = df.groupby(['method','citation_link']).citation_link.agg('count').to_frame('counts').reset_index()\n",
    "df = df.sort_values('counts',ascending=False)\n",
    "print(df.head(100))\n",
    "print(len(df))"
   ]
  },
  {
   "cell_type": "code",
   "execution_count": 39,
   "metadata": {},
   "outputs": [
    {
     "name": "stdout",
     "output_type": "stream",
     "text": [
      "* Import citations for cases...\n",
      " Successfully imported citations!\n"
     ]
    }
   ],
   "source": [
    "print(\"* Import citations for cases...\")\n",
    "citations = pd.read_csv('../inputdata/all_cases_citations.csv')\n",
    "print(\" Successfully imported citations!\")\n",
    "\n",
    "def find_cited_cases(celexnumber):\n",
    "    global citations\n",
    "    relevantsource = citations[citations['source'] == celexnumber]\n",
    "    return relevantsource['target'].tolist()\n",
    "\n",
    "def exists_citation_link_between(celexnumber1,celexnumber2):\n",
    "    global citations\n",
    "    relevantsource1 = citations[citations['source'] == celexnumber1]\n",
    "    relevantsource2 = citations[citations['source'] == celexnumber2]\n",
    "    if celexnumber2 in relevantsource1['target'].tolist() or celexnumber1 in relevantsource2['target'].tolist():\n",
    "        return True\n",
    "    return False"
   ]
  },
  {
   "cell_type": "code",
   "execution_count": 40,
   "metadata": {},
   "outputs": [
    {
     "name": "stdout",
     "output_type": "stream",
     "text": [
      "no. of PH sample cases: 63\n",
      "no. of SP sample cases: 85\n",
      "no. of DP sample cases: 29\n"
     ]
    }
   ],
   "source": [
    "resultsdf = pd.read_csv(\"../outputdata/results.csv\")\n",
    "\n",
    "unique_samples_ph = resultsdf[resultsdf['source_case_topic'] == 'public health']['source_case'].unique()\n",
    "unique_samples_sp = resultsdf[resultsdf['source_case_topic'] == 'social policy']['source_case'].unique()\n",
    "unique_samples_dp = resultsdf[resultsdf['source_case_topic'] == 'data protection']['source_case'].unique()\n",
    "\n",
    "print(\"no. of PH sample cases:\",len(unique_samples_ph))\n",
    "print(\"no. of SP sample cases:\",len(unique_samples_sp))\n",
    "print(\"no. of DP sample cases:\",len(unique_samples_dp))"
   ]
  },
  {
   "cell_type": "code",
   "execution_count": 41,
   "metadata": {},
   "outputs": [
    {
     "name": "stdout",
     "output_type": "stream",
     "text": [
      "total no. of (non)unique citations for Public Health cases: 176\n",
      "total no. of (non)unique citations for Social Policy cases: 308\n",
      "total no. of (non)unique citations for Data Protection cases: 138\n",
      "total no. of (non)unique citations for ALL cases: 622\n"
     ]
    }
   ],
   "source": [
    "cited_cases_ph = []\n",
    "cited_cases_sp = []\n",
    "cited_cases_dp = []\n",
    "cited_cases = []\n",
    "\n",
    "for item in unique_samples_ph:\n",
    "    cited_cases_ph.extend(find_cited_cases(item))\n",
    "    \n",
    "for item in unique_samples_sp:\n",
    "    cited_cases_sp.extend(find_cited_cases(item))\n",
    "    \n",
    "for item in unique_samples_dp:\n",
    "    cited_cases_dp.extend(find_cited_cases(item))\n",
    "\n",
    "cited_cases.extend(cited_cases_ph)\n",
    "cited_cases.extend(cited_cases_sp)\n",
    "cited_cases.extend(cited_cases_dp)\n",
    "\n",
    "print(\"total no. of (non)unique citations for Public Health cases:\",len(cited_cases_ph))\n",
    "print(\"total no. of (non)unique citations for Social Policy cases:\",len(cited_cases_sp))\n",
    "print(\"total no. of (non)unique citations for Data Protection cases:\",len(cited_cases_dp))\n",
    "print(\"total no. of (non)unique citations for ALL cases:\",(len(cited_cases_ph) + len(cited_cases_sp) + len(cited_cases_dp)))\n"
   ]
  },
  {
   "cell_type": "code",
   "execution_count": 42,
   "metadata": {},
   "outputs": [
    {
     "name": "stdout",
     "output_type": "stream",
     "text": [
      "                       method  counts\n",
      "              tfidf-quintgram     273\n",
      "       tfidf-quintgram-nostem     270\n",
      "         tfidf-sesgram-nostem     269\n",
      "                tfidf-sesgram     268\n",
      "        tfidf-quadgram-nostem     267\n",
      "               tfidf-quadgram     265\n",
      " tfidf-quintgram-range-nostem     263\n",
      "         tfidf-sepgram-nostem     262\n",
      "         tfidf-trigram-nostem     260\n",
      "                tfidf-sepgram     257\n",
      "        tfidf-quintgram-range     256\n",
      "                tfidf-trigram     256\n",
      "                      jaccard     247\n",
      "          tfidf-bigram-nostem     243\n",
      "                 tfidf-bigram     239\n",
      "                 tfidf-nostem     236\n",
      "                        tfidf     225\n",
      "                 jaccard-stem     220\n",
      "           GoogleNews-300-WMD     106\n",
      "              Law2Vec-200-WMD     106\n",
      "                  WMD_256_e30      73\n",
      "              doc2vec_256_e30      31\n",
      "              doc2vec_256_e50      27\n",
      "                  doc2vec_256      27\n",
      "              doc2vec_256_e40      26\n",
      "                  doc2vec_128      25\n",
      "              doc2vec_128_e40      24\n",
      "                  law2vec_200      22\n",
      "              doc2vec_256_e10      22\n",
      "               doc2vec_128_10      22\n",
      "               doc2vec_256_10      21\n",
      "               doc2vec_256_e5      19\n",
      "               doc2vec_64_e10      19\n",
      "               GoogleNews_300      19\n",
      "               doc2vec_256_15      18\n",
      "               doc2vec_128_e5      17\n",
      "              doc2vec_128_e10      17\n",
      "               doc2vec_300_15      17\n",
      "                doc2vec_64_10      16\n",
      "            doc2vec_64_10_e10      16\n",
      "           doc2vec_128_10_e10      16\n",
      "           doc2vec_256_20_e10      15\n",
      "           doc2vec_256_15_e10      15\n",
      "                   doc2vec_64      14\n",
      "               doc2vec_256_20      14\n",
      "               doc2vec_512_15      14\n",
      "           doc2vec_300_20_e10      14\n",
      "             doc2vec_64_10_e5      13\n",
      "                doc2vec_64_e5      13\n",
      "           doc2vec_512_15_e10      13\n",
      "               doc2vec_32_e30      12\n",
      "               doc2vec_300_20      12\n",
      "            doc2vec_256_10_e5      11\n",
      "           doc2vec_256_10_e10      11\n",
      "           doc2vec_300_15_e10      11\n",
      "            doc2vec_256_15_e5       9\n",
      "            doc2vec_512_15_e5       9\n",
      "            doc2vec_128_10_e5       9\n",
      "                   doc2vec_32       9\n",
      "            doc2vec_256_20_e5       8\n",
      "            doc2vec_300_15_e5       8\n",
      "            doc2vec_300_20_e5       7\n",
      "\n",
      "\n"
     ]
    }
   ],
   "source": [
    "unique_cited_cases_ph = overlapsDf[overlapsDf['similar_case'].isin(cited_cases_ph)]\n",
    "unique_cited_cases_ph = unique_cited_cases_ph[unique_cited_cases_ph['source_case_topic'] == 'public health']\n",
    "#print(\"citation overlap for public health sample cases:\",len(unique_cited_cases_ph))\n",
    "\n",
    "unique_cited_cases_sp = overlapsDf[overlapsDf['similar_case'].isin(cited_cases_sp)]\n",
    "unique_cited_cases_sp = unique_cited_cases_sp[unique_cited_cases_sp['source_case_topic'] == 'social policy']\n",
    "#print(\"citation overlap for social policy sample cases:\",len(unique_cited_cases_sp))\n",
    "\n",
    "unique_cited_cases_dp = overlapsDf[overlapsDf['similar_case'].isin(cited_cases_dp)]\n",
    "unique_cited_cases_dp = unique_cited_cases_dp[unique_cited_cases_dp['source_case_topic'] == 'data protection']\n",
    "#print(\"citation overlap for data protection sample cases:\",len(unique_cited_cases_dp))\n",
    "#print(\"total overlap:\",len(unique_cited_cases_ph) + len(unique_cited_cases_sp) + len(unique_cited_cases_dp))\n",
    "\n",
    "#print()\n",
    "unique_cited_cases_ph = unique_cited_cases_ph.groupby(['method']).similar_case.agg('count').to_frame('counts').reset_index()\n",
    "unique_cited_cases_ph= unique_cited_cases_ph.sort_values(by ='counts',ascending=False)\n",
    "#print(unique_cited_cases_ph.head(100))\n",
    "\n",
    "#print()\n",
    "unique_cited_cases_sp = unique_cited_cases_sp.groupby(['method']).similar_case.agg('count').to_frame('counts').reset_index()\n",
    "unique_cited_cases_sp= unique_cited_cases_sp.sort_values(by ='counts',ascending=False)\n",
    "#print(unique_cited_cases_sp.head(100))\n",
    "\n",
    "#print()\n",
    "unique_cited_cases_dp = unique_cited_cases_dp.groupby(['method']).similar_case.agg('count').to_frame('counts').reset_index()\n",
    "unique_cited_cases_dp = unique_cited_cases_dp.sort_values(by ='counts',ascending=False)\n",
    "#print(unique_cited_cases_dp.head(100))\n",
    "#print(len(unique_cited_cases_dp))\n",
    "\n",
    "appended1 = unique_cited_cases_ph.append(unique_cited_cases_sp)\n",
    "finalappended = appended1.append(unique_cited_cases_dp)\n",
    "fulltable = finalappended\n",
    "fulltable = fulltable.groupby(['method']).sum().reset_index()\n",
    "fulltable = fulltable.sort_values(by ='counts',ascending=False)\n",
    "print(fulltable.to_string(index=False))\n",
    "print()\n",
    "print()\n",
    "finalappended = finalappended.groupby(['method']).sum()\n",
    "finalappended = finalappended.sort_values(by ='counts',ascending=False)\n",
    "\n",
    "#print(finalappended.head(200))\n"
   ]
  },
  {
   "cell_type": "code",
   "execution_count": 48,
   "metadata": {},
   "outputs": [
    {
     "name": "stdout",
     "output_type": "stream",
     "text": [
      "Vector sizes:\n",
      "------------\n",
      "32: counts    10.5\n",
      "dtype: float64\n",
      "64: counts    15.166667\n",
      "dtype: float64\n",
      "128: counts    18.571429\n",
      "dtype: float64\n",
      "256: counts    21.6875\n",
      "dtype: float64\n",
      "300: counts    11.5\n",
      "dtype: float64\n",
      "512: counts    12.0\n",
      "dtype: float64\n",
      "Epochs:\n",
      "------\n",
      "5: counts    12.5\n",
      "dtype: float64\n",
      "10: counts    15.363636\n",
      "dtype: float64\n",
      "20: counts    17.416667\n",
      "dtype: float64\n",
      "30: counts    38.666667\n",
      "dtype: float64\n",
      "40: counts    25.0\n",
      "dtype: float64\n",
      "50: counts    27.0\n",
      "dtype: float64\n"
     ]
    }
   ],
   "source": [
    "vector_dfs = []\n",
    "print(\"Vector sizes:\")\n",
    "print(\"------------\")\n",
    "vec32 = fulltable[fulltable['method'].str.contains(\"32\")]\n",
    "print(\"32:\", vec32.mean())\n",
    "vec64 = fulltable[fulltable['method'].str.contains(\"64\")]\n",
    "print(\"64:\", vec64.mean())\n",
    "vec128 = fulltable[fulltable['method'].str.contains(\"128\")]\n",
    "print(\"128:\", vec128.mean())\n",
    "vec256 = fulltable[fulltable['method'].str.contains(\"256\")]\n",
    "print(\"256:\", vec256.mean())\n",
    "vec300 = fulltable[fulltable['method'].str.contains(\"300\") & fulltable['method'].str.contains(\"doc\")]\n",
    "print(\"300:\", vec300.mean())\n",
    "vec512 = fulltable[fulltable['method'].str.contains(\"512\")]\n",
    "print(\"512:\", vec512.mean())\n",
    "\n",
    "print(\"Epochs:\")\n",
    "print(\"------\")\n",
    "five = fulltable[fulltable['method'].str.contains(\"e5\")]\n",
    "print(\"5:\", five.mean())\n",
    "ten = fulltable[fulltable['method'].str.contains(\"e10\")]\n",
    "print(\"10:\", ten.mean())\n",
    "twenty = fulltable[~fulltable['method'].str.contains(\"_e\") & fulltable['method'].str.contains(\"doc\")]\n",
    "print(\"20:\", twenty.mean())\n",
    "thirty = fulltable[fulltable['method'].str.contains(\"e30\")]\n",
    "print(\"30:\", thirty.mean())\n",
    "forty = fulltable[fulltable['method'].str.contains(\"e40\")]\n",
    "print(\"40:\", forty.mean())\n",
    "fifty = fulltable[fulltable['method'].str.contains(\"e50\")]\n",
    "print(\"50:\", fifty.mean())"
   ]
  },
  {
   "cell_type": "code",
   "execution_count": 10,
   "metadata": {},
   "outputs": [
    {
     "name": "stdout",
     "output_type": "stream",
     "text": [
      " counts                  method\n",
      "    270  tfidf-quintgram-nostem\n",
      "    247                 jaccard\n",
      "    236            tfidf-nostem\n",
      "    106      GoogleNews-300-WMD\n",
      "    106         Law2Vec-200-WMD\n",
      "     73             WMD_256_e30\n",
      "     31         doc2vec_256_e30\n",
      "     22             law2vec_200\n",
      "     19          GoogleNews_300\n"
     ]
    }
   ],
   "source": [
    "mainmethods = ['tfidf-quintgram-nostem','jaccard','tfidf-nostem','GoogleNews-300-WMD','doc2vec_256_e30','law2vec_200','GoogleNews_300','WMD_256_e30','Law2Vec-200-WMD']\n",
    "finalappended['method'] = finalappended.index\n",
    "finalappended = finalappended[finalappended['method'].isin(mainmethods)]\n",
    "print(finalappended.to_string(index=False))"
   ]
  }
 ],
 "metadata": {
  "kernelspec": {
   "display_name": "Python 3",
   "language": "python",
   "name": "python3"
  },
  "language_info": {
   "codemirror_mode": {
    "name": "ipython",
    "version": 3
   },
   "file_extension": ".py",
   "mimetype": "text/x-python",
   "name": "python",
   "nbconvert_exporter": "python",
   "pygments_lexer": "ipython3",
   "version": "3.6.8"
  }
 },
 "nbformat": 4,
 "nbformat_minor": 4
}
