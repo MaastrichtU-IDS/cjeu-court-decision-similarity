{
 "cells": [
  {
   "cell_type": "markdown",
   "metadata": {},
   "source": [
    "## Cases distribution"
   ]
  },
  {
   "cell_type": "code",
   "execution_count": 1,
   "metadata": {},
   "outputs": [],
   "source": [
    "import pandas as pd\n",
    "import numpy as np\n",
    "import seaborn as sns\n",
    "import scipy.stats\n",
    "import warnings\n",
    "warnings.filterwarnings(\"ignore\")"
   ]
  },
  {
   "cell_type": "code",
   "execution_count": 2,
   "metadata": {},
   "outputs": [],
   "source": [
    "cases_citations = pd.read_csv('../inputdata/all_cases_citations.csv')"
   ]
  },
  {
   "cell_type": "code",
   "execution_count": 3,
   "metadata": {},
   "outputs": [],
   "source": [
    "case_cites = cases_citations\\\n",
    "    .groupby('source')\\\n",
    "    .count()\\\n",
    "    .sort_values('target', ascending=False)\\\n",
    "    .reset_index()\\\n",
    "    .rename(columns = {'source':'case','target':'links'})"
   ]
  },
  {
   "cell_type": "code",
   "execution_count": 4,
   "metadata": {},
   "outputs": [],
   "source": [
    "case_is_cited = cases_citations\\\n",
    "    .groupby('target')\\\n",
    "    .count()\\\n",
    "    .sort_values('source', ascending=False)\\\n",
    "    .reset_index()\\\n",
    "    .rename(columns = {'target':'case','source':'links'})3"
   ]
  },
  {
   "cell_type": "code",
   "execution_count": 17,
   "metadata": {},
   "outputs": [],
   "source": [
    "#case_is_cited"
   ]
  },
  {
   "cell_type": "code",
   "execution_count": 5,
   "metadata": {},
   "outputs": [
    {
     "data": {
      "text/plain": [
       "<matplotlib.axes._subplots.AxesSubplot at 0x7fdc649f6e80>"
      ]
     },
     "execution_count": 5,
     "metadata": {},
     "output_type": "execute_result"
    },
    {
     "data": {
      "image/png": "[encoded data removed]",
      "text/plain": [
       "<Figure size 432x288 with 1 Axes>"
      ]
     },
     "metadata": {
      "needs_background": "light"
     },
     "output_type": "display_data"
    }
   ],
   "source": [
    "sns.distplot(case_is_cited['links'])"
   ]
  },
  {
   "cell_type": "code",
   "execution_count": 6,
   "metadata": {},
   "outputs": [
    {
     "data": {
      "text/html": [
       "<div>\n",
       "<style scoped>\n",
       "    .dataframe tbody tr th:only-of-type {\n",
       "        vertical-align: middle;\n",
       "    }\n",
       "\n",
       "    .dataframe tbody tr th {\n",
       "        vertical-align: top;\n",
       "    }\n",
       "\n",
       "    .dataframe thead th {\n",
       "        text-align: right;\n",
       "    }\n",
       "</style>\n",
       "<table border=\"1\" class=\"dataframe\">\n",
       "  <thead>\n",
       "    <tr style=\"text-align: right;\">\n",
       "      <th></th>\n",
       "      <th>links</th>\n",
       "    </tr>\n",
       "  </thead>\n",
       "  <tbody>\n",
       "    <tr>\n",
       "      <th>count</th>\n",
       "      <td>9663.000000</td>\n",
       "    </tr>\n",
       "    <tr>\n",
       "      <th>mean</th>\n",
       "      <td>4.530684</td>\n",
       "    </tr>\n",
       "    <tr>\n",
       "      <th>std</th>\n",
       "      <td>5.719543</td>\n",
       "    </tr>\n",
       "    <tr>\n",
       "      <th>min</th>\n",
       "      <td>1.000000</td>\n",
       "    </tr>\n",
       "    <tr>\n",
       "      <th>25%</th>\n",
       "      <td>1.000000</td>\n",
       "    </tr>\n",
       "    <tr>\n",
       "      <th>50%</th>\n",
       "      <td>3.000000</td>\n",
       "    </tr>\n",
       "    <tr>\n",
       "      <th>75%</th>\n",
       "      <td>5.000000</td>\n",
       "    </tr>\n",
       "    <tr>\n",
       "      <th>max</th>\n",
       "      <td>118.000000</td>\n",
       "    </tr>\n",
       "  </tbody>\n",
       "</table>\n",
       "</div>"
      ],
      "text/plain": [
       "             links\n",
       "count  9663.000000\n",
       "mean      4.530684\n",
       "std       5.719543\n",
       "min       1.000000\n",
       "25%       1.000000\n",
       "50%       3.000000\n",
       "75%       5.000000\n",
       "max     118.000000"
      ]
     },
     "execution_count": 6,
     "metadata": {},
     "output_type": "execute_result"
    }
   ],
   "source": [
    "case_is_cited.describe()"
   ]
  },
  {
   "cell_type": "markdown",
   "metadata": {},
   "source": [
    "#### One-Sample Kolmogorov-Smirnov Test for comparing with theoretical distribuition"
   ]
  },
  {
   "cell_type": "code",
   "execution_count": 7,
   "metadata": {
    "jupyter": {
     "source_hidden": true
    }
   },
   "outputs": [],
   "source": [
    "cdfs = [\n",
    "    \"norm\",            #Normal (Gaussian)\n",
    "    \"alpha\",           #Alpha\n",
    "    \"anglit\",          #Anglit\n",
    "    \"arcsine\",         #Arcsine\n",
    "    \"beta\",            #Beta\n",
    "    \"betaprime\",       #Beta Prime\n",
    "    \"bradford\",        #Bradford\n",
    "    \"burr\",            #Burr\n",
    "    \"cauchy\",          #Cauchy\n",
    "    \"chi\",             #Chi\n",
    "    \"chi2\",            #Chi-squared\n",
    "    \"cosine\",          #Cosine\n",
    "    \"dgamma\",          #Double Gamma\n",
    "    \"dweibull\",        #Double Weibull\n",
    "    \"erlang\",          #Erlang\n",
    "    \"expon\",           #Exponential\n",
    "    \"exponweib\",       #Exponentiated Weibull\n",
    "    \"exponpow\",        #Exponential Power\n",
    "    \"fatiguelife\",     #Fatigue Life (Birnbaum-Sanders)\n",
    "    \"foldcauchy\",      #Folded Cauchy\n",
    "    \"f\",               #F (Snecdor F)\n",
    "    \"fisk\",            #Fisk\n",
    "    \"foldnorm\",        #Folded Normal\n",
    "    \"frechet_r\",       #Frechet Right Sided, Extreme Value Type II\n",
    "    \"frechet_l\",       #Frechet Left Sided, Weibull_max\n",
    "    \"gamma\",           #Gamma\n",
    "    \"gausshyper\",      #Gauss Hypergeometric\n",
    "    \"genexpon\",        #Generalized Exponential\n",
    "    \"genextreme\",      #Generalized Extreme Value\n",
    "    \"gengamma\",        #Generalized gamma\n",
    "    \"genlogistic\",     #Generalized Logistic\n",
    "    \"genpareto\",       #Generalized Pareto\n",
    "    \"genhalflogistic\", #Generalized Half Logistic\n",
    "    \"gilbrat\",         #Gilbrat\n",
    "    \"gompertz\",        #Gompertz (Truncated Gumbel)\n",
    "    \"gumbel_l\",        #Left Sided Gumbel, etc.\n",
    "    \"gumbel_r\",        #Right Sided Gumbel\n",
    "    \"halfcauchy\",      #Half Cauchy\n",
    "    \"halflogistic\",    #Half Logistic\n",
    "    \"halfnorm\",        #Half Normal\n",
    "    \"hypsecant\",       #Hyperbolic Secant\n",
    "    \"invgamma\",        #Inverse Gamma\n",
    "#    \"invnorm\",         #Inverse Normal\n",
    "    \"invweibull\",      #Inverse Weibull\n",
    "    \"johnsonsb\",       #Johnson SB\n",
    "    \"johnsonsu\",       #Johnson SU\n",
    "    \"laplace\",         #Laplace\n",
    "    \"logistic\",        #Logistic\n",
    "    \"loggamma\",        #Log-Gamma\n",
    "    \"loglaplace\",      #Log-Laplace (Log Double Exponential)\n",
    "    \"lognorm\",         #Log-Normal\n",
    "    \"lomax\",           #Lomax (Pareto of the second kind)\n",
    "    \"maxwell\",         #Maxwell\n",
    "    \"mielke\",          #Mielke's Beta-Kappa\n",
    "    \"nakagami\",        #Nakagami\n",
    "    \"ncx2\",            #Non-central chi-squared\n",
    "#    \"ncf\",             #Non-central F\n",
    "    \"nct\",             #Non-central Student's T\n",
    "    \"pareto\",          #Pareto\n",
    "    \"powerlaw\",        #Power-function\n",
    "    \"powerlognorm\",    #Power log normal\n",
    "    \"powernorm\",       #Power normal\n",
    "    \"rdist\",           #R distribution\n",
    "    \"reciprocal\",      #Reciprocal\n",
    "    \"rayleigh\",        #Rayleigh\n",
    "    \"rice\",            #Rice\n",
    "    \"recipinvgauss\",   #Reciprocal Inverse Gaussian\n",
    "    \"semicircular\",    #Semicircular\n",
    "    \"t\",               #Student's T\n",
    "    \"triang\",          #Triangular\n",
    "    \"truncexpon\",      #Truncated Exponential\n",
    "    \"truncnorm\",       #Truncated Normal\n",
    "    \"tukeylambda\",     #Tukey-Lambda\n",
    "    \"uniform\",         #Uniform\n",
    "    \"vonmises\",        #Von-Mises (Circular)\n",
    "    \"wald\",            #Wald\n",
    "    \"weibull_min\",     #Minimum Weibull (see Frechet)\n",
    "    \"weibull_max\",     #Maximum Weibull (see Frechet)\n",
    "    \"wrapcauchy\",      #Wrapped Cauchy\n",
    "    \"ksone\",           #Kolmogorov-Smirnov one-sided (no stats)\n",
    "    \"kstwobign\"]       #Kolmogorov-Smirnov two-sided test for Large N"
   ]
  },
  {
   "cell_type": "code",
   "execution_count": 8,
   "metadata": {},
   "outputs": [],
   "source": [
    "vector = case_is_cited.links.values\n",
    "np.random.seed(9876)\n",
    "results = []\n",
    "for cdf in cdfs:\n",
    "    #fit our data set against every probability distribution\n",
    "    parameters = eval(\"scipy.stats.\"+cdf+\".fit(vector)\")\n",
    "    #Applying the Kolmogorov-Smirnof one sided test\n",
    "    D, p = scipy.stats.kstest(vector, cdf, args=parameters)\n",
    "    if D < 1:\n",
    "        results.append((cdf.ljust(16),p,D))"
   ]
  },
  {
   "cell_type": "code",
   "execution_count": 9,
   "metadata": {},
   "outputs": [],
   "source": [
    "distribution_tests = pd.DataFrame(results)\\\n",
    "    .dropna()\\\n",
    "    .rename(columns = {0:'dist',1:'p-value',2:'D-statistic'})\\\n",
    "    .sort_values('D-statistic', ascending=False)"
   ]
  },
  {
   "cell_type": "code",
   "execution_count": 10,
   "metadata": {},
   "outputs": [
    {
     "data": {
      "text/html": [
       "<div>\n",
       "<style scoped>\n",
       "    .dataframe tbody tr th:only-of-type {\n",
       "        vertical-align: middle;\n",
       "    }\n",
       "\n",
       "    .dataframe tbody tr th {\n",
       "        vertical-align: top;\n",
       "    }\n",
       "\n",
       "    .dataframe thead th {\n",
       "        text-align: right;\n",
       "    }\n",
       "</style>\n",
       "<table border=\"1\" class=\"dataframe\">\n",
       "  <thead>\n",
       "    <tr style=\"text-align: right;\">\n",
       "      <th></th>\n",
       "      <th>dist</th>\n",
       "      <th>p-value</th>\n",
       "      <th>D-statistic</th>\n",
       "    </tr>\n",
       "  </thead>\n",
       "  <tbody>\n",
       "    <tr>\n",
       "      <th>24</th>\n",
       "      <td>frechet_l</td>\n",
       "      <td>0.0</td>\n",
       "      <td>0.857780</td>\n",
       "    </tr>\n",
       "    <tr>\n",
       "      <th>73</th>\n",
       "      <td>weibull_max</td>\n",
       "      <td>0.0</td>\n",
       "      <td>0.857780</td>\n",
       "    </tr>\n",
       "    <tr>\n",
       "      <th>74</th>\n",
       "      <td>ksone</td>\n",
       "      <td>0.0</td>\n",
       "      <td>0.841760</td>\n",
       "    </tr>\n",
       "    <tr>\n",
       "      <th>70</th>\n",
       "      <td>uniform</td>\n",
       "      <td>0.0</td>\n",
       "      <td>0.841760</td>\n",
       "    </tr>\n",
       "    <tr>\n",
       "      <th>3</th>\n",
       "      <td>arcsine</td>\n",
       "      <td>0.0</td>\n",
       "      <td>0.737694</td>\n",
       "    </tr>\n",
       "    <tr>\n",
       "      <th>68</th>\n",
       "      <td>truncnorm</td>\n",
       "      <td>0.0</td>\n",
       "      <td>0.704440</td>\n",
       "    </tr>\n",
       "    <tr>\n",
       "      <th>60</th>\n",
       "      <td>reciprocal</td>\n",
       "      <td>0.0</td>\n",
       "      <td>0.704440</td>\n",
       "    </tr>\n",
       "    <tr>\n",
       "      <th>41</th>\n",
       "      <td>invgamma</td>\n",
       "      <td>0.0</td>\n",
       "      <td>0.704428</td>\n",
       "    </tr>\n",
       "    <tr>\n",
       "      <th>20</th>\n",
       "      <td>f</td>\n",
       "      <td>0.0</td>\n",
       "      <td>0.704416</td>\n",
       "    </tr>\n",
       "    <tr>\n",
       "      <th>31</th>\n",
       "      <td>genpareto</td>\n",
       "      <td>0.0</td>\n",
       "      <td>0.704409</td>\n",
       "    </tr>\n",
       "  </tbody>\n",
       "</table>\n",
       "</div>"
      ],
      "text/plain": [
       "                dist  p-value  D-statistic\n",
       "24  frechet_l             0.0     0.857780\n",
       "73  weibull_max           0.0     0.857780\n",
       "74  ksone                 0.0     0.841760\n",
       "70  uniform               0.0     0.841760\n",
       "3   arcsine               0.0     0.737694\n",
       "68  truncnorm             0.0     0.704440\n",
       "60  reciprocal            0.0     0.704440\n",
       "41  invgamma              0.0     0.704428\n",
       "20  f                     0.0     0.704416\n",
       "31  genpareto             0.0     0.704409"
      ]
     },
     "execution_count": 10,
     "metadata": {},
     "output_type": "execute_result"
    }
   ],
   "source": [
    "distribution_tests.head(10)"
   ]
  },
  {
   "cell_type": "code",
   "execution_count": 11,
   "metadata": {},
   "outputs": [],
   "source": [
    "#equivalent\n",
    "#np.percentile(case_is_cited['links'], 99)\n",
    "#case_is_cited.quantile(.99)"
   ]
  },
  {
   "cell_type": "code",
   "execution_count": 12,
   "metadata": {},
   "outputs": [],
   "source": [
    "#case_is_cited['quantile'] = case_is_cited['links'].rank(pct=True)"
   ]
  },
  {
   "cell_type": "markdown",
   "metadata": {},
   "source": [
    "---"
   ]
  },
  {
   "cell_type": "code",
   "execution_count": 13,
   "metadata": {},
   "outputs": [],
   "source": [
    "from statsmodels.stats.power import  tt_ind_solve_power\n",
    "from scipy.interpolate import interp1d\n",
    "import matplotlib.pyplot as plt\n",
    "\n",
    "def test_ttest_power_diff(mean, std, sample1_size=None, alpha=0.05, desired_power=0.8, mean_diff_percentages=[0.1, 0.05]):\n",
    "    '''\n",
    "    calculates the power function for a given mean and std. the function plots a graph showing the comparison between desired mean differences\n",
    "    :param mean: the desired mean\n",
    "    :param std: the std value\n",
    "    :param sample1_size: if None, it is assumed that both samples (first and second) will have same size. The function then will\n",
    "    walk through possible sample sizes (up to 100, hardcoded).\n",
    "    If this value is not None, the function will check different alternatives for sample 2 sizes up to sample 1 size.\n",
    "    :param alpha: alpha default value is 0.05\n",
    "    :param desired_power: will use this value in order to mark on the graph\n",
    "    :param mean_diff_percentages: iterable list of percentages. A line per value will be calculated and plotted.\n",
    "    :return: None\n",
    "    '''\n",
    "    fig, ax = plt.subplots()\n",
    "    for mean_diff_percent in mean_diff_percentages:\n",
    "        mean_diff = mean_diff_percent * mean\n",
    "        effect_size = mean_diff / std\n",
    "\n",
    "        print('Mean diff: ', mean_diff)\n",
    "        print('Effect size: ', effect_size)\n",
    "\n",
    "        powers = []\n",
    "\n",
    "        max_size  = sample1_size\n",
    "        if sample1_size is None:\n",
    "            max_size = 100\n",
    "\n",
    "        sizes = np.arange(1, max_size, 2)\n",
    "        for sample2_size in sizes:\n",
    "            if(sample1_size is None):\n",
    "                n = tt_ind_solve_power(effect_size=effect_size, nobs1=sample2_size, alpha=alpha, ratio=1.0, alternative='two-sided')\n",
    "                print('tt_ind_solve_power(alpha=', alpha, 'sample2_size=', sample2_size, '): sample size in *second* group: {:.5f}'.format(n))\n",
    "            else:\n",
    "                n = tt_ind_solve_power(effect_size=effect_size, nobs1=sample1_size, alpha=alpha, ratio=(1.0*sample2_size/sample1_size), alternative='two-sided')\n",
    "                print('tt_ind_solve_power(alpha=', alpha, 'sample2_size=', sample2_size, '): sample size *each* group: {:.5f}'.format(n))\n",
    "\n",
    "            powers.append(n)\n",
    "\n",
    "        try: # mark the desired power on the graph\n",
    "            z1 = interp1d(powers, sizes)\n",
    "            results = z1(desired_power)\n",
    "\n",
    "            plt.plot([results], [desired_power], 'gD')\n",
    "        except Exception as e:\n",
    "            print(\"Error: \", e)\n",
    "            #ignore\n",
    "\n",
    "        plt.title('Power vs. Sample Size')\n",
    "        plt.xlabel('Sample Size')\n",
    "        plt.ylabel('Power')\n",
    "\n",
    "        plt.plot(sizes, powers, label='diff={:2.0f}%'.format(100*mean_diff_percent)) #, '-gD')\n",
    "\n",
    "    plt.legend()\n",
    "    plt.show()"
   ]
  },
  {
   "cell_type": "code",
   "execution_count": 14,
   "metadata": {},
   "outputs": [
    {
     "name": "stdout",
     "output_type": "stream",
     "text": [
      "Mean diff:  1.0\n",
      "Effect size:  0.5\n",
      "tt_ind_solve_power(alpha= 0.05 sample2_size= 1 ): sample size in *second* group: nan\n",
      "tt_ind_solve_power(alpha= 0.05 sample2_size= 3 ): sample size in *second* group: 0.07685\n",
      "tt_ind_solve_power(alpha= 0.05 sample2_size= 5 ): sample size in *second* group: 0.10769\n",
      "tt_ind_solve_power(alpha= 0.05 sample2_size= 7 ): sample size in *second* group: 0.13856\n",
      "tt_ind_solve_power(alpha= 0.05 sample2_size= 9 ): sample size in *second* group: 0.16956\n",
      "tt_ind_solve_power(alpha= 0.05 sample2_size= 11 ): sample size in *second* group: 0.20063\n",
      "tt_ind_solve_power(alpha= 0.05 sample2_size= 13 ): sample size in *second* group: 0.23163\n",
      "tt_ind_solve_power(alpha= 0.05 sample2_size= 15 ): sample size in *second* group: 0.26244\n",
      "tt_ind_solve_power(alpha= 0.05 sample2_size= 17 ): sample size in *second* group: 0.29296\n",
      "tt_ind_solve_power(alpha= 0.05 sample2_size= 19 ): sample size in *second* group: 0.32307\n",
      "tt_ind_solve_power(alpha= 0.05 sample2_size= 21 ): sample size in *second* group: 0.35268\n",
      "tt_ind_solve_power(alpha= 0.05 sample2_size= 23 ): sample size in *second* group: 0.38171\n",
      "tt_ind_solve_power(alpha= 0.05 sample2_size= 25 ): sample size in *second* group: 0.41010\n",
      "tt_ind_solve_power(alpha= 0.05 sample2_size= 27 ): sample size in *second* group: 0.43779\n",
      "tt_ind_solve_power(alpha= 0.05 sample2_size= 29 ): sample size in *second* group: 0.46472\n",
      "tt_ind_solve_power(alpha= 0.05 sample2_size= 31 ): sample size in *second* group: 0.49087\n",
      "tt_ind_solve_power(alpha= 0.05 sample2_size= 33 ): sample size in *second* group: 0.51620\n",
      "tt_ind_solve_power(alpha= 0.05 sample2_size= 35 ): sample size in *second* group: 0.54069\n",
      "tt_ind_solve_power(alpha= 0.05 sample2_size= 37 ): sample size in *second* group: 0.56432\n",
      "tt_ind_solve_power(alpha= 0.05 sample2_size= 39 ): sample size in *second* group: 0.58709\n",
      "tt_ind_solve_power(alpha= 0.05 sample2_size= 41 ): sample size in *second* group: 0.60899\n",
      "tt_ind_solve_power(alpha= 0.05 sample2_size= 43 ): sample size in *second* group: 0.63002\n",
      "tt_ind_solve_power(alpha= 0.05 sample2_size= 45 ): sample size in *second* group: 0.65019\n",
      "tt_ind_solve_power(alpha= 0.05 sample2_size= 47 ): sample size in *second* group: 0.66950\n",
      "tt_ind_solve_power(alpha= 0.05 sample2_size= 49 ): sample size in *second* group: 0.68797\n",
      "tt_ind_solve_power(alpha= 0.05 sample2_size= 51 ): sample size in *second* group: 0.70561\n",
      "tt_ind_solve_power(alpha= 0.05 sample2_size= 53 ): sample size in *second* group: 0.72245\n",
      "tt_ind_solve_power(alpha= 0.05 sample2_size= 55 ): sample size in *second* group: 0.73849\n",
      "tt_ind_solve_power(alpha= 0.05 sample2_size= 57 ): sample size in *second* group: 0.75376\n",
      "tt_ind_solve_power(alpha= 0.05 sample2_size= 59 ): sample size in *second* group: 0.76828\n",
      "tt_ind_solve_power(alpha= 0.05 sample2_size= 61 ): sample size in *second* group: 0.78207\n",
      "tt_ind_solve_power(alpha= 0.05 sample2_size= 63 ): sample size in *second* group: 0.79517\n",
      "tt_ind_solve_power(alpha= 0.05 sample2_size= 65 ): sample size in *second* group: 0.80758\n",
      "tt_ind_solve_power(alpha= 0.05 sample2_size= 67 ): sample size in *second* group: 0.81935\n",
      "tt_ind_solve_power(alpha= 0.05 sample2_size= 69 ): sample size in *second* group: 0.83048\n",
      "tt_ind_solve_power(alpha= 0.05 sample2_size= 71 ): sample size in *second* group: 0.84101\n",
      "tt_ind_solve_power(alpha= 0.05 sample2_size= 73 ): sample size in *second* group: 0.85097\n",
      "tt_ind_solve_power(alpha= 0.05 sample2_size= 75 ): sample size in *second* group: 0.86037\n",
      "tt_ind_solve_power(alpha= 0.05 sample2_size= 77 ): sample size in *second* group: 0.86924\n",
      "tt_ind_solve_power(alpha= 0.05 sample2_size= 79 ): sample size in *second* group: 0.87760\n",
      "tt_ind_solve_power(alpha= 0.05 sample2_size= 81 ): sample size in *second* group: 0.88548\n",
      "tt_ind_solve_power(alpha= 0.05 sample2_size= 83 ): sample size in *second* group: 0.89291\n",
      "tt_ind_solve_power(alpha= 0.05 sample2_size= 85 ): sample size in *second* group: 0.89989\n",
      "tt_ind_solve_power(alpha= 0.05 sample2_size= 87 ): sample size in *second* group: 0.90646\n",
      "tt_ind_solve_power(alpha= 0.05 sample2_size= 89 ): sample size in *second* group: 0.91264\n",
      "tt_ind_solve_power(alpha= 0.05 sample2_size= 91 ): sample size in *second* group: 0.91844\n",
      "tt_ind_solve_power(alpha= 0.05 sample2_size= 93 ): sample size in *second* group: 0.92389\n",
      "tt_ind_solve_power(alpha= 0.05 sample2_size= 95 ): sample size in *second* group: 0.92900\n",
      "tt_ind_solve_power(alpha= 0.05 sample2_size= 97 ): sample size in *second* group: 0.93379\n",
      "tt_ind_solve_power(alpha= 0.05 sample2_size= 99 ): sample size in *second* group: 0.93829\n",
      "Mean diff:  0.5\n",
      "Effect size:  0.25\n",
      "tt_ind_solve_power(alpha= 0.05 sample2_size= 1 ): sample size in *second* group: nan\n",
      "tt_ind_solve_power(alpha= 0.05 sample2_size= 3 ): sample size in *second* group: 0.05667\n",
      "tt_ind_solve_power(alpha= 0.05 sample2_size= 5 ): sample size in *second* group: 0.06417\n",
      "tt_ind_solve_power(alpha= 0.05 sample2_size= 7 ): sample size in *second* group: 0.07158\n",
      "tt_ind_solve_power(alpha= 0.05 sample2_size= 9 ): sample size in *second* group: 0.07900\n",
      "tt_ind_solve_power(alpha= 0.05 sample2_size= 11 ): sample size in *second* group: 0.08645\n",
      "tt_ind_solve_power(alpha= 0.05 sample2_size= 13 ): sample size in *second* group: 0.09392\n",
      "tt_ind_solve_power(alpha= 0.05 sample2_size= 15 ): sample size in *second* group: 0.10143\n",
      "tt_ind_solve_power(alpha= 0.05 sample2_size= 17 ): sample size in *second* group: 0.10897\n",
      "tt_ind_solve_power(alpha= 0.05 sample2_size= 19 ): sample size in *second* group: 0.11654\n",
      "tt_ind_solve_power(alpha= 0.05 sample2_size= 21 ): sample size in *second* group: 0.12414\n",
      "tt_ind_solve_power(alpha= 0.05 sample2_size= 23 ): sample size in *second* group: 0.13176\n",
      "tt_ind_solve_power(alpha= 0.05 sample2_size= 25 ): sample size in *second* group: 0.13940\n",
      "tt_ind_solve_power(alpha= 0.05 sample2_size= 27 ): sample size in *second* group: 0.14707\n",
      "tt_ind_solve_power(alpha= 0.05 sample2_size= 29 ): sample size in *second* group: 0.15475\n",
      "tt_ind_solve_power(alpha= 0.05 sample2_size= 31 ): sample size in *second* group: 0.16245\n",
      "tt_ind_solve_power(alpha= 0.05 sample2_size= 33 ): sample size in *second* group: 0.17015\n",
      "tt_ind_solve_power(alpha= 0.05 sample2_size= 35 ): sample size in *second* group: 0.17787\n",
      "tt_ind_solve_power(alpha= 0.05 sample2_size= 37 ): sample size in *second* group: 0.18559\n",
      "tt_ind_solve_power(alpha= 0.05 sample2_size= 39 ): sample size in *second* group: 0.19332\n",
      "tt_ind_solve_power(alpha= 0.05 sample2_size= 41 ): sample size in *second* group: 0.20105\n",
      "tt_ind_solve_power(alpha= 0.05 sample2_size= 43 ): sample size in *second* group: 0.20877\n",
      "tt_ind_solve_power(alpha= 0.05 sample2_size= 45 ): sample size in *second* group: 0.21650\n",
      "tt_ind_solve_power(alpha= 0.05 sample2_size= 47 ): sample size in *second* group: 0.22422\n",
      "tt_ind_solve_power(alpha= 0.05 sample2_size= 49 ): sample size in *second* group: 0.23193\n",
      "tt_ind_solve_power(alpha= 0.05 sample2_size= 51 ): sample size in *second* group: 0.23963\n",
      "tt_ind_solve_power(alpha= 0.05 sample2_size= 53 ): sample size in *second* group: 0.24732\n",
      "tt_ind_solve_power(alpha= 0.05 sample2_size= 55 ): sample size in *second* group: 0.25499\n",
      "tt_ind_solve_power(alpha= 0.05 sample2_size= 57 ): sample size in *second* group: 0.26265\n",
      "tt_ind_solve_power(alpha= 0.05 sample2_size= 59 ): sample size in *second* group: 0.27030\n",
      "tt_ind_solve_power(alpha= 0.05 sample2_size= 61 ): sample size in *second* group: 0.27792\n",
      "tt_ind_solve_power(alpha= 0.05 sample2_size= 63 ): sample size in *second* group: 0.28552\n",
      "tt_ind_solve_power(alpha= 0.05 sample2_size= 65 ): sample size in *second* group: 0.29310\n",
      "tt_ind_solve_power(alpha= 0.05 sample2_size= 67 ): sample size in *second* group: 0.30065\n",
      "tt_ind_solve_power(alpha= 0.05 sample2_size= 69 ): sample size in *second* group: 0.30818\n",
      "tt_ind_solve_power(alpha= 0.05 sample2_size= 71 ): sample size in *second* group: 0.31568\n",
      "tt_ind_solve_power(alpha= 0.05 sample2_size= 73 ): sample size in *second* group: 0.32315\n",
      "tt_ind_solve_power(alpha= 0.05 sample2_size= 75 ): sample size in *second* group: 0.33059\n",
      "tt_ind_solve_power(alpha= 0.05 sample2_size= 77 ): sample size in *second* group: 0.33800\n",
      "tt_ind_solve_power(alpha= 0.05 sample2_size= 79 ): sample size in *second* group: 0.34538\n",
      "tt_ind_solve_power(alpha= 0.05 sample2_size= 81 ): sample size in *second* group: 0.35272\n",
      "tt_ind_solve_power(alpha= 0.05 sample2_size= 83 ): sample size in *second* group: 0.36003\n",
      "tt_ind_solve_power(alpha= 0.05 sample2_size= 85 ): sample size in *second* group: 0.36730\n",
      "tt_ind_solve_power(alpha= 0.05 sample2_size= 87 ): sample size in *second* group: 0.37453\n",
      "tt_ind_solve_power(alpha= 0.05 sample2_size= 89 ): sample size in *second* group: 0.38172\n",
      "tt_ind_solve_power(alpha= 0.05 sample2_size= 91 ): sample size in *second* group: 0.38887\n",
      "tt_ind_solve_power(alpha= 0.05 sample2_size= 93 ): sample size in *second* group: 0.39598\n",
      "tt_ind_solve_power(alpha= 0.05 sample2_size= 95 ): sample size in *second* group: 0.40305\n",
      "tt_ind_solve_power(alpha= 0.05 sample2_size= 97 ): sample size in *second* group: 0.41008\n",
      "tt_ind_solve_power(alpha= 0.05 sample2_size= 99 ): sample size in *second* group: 0.41706\n"
     ]
    },
    {
     "data": {
      "image/png": "[encoded data removed]",
      "text/plain": [
       "<Figure size 432x288 with 1 Axes>"
      ]
     },
     "metadata": {
      "needs_background": "light"
     },
     "output_type": "display_data"
    }
   ],
   "source": [
    "mean=10; std=2\n",
    "test_ttest_power_diff(mean, std, sample1_size=None, alpha=0.05, desired_power=0.8, mean_diff_percentages=[0.1, 0.05])"
   ]
  }
 ],
 "metadata": {
  "kernelspec": {
   "display_name": "Python 3",
   "language": "python",
   "name": "python3"
  },
  "language_info": {
   "codemirror_mode": {
    "name": "ipython",
    "version": 3
   },
   "file_extension": ".py",
   "mimetype": "text/x-python",
   "name": "python",
   "nbconvert_exporter": "python",
   "pygments_lexer": "ipython3",
   "version": "3.7.3"
  }
 },
 "nbformat": 4,
 "nbformat_minor": 4
}
