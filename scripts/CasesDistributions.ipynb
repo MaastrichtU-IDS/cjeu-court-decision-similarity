{
 "cells": [
  {
   "cell_type": "markdown",
   "metadata": {},
   "source": [
    "## Cases distribution"
   ]
  },
  {
   "cell_type": "code",
   "execution_count": 2,
   "metadata": {},
   "outputs": [],
   "source": [
    "import pandas as pd\n",
    "import numpy as np\n",
    "import seaborn as sns\n",
    "import scipy.stats\n",
    "import warnings\n",
    "warnings.filterwarnings(\"ignore\")"
   ]
  },
  {
   "cell_type": "code",
   "execution_count": 3,
   "metadata": {},
   "outputs": [],
   "source": [
    "cases_citations = pd.read_csv('../inputdata/all_cases_citations.csv')"
   ]
  },
  {
   "cell_type": "code",
   "execution_count": 4,
   "metadata": {},
   "outputs": [],
   "source": [
    "case_cites = cases_citations\\\n",
    "    .groupby('source')\\\n",
    "    .count()\\\n",
    "    .sort_values('target', ascending=False)\\\n",
    "    .reset_index()\\\n",
    "    .rename(columns = {'source':'case','target':'links'})"
   ]
  },
  {
   "cell_type": "code",
   "execution_count": 5,
   "metadata": {},
   "outputs": [
    {
     "data": {
      "text/html": [
       "<div>\n",
       "<style scoped>\n",
       "    .dataframe tbody tr th:only-of-type {\n",
       "        vertical-align: middle;\n",
       "    }\n",
       "\n",
       "    .dataframe tbody tr th {\n",
       "        vertical-align: top;\n",
       "    }\n",
       "\n",
       "    .dataframe thead th {\n",
       "        text-align: right;\n",
       "    }\n",
       "</style>\n",
       "<table border=\"1\" class=\"dataframe\">\n",
       "  <thead>\n",
       "    <tr style=\"text-align: right;\">\n",
       "      <th></th>\n",
       "      <th>links</th>\n",
       "    </tr>\n",
       "  </thead>\n",
       "  <tbody>\n",
       "    <tr>\n",
       "      <th>count</th>\n",
       "      <td>10264.000000</td>\n",
       "    </tr>\n",
       "    <tr>\n",
       "      <th>mean</th>\n",
       "      <td>4.265394</td>\n",
       "    </tr>\n",
       "    <tr>\n",
       "      <th>std</th>\n",
       "      <td>4.268959</td>\n",
       "    </tr>\n",
       "    <tr>\n",
       "      <th>min</th>\n",
       "      <td>1.000000</td>\n",
       "    </tr>\n",
       "    <tr>\n",
       "      <th>25%</th>\n",
       "      <td>1.000000</td>\n",
       "    </tr>\n",
       "    <tr>\n",
       "      <th>50%</th>\n",
       "      <td>3.000000</td>\n",
       "    </tr>\n",
       "    <tr>\n",
       "      <th>75%</th>\n",
       "      <td>6.000000</td>\n",
       "    </tr>\n",
       "    <tr>\n",
       "      <th>max</th>\n",
       "      <td>55.000000</td>\n",
       "    </tr>\n",
       "  </tbody>\n",
       "</table>\n",
       "</div>"
      ],
      "text/plain": [
       "              links\n",
       "count  10264.000000\n",
       "mean       4.265394\n",
       "std        4.268959\n",
       "min        1.000000\n",
       "25%        1.000000\n",
       "50%        3.000000\n",
       "75%        6.000000\n",
       "max       55.000000"
      ]
     },
     "execution_count": 5,
     "metadata": {},
     "output_type": "execute_result"
    }
   ],
   "source": [
    "case_cites.describe()"
   ]
  },
  {
   "cell_type": "code",
   "execution_count": 23,
   "metadata": {},
   "outputs": [
    {
     "data": {
      "text/plain": [
       "links    19.0\n",
       "Name: 0.985, dtype: float64"
      ]
     },
     "execution_count": 23,
     "metadata": {},
     "output_type": "execute_result"
    }
   ],
   "source": [
    "case_cites.quantile(.985, axis =0)"
   ]
  },
  {
   "cell_type": "code",
   "execution_count": 6,
   "metadata": {},
   "outputs": [
    {
     "data": {
      "text/plain": [
       "<matplotlib.axes._subplots.AxesSubplot at 0x118da92e8>"
      ]
     },
     "execution_count": 6,
     "metadata": {},
     "output_type": "execute_result"
    },
    {
     "data": {
      "image/png": "[encoded data removed]",
      "text/plain": [
       "<Figure size 432x288 with 1 Axes>"
      ]
     },
     "metadata": {
      "needs_background": "light"
     },
     "output_type": "display_data"
    }
   ],
   "source": [
    "sns.distplot(case_cites['links'])"
   ]
  },
  {
   "cell_type": "code",
   "execution_count": 12,
   "metadata": {},
   "outputs": [],
   "source": [
    "case_cites['percentile'] = case_cites.rank(pct=True)['links']"
   ]
  },
  {
   "cell_type": "code",
   "execution_count": 21,
   "metadata": {},
   "outputs": [
    {
     "data": {
      "text/html": [
       "<div>\n",
       "<style scoped>\n",
       "    .dataframe tbody tr th:only-of-type {\n",
       "        vertical-align: middle;\n",
       "    }\n",
       "\n",
       "    .dataframe tbody tr th {\n",
       "        vertical-align: top;\n",
       "    }\n",
       "\n",
       "    .dataframe thead th {\n",
       "        text-align: right;\n",
       "    }\n",
       "</style>\n",
       "<table border=\"1\" class=\"dataframe\">\n",
       "  <thead>\n",
       "    <tr style=\"text-align: right;\">\n",
       "      <th></th>\n",
       "      <th>links</th>\n",
       "      <th>percentile</th>\n",
       "    </tr>\n",
       "  </thead>\n",
       "  <tbody>\n",
       "    <tr>\n",
       "      <th>count</th>\n",
       "      <td>9746.000000</td>\n",
       "      <td>9746.000000</td>\n",
       "    </tr>\n",
       "    <tr>\n",
       "      <th>mean</th>\n",
       "      <td>3.546378</td>\n",
       "      <td>0.474815</td>\n",
       "    </tr>\n",
       "    <tr>\n",
       "      <th>std</th>\n",
       "      <td>2.688889</td>\n",
       "      <td>0.269471</td>\n",
       "    </tr>\n",
       "    <tr>\n",
       "      <th>min</th>\n",
       "      <td>1.000000</td>\n",
       "      <td>0.134012</td>\n",
       "    </tr>\n",
       "    <tr>\n",
       "      <th>25%</th>\n",
       "      <td>1.000000</td>\n",
       "      <td>0.134012</td>\n",
       "    </tr>\n",
       "    <tr>\n",
       "      <th>50%</th>\n",
       "      <td>3.000000</td>\n",
       "      <td>0.511691</td>\n",
       "    </tr>\n",
       "    <tr>\n",
       "      <th>75%</th>\n",
       "      <td>5.000000</td>\n",
       "      <td>0.712344</td>\n",
       "    </tr>\n",
       "    <tr>\n",
       "      <th>max</th>\n",
       "      <td>12.000000</td>\n",
       "      <td>0.944320</td>\n",
       "    </tr>\n",
       "  </tbody>\n",
       "</table>\n",
       "</div>"
      ],
      "text/plain": [
       "             links   percentile\n",
       "count  9746.000000  9746.000000\n",
       "mean      3.546378     0.474815\n",
       "std       2.688889     0.269471\n",
       "min       1.000000     0.134012\n",
       "25%       1.000000     0.134012\n",
       "50%       3.000000     0.511691\n",
       "75%       5.000000     0.712344\n",
       "max      12.000000     0.944320"
      ]
     },
     "execution_count": 21,
     "metadata": {},
     "output_type": "execute_result"
    }
   ],
   "source": [
    "case_cites_95pct = case_cites[case_cites['percentile'] < .95]\n",
    "case_cites_95pct.describe()"
   ]
  },
  {
   "cell_type": "code",
   "execution_count": 20,
   "metadata": {},
   "outputs": [
    {
     "data": {
      "text/plain": [
       "<matplotlib.axes._subplots.AxesSubplot at 0x11939a2e8>"
      ]
     },
     "execution_count": 20,
     "metadata": {},
     "output_type": "execute_result"
    },
    {
     "data": {
      "image/png": "[encoded data removed]",
      "text/plain": [
       "<Figure size 432x288 with 1 Axes>"
      ]
     },
     "metadata": {
      "needs_background": "light"
     },
     "output_type": "display_data"
    }
   ],
   "source": [
    "sns.distplot(case_cites_95pct['links'])"
   ]
  },
  {
   "cell_type": "code",
   "execution_count": 17,
   "metadata": {},
   "outputs": [],
   "source": [
    "case_is_cited = cases_citations\\\n",
    "    .groupby('target')\\\n",
    "    .count()\\\n",
    "    .sort_values('source', ascending=False)\\\n",
    "    .reset_index()\\\n",
    "    .rename(columns = {'target':'case','source':'links'})"
   ]
  },
  {
   "cell_type": "code",
   "execution_count": 18,
   "metadata": {},
   "outputs": [],
   "source": [
    "#case_is_cited"
   ]
  },
  {
   "cell_type": "code",
   "execution_count": 19,
   "metadata": {},
   "outputs": [
    {
     "data": {
      "text/plain": [
       "<matplotlib.axes._subplots.AxesSubplot at 0x1066c7ba8>"
      ]
     },
     "execution_count": 19,
     "metadata": {},
     "output_type": "execute_result"
    },
    {
     "data": {
      "image/png": "[encoded data removed]",
      "text/plain": [
       "<Figure size 432x288 with 1 Axes>"
      ]
     },
     "metadata": {
      "needs_background": "light"
     },
     "output_type": "display_data"
    }
   ],
   "source": [
    "sns.distplot(case_is_cited['links'])"
   ]
  },
  {
   "cell_type": "code",
   "execution_count": 20,
   "metadata": {},
   "outputs": [
    {
     "data": {
      "text/html": [
       "<div>\n",
       "<style scoped>\n",
       "    .dataframe tbody tr th:only-of-type {\n",
       "        vertical-align: middle;\n",
       "    }\n",
       "\n",
       "    .dataframe tbody tr th {\n",
       "        vertical-align: top;\n",
       "    }\n",
       "\n",
       "    .dataframe thead th {\n",
       "        text-align: right;\n",
       "    }\n",
       "</style>\n",
       "<table border=\"1\" class=\"dataframe\">\n",
       "  <thead>\n",
       "    <tr style=\"text-align: right;\">\n",
       "      <th></th>\n",
       "      <th>links</th>\n",
       "    </tr>\n",
       "  </thead>\n",
       "  <tbody>\n",
       "    <tr>\n",
       "      <th>count</th>\n",
       "      <td>9663.000000</td>\n",
       "    </tr>\n",
       "    <tr>\n",
       "      <th>mean</th>\n",
       "      <td>4.530684</td>\n",
       "    </tr>\n",
       "    <tr>\n",
       "      <th>std</th>\n",
       "      <td>5.719543</td>\n",
       "    </tr>\n",
       "    <tr>\n",
       "      <th>min</th>\n",
       "      <td>1.000000</td>\n",
       "    </tr>\n",
       "    <tr>\n",
       "      <th>25%</th>\n",
       "      <td>1.000000</td>\n",
       "    </tr>\n",
       "    <tr>\n",
       "      <th>50%</th>\n",
       "      <td>3.000000</td>\n",
       "    </tr>\n",
       "    <tr>\n",
       "      <th>75%</th>\n",
       "      <td>5.000000</td>\n",
       "    </tr>\n",
       "    <tr>\n",
       "      <th>max</th>\n",
       "      <td>118.000000</td>\n",
       "    </tr>\n",
       "  </tbody>\n",
       "</table>\n",
       "</div>"
      ],
      "text/plain": [
       "             links\n",
       "count  9663.000000\n",
       "mean      4.530684\n",
       "std       5.719543\n",
       "min       1.000000\n",
       "25%       1.000000\n",
       "50%       3.000000\n",
       "75%       5.000000\n",
       "max     118.000000"
      ]
     },
     "execution_count": 20,
     "metadata": {},
     "output_type": "execute_result"
    }
   ],
   "source": [
    "case_is_cited.describe()"
   ]
  },
  {
   "cell_type": "code",
   "execution_count": 22,
   "metadata": {},
   "outputs": [
    {
     "data": {
      "text/plain": [
       "links    21.0\n",
       "Name: 0.98, dtype: float64"
      ]
     },
     "execution_count": 22,
     "metadata": {},
     "output_type": "execute_result"
    }
   ],
   "source": [
    "case_is_cited.quantile(.98, axis =0)"
   ]
  },
  {
   "cell_type": "markdown",
   "metadata": {},
   "source": [
    "#### One-Sample Kolmogorov-Smirnov Test for comparing with theoretical distribuition"
   ]
  },
  {
   "cell_type": "code",
   "execution_count": 7,
   "metadata": {
    "jupyter": {
     "source_hidden": true
    }
   },
   "outputs": [],
   "source": [
    "cdfs = [\n",
    "    \"norm\",            #Normal (Gaussian)\n",
    "    \"alpha\",           #Alpha\n",
    "    \"anglit\",          #Anglit\n",
    "    \"arcsine\",         #Arcsine\n",
    "    \"beta\",            #Beta\n",
    "    \"betaprime\",       #Beta Prime\n",
    "    \"bradford\",        #Bradford\n",
    "    \"burr\",            #Burr\n",
    "    \"cauchy\",          #Cauchy\n",
    "    \"chi\",             #Chi\n",
    "    \"chi2\",            #Chi-squared\n",
    "    \"cosine\",          #Cosine\n",
    "    \"dgamma\",          #Double Gamma\n",
    "    \"dweibull\",        #Double Weibull\n",
    "    \"erlang\",          #Erlang\n",
    "    \"expon\",           #Exponential\n",
    "    \"exponweib\",       #Exponentiated Weibull\n",
    "    \"exponpow\",        #Exponential Power\n",
    "    \"fatiguelife\",     #Fatigue Life (Birnbaum-Sanders)\n",
    "    \"foldcauchy\",      #Folded Cauchy\n",
    "    \"f\",               #F (Snecdor F)\n",
    "    \"fisk\",            #Fisk\n",
    "    \"foldnorm\",        #Folded Normal\n",
    "    \"frechet_r\",       #Frechet Right Sided, Extreme Value Type II\n",
    "    \"frechet_l\",       #Frechet Left Sided, Weibull_max\n",
    "    \"gamma\",           #Gamma\n",
    "    \"gausshyper\",      #Gauss Hypergeometric\n",
    "    \"genexpon\",        #Generalized Exponential\n",
    "    \"genextreme\",      #Generalized Extreme Value\n",
    "    \"gengamma\",        #Generalized gamma\n",
    "    \"genlogistic\",     #Generalized Logistic\n",
    "    \"genpareto\",       #Generalized Pareto\n",
    "    \"genhalflogistic\", #Generalized Half Logistic\n",
    "    \"gilbrat\",         #Gilbrat\n",
    "    \"gompertz\",        #Gompertz (Truncated Gumbel)\n",
    "    \"gumbel_l\",        #Left Sided Gumbel, etc.\n",
    "    \"gumbel_r\",        #Right Sided Gumbel\n",
    "    \"halfcauchy\",      #Half Cauchy\n",
    "    \"halflogistic\",    #Half Logistic\n",
    "    \"halfnorm\",        #Half Normal\n",
    "    \"hypsecant\",       #Hyperbolic Secant\n",
    "    \"invgamma\",        #Inverse Gamma\n",
    "#    \"invnorm\",         #Inverse Normal\n",
    "    \"invweibull\",      #Inverse Weibull\n",
    "    \"johnsonsb\",       #Johnson SB\n",
    "    \"johnsonsu\",       #Johnson SU\n",
    "    \"laplace\",         #Laplace\n",
    "    \"logistic\",        #Logistic\n",
    "    \"loggamma\",        #Log-Gamma\n",
    "    \"loglaplace\",      #Log-Laplace (Log Double Exponential)\n",
    "    \"lognorm\",         #Log-Normal\n",
    "    \"lomax\",           #Lomax (Pareto of the second kind)\n",
    "    \"maxwell\",         #Maxwell\n",
    "    \"mielke\",          #Mielke's Beta-Kappa\n",
    "    \"nakagami\",        #Nakagami\n",
    "    \"ncx2\",            #Non-central chi-squared\n",
    "#    \"ncf\",             #Non-central F\n",
    "    \"nct\",             #Non-central Student's T\n",
    "    \"pareto\",          #Pareto\n",
    "    \"powerlaw\",        #Power-function\n",
    "    \"powerlognorm\",    #Power log normal\n",
    "    \"powernorm\",       #Power normal\n",
    "    \"rdist\",           #R distribution\n",
    "    \"reciprocal\",      #Reciprocal\n",
    "    \"rayleigh\",        #Rayleigh\n",
    "    \"rice\",            #Rice\n",
    "    \"recipinvgauss\",   #Reciprocal Inverse Gaussian\n",
    "    \"semicircular\",    #Semicircular\n",
    "    \"t\",               #Student's T\n",
    "    \"triang\",          #Triangular\n",
    "    \"truncexpon\",      #Truncated Exponential\n",
    "    \"truncnorm\",       #Truncated Normal\n",
    "    \"tukeylambda\",     #Tukey-Lambda\n",
    "    \"uniform\",         #Uniform\n",
    "    \"vonmises\",        #Von-Mises (Circular)\n",
    "    \"wald\",            #Wald\n",
    "    \"weibull_min\",     #Minimum Weibull (see Frechet)\n",
    "    \"weibull_max\",     #Maximum Weibull (see Frechet)\n",
    "    \"wrapcauchy\",      #Wrapped Cauchy\n",
    "    \"ksone\",           #Kolmogorov-Smirnov one-sided (no stats)\n",
    "    \"kstwobign\"]       #Kolmogorov-Smirnov two-sided test for Large N"
   ]
  },
  {
   "cell_type": "code",
   "execution_count": 8,
   "metadata": {},
   "outputs": [],
   "source": [
    "vector = case_is_cited.links.values\n",
    "np.random.seed(9876)\n",
    "results = []\n",
    "for cdf in cdfs:\n",
    "    #fit our data set against every probability distribution\n",
    "    parameters = eval(\"scipy.stats.\"+cdf+\".fit(vector)\")\n",
    "    #Applying the Kolmogorov-Smirnof one sided test\n",
    "    D, p = scipy.stats.kstest(vector, cdf, args=parameters)\n",
    "    if D < 1:\n",
    "        results.append((cdf.ljust(16),p,D))"
   ]
  },
  {
   "cell_type": "code",
   "execution_count": 9,
   "metadata": {},
   "outputs": [],
   "source": [
    "distribution_tests = pd.DataFrame(results)\\\n",
    "    .dropna()\\\n",
    "    .rename(columns = {0:'dist',1:'p-value',2:'D-statistic'})\\\n",
    "    .sort_values('D-statistic', ascending=False)"
   ]
  },
  {
   "cell_type": "code",
   "execution_count": 10,
   "metadata": {},
   "outputs": [
    {
     "data": {
      "text/html": [
       "<div>\n",
       "<style scoped>\n",
       "    .dataframe tbody tr th:only-of-type {\n",
       "        vertical-align: middle;\n",
       "    }\n",
       "\n",
       "    .dataframe tbody tr th {\n",
       "        vertical-align: top;\n",
       "    }\n",
       "\n",
       "    .dataframe thead th {\n",
       "        text-align: right;\n",
       "    }\n",
       "</style>\n",
       "<table border=\"1\" class=\"dataframe\">\n",
       "  <thead>\n",
       "    <tr style=\"text-align: right;\">\n",
       "      <th></th>\n",
       "      <th>dist</th>\n",
       "      <th>p-value</th>\n",
       "      <th>D-statistic</th>\n",
       "    </tr>\n",
       "  </thead>\n",
       "  <tbody>\n",
       "    <tr>\n",
       "      <th>24</th>\n",
       "      <td>frechet_l</td>\n",
       "      <td>0.0</td>\n",
       "      <td>0.857780</td>\n",
       "    </tr>\n",
       "    <tr>\n",
       "      <th>73</th>\n",
       "      <td>weibull_max</td>\n",
       "      <td>0.0</td>\n",
       "      <td>0.857780</td>\n",
       "    </tr>\n",
       "    <tr>\n",
       "      <th>74</th>\n",
       "      <td>ksone</td>\n",
       "      <td>0.0</td>\n",
       "      <td>0.841760</td>\n",
       "    </tr>\n",
       "    <tr>\n",
       "      <th>70</th>\n",
       "      <td>uniform</td>\n",
       "      <td>0.0</td>\n",
       "      <td>0.841760</td>\n",
       "    </tr>\n",
       "    <tr>\n",
       "      <th>3</th>\n",
       "      <td>arcsine</td>\n",
       "      <td>0.0</td>\n",
       "      <td>0.737694</td>\n",
       "    </tr>\n",
       "    <tr>\n",
       "      <th>68</th>\n",
       "      <td>truncnorm</td>\n",
       "      <td>0.0</td>\n",
       "      <td>0.704440</td>\n",
       "    </tr>\n",
       "    <tr>\n",
       "      <th>60</th>\n",
       "      <td>reciprocal</td>\n",
       "      <td>0.0</td>\n",
       "      <td>0.704440</td>\n",
       "    </tr>\n",
       "    <tr>\n",
       "      <th>41</th>\n",
       "      <td>invgamma</td>\n",
       "      <td>0.0</td>\n",
       "      <td>0.704428</td>\n",
       "    </tr>\n",
       "    <tr>\n",
       "      <th>20</th>\n",
       "      <td>f</td>\n",
       "      <td>0.0</td>\n",
       "      <td>0.704416</td>\n",
       "    </tr>\n",
       "    <tr>\n",
       "      <th>31</th>\n",
       "      <td>genpareto</td>\n",
       "      <td>0.0</td>\n",
       "      <td>0.704409</td>\n",
       "    </tr>\n",
       "  </tbody>\n",
       "</table>\n",
       "</div>"
      ],
      "text/plain": [
       "                dist  p-value  D-statistic\n",
       "24  frechet_l             0.0     0.857780\n",
       "73  weibull_max           0.0     0.857780\n",
       "74  ksone                 0.0     0.841760\n",
       "70  uniform               0.0     0.841760\n",
       "3   arcsine               0.0     0.737694\n",
       "68  truncnorm             0.0     0.704440\n",
       "60  reciprocal            0.0     0.704440\n",
       "41  invgamma              0.0     0.704428\n",
       "20  f                     0.0     0.704416\n",
       "31  genpareto             0.0     0.704409"
      ]
     },
     "execution_count": 10,
     "metadata": {},
     "output_type": "execute_result"
    }
   ],
   "source": [
    "distribution_tests.head(10)"
   ]
  },
  {
   "cell_type": "code",
   "execution_count": 11,
   "metadata": {},
   "outputs": [],
   "source": [
    "#equivalent\n",
    "#np.percentile(case_is_cited['links'], 99)\n",
    "#case_is_cited.quantile(.99)"
   ]
  }
 ],
 "metadata": {
  "kernelspec": {
   "display_name": "Python 3",
   "language": "python",
   "name": "python3"
  },
  "language_info": {
   "codemirror_mode": {
    "name": "ipython",
    "version": 3
   },
   "file_extension": ".py",
   "mimetype": "text/x-python",
   "name": "python",
   "nbconvert_exporter": "python",
   "pygments_lexer": "ipython3",
   "version": "3.7.3"
  }
 },
 "nbformat": 4,
 "nbformat_minor": 4
}
