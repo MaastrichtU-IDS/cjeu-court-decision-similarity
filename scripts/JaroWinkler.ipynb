{
 "cells": [
  {
   "cell_type": "code",
   "execution_count": 1,
   "metadata": {},
   "outputs": [
    {
     "name": "stdout",
     "output_type": "stream",
     "text": [
      "Jarowinkler\n",
      "-----------\n",
      "\n",
      "* Building index of documents...\n",
      " Index successfully built!\n",
      "\n"
     ]
    }
   ],
   "source": [
    "import gensim\n",
    "from gensim.models import Word2Vec\n",
    "import os\n",
    "import pickle\n",
    "import nltk\n",
    "from nltk.corpus import stopwords\n",
    "import time\n",
    "\n",
    "start = time.time()\n",
    "\n",
    "print(\"Jarowinkler\")\n",
    "print(\"-----------\")\n",
    "print()\n",
    "\n",
    "print(\"* Building index of documents...\")\n",
    "\n",
    "# List all documents in directory\n",
    "path = \"../inputdata/full_texts_all_cases/\"\n",
    "\n",
    "# Import stopwords           \n",
    "stopwordsfile = \"../script_resources/stopwords.pickle\"\n",
    "stopwords_full = []\n",
    "with open(stopwordsfile, \"rb\") as f:\n",
    "    tmp = pickle.load(f)\n",
    "    stopwords_full.extend(list(tmp))\n",
    "    stopwords_full.extend(stopwords.words('english'))\n",
    "    \n",
    "stopwords_full = list(set(stopwords_full))\n",
    "\n",
    "# Only keep celex number from filename\n",
    "def cleanfilename(name):\n",
    "    result = \"\"\n",
    "    result = name.replace(\"full_text_\",\"\")\n",
    "    result = result.replace(\".txt\",\"\")\n",
    "    return result\n",
    "\n",
    "def removeStopWords(text, stopwords_list):\n",
    "    text = text.lower()\n",
    "    for item in stopwords_list:\n",
    "        text = text.replace(\" \" + item.lower() + \" \",\" \")\n",
    "        text = text.replace(\" \" + item.lower() + \",\",\" \")\n",
    "        text = text.replace(\" \" + item.lower() + \".\",\" \")\n",
    "        text = text.replace(\" \" + item.lower() + \";\",\" \")\n",
    "    text = text.replace(\"+\",\"\")\n",
    "    return text\n",
    "\n",
    "# Import files and define mapping between case IDS and full texts   \n",
    "files = []\n",
    "index_to_celex = {}\n",
    "index_to_value = {}\n",
    "celex_to_value = {}\n",
    "datafortraining = []\n",
    "index = 0\n",
    "for r, d, f in os.walk(path):\n",
    "    for file in f:\n",
    "        if '.txt' in file:\n",
    "            files.append(os.path.join(r, file))\n",
    "            celexnum = cleanfilename(os.path.basename(file))\n",
    "            with open (path+file, \"r\", encoding=\"utf-8\") as myfile:\n",
    "                data = myfile.read().replace('\\n', '')\n",
    "                data = removeStopWords(data,stopwords_full)\n",
    "                datafortraining.append(data)\n",
    "                index_to_celex[index] = file\n",
    "                index_to_value[index] = data\n",
    "                celex_to_value[celexnum] = data\n",
    "                index += 1\n",
    "\n",
    "print(\" Index successfully built!\")\n",
    "print()\n",
    "\n"
   ]
  },
  {
   "cell_type": "code",
   "execution_count": 2,
   "metadata": {},
   "outputs": [
    {
     "name": "stdout",
     "output_type": "stream",
     "text": [
      "* Importing sample cases...\n",
      " Successfully imported sample cases!\n",
      "\n"
     ]
    }
   ],
   "source": [
    "# Import sample cases\n",
    "import pandas as pd\n",
    "\n",
    "# Fetch sample cases from file\n",
    "def get_sample_cases(topic):\n",
    "    data = pd.read_csv(\"../inputdata/sampled_cases.csv\")\n",
    "    relevant_rows = data[data['topic'] == topic]\n",
    "    return relevant_rows['source'].tolist()\n",
    "\n",
    "print(\"* Importing sample cases...\")\n",
    "# Celex numbers of reference cases\n",
    "publichealth = get_sample_cases('public health')\n",
    "socialpolicy = get_sample_cases('social policy')\n",
    "dataprotection = get_sample_cases('data protection')\n",
    "print(\" Successfully imported sample cases!\")\n",
    "print()"
   ]
  },
  {
   "cell_type": "code",
   "execution_count": 3,
   "metadata": {},
   "outputs": [
    {
     "name": "stdout",
     "output_type": "stream",
     "text": [
      "* Import citations for cases...\n",
      " Successfully imported citations!\n"
     ]
    }
   ],
   "source": [
    "# Import citations\n",
    "print(\"* Import citations for cases...\")\n",
    "citations = pd.read_csv('../inputdata/all_cases_citations.csv')\n",
    "print(\" Successfully imported citations!\")\n",
    "\n",
    "def find_cited_cases(celexnumber):\n",
    "    global citations\n",
    "    relevantsource = citations[citations['source'] == celexnumber]\n",
    "    return relevantsource['target'].tolist()\n",
    "\n",
    "def exists_citation_link_between(celexnumber1,celexnumber2):\n",
    "    global citations\n",
    "    relevantsource1 = citations[citations['source'] == celexnumber1]\n",
    "    relevantsource2 = citations[citations['source'] == celexnumber2]\n",
    "    if celexnumber2 in relevantsource1['target'].tolist() or celexnumber1 in relevantsource2['target'].tolist():\n",
    "        return True\n",
    "    return False"
   ]
  },
  {
   "cell_type": "code",
   "execution_count": 4,
   "metadata": {},
   "outputs": [],
   "source": [
    "unique_celex = []\n",
    "unique_values = []\n",
    "for k,v in celex_to_value.items():\n",
    "    unique_celex.append(k)\n",
    "    unique_values.append(v)\n",
    "\n",
    "\n",
    "#unique_celex = list(set(unique_celex))"
   ]
  },
  {
   "cell_type": "code",
   "execution_count": 16,
   "metadata": {},
   "outputs": [
    {
     "name": "stdout",
     "output_type": "stream",
     "text": [
      "548.935001373291 s\n"
     ]
    }
   ],
   "source": [
    "import numpy as np    \n",
    "from scipy.spatial.distance import pdist, squareform\n",
    "from similarity.jarowinkler import JaroWinkler\n",
    "import operator\n",
    "jarowinkler = JaroWinkler()\n",
    "\n",
    "start = time.time()\n",
    "transformed_docs = np.array(unique_values[0:20]).reshape(-1,1)\n",
    "similarity_matrix = pd.DataFrame(\n",
    "    squareform(pdist(transformed_docs,lambda x,y: jarowinkler.similarity(x[0], y[0]))),\n",
    "    columns = unique_celex[0:20],\n",
    "    index = unique_celex[0:20]\n",
    ")\n",
    "end = time.time()\n",
    "\n",
    "print(end-start, \"s\")"
   ]
  },
  {
   "cell_type": "code",
   "execution_count": 15,
   "metadata": {},
   "outputs": [
    {
     "name": "stdout",
     "output_type": "stream",
     "text": [
      "             61954CJ0001  61954CJ0002  61954CJ0003  61954CJ0004  61954CJ0006  \\\n",
      "61954CJ0001     0.000000     0.785417     0.598043     0.609698     0.705911   \n",
      "61954CJ0002     0.785417     0.000000     0.581678     0.592110     0.675077   \n",
      "61954CJ0003     0.598043     0.581678     0.000000     0.808137     0.657010   \n",
      "61954CJ0004     0.609698     0.592110     0.808137     0.000000     0.675019   \n",
      "61954CJ0006     0.705911     0.675077     0.657010     0.675019     0.000000   \n",
      "61954CJ0007     0.760119     0.809785     0.575422     0.584460     0.661373   \n",
      "61954CJ0008     0.569639     0.557477     0.729361     0.705359     0.608871   \n",
      "61954CO0007     0.535537     0.533981     0.605258     0.594394     0.556585   \n",
      "61954CO0008     0.537957     0.533980     0.607488     0.597535     0.556175   \n",
      "61955CJ0001     0.695598     0.662491     0.662850     0.682890     0.797733   \n",
      "\n",
      "             61954CJ0007  61954CJ0008  61954CO0007  61954CO0008  61955CJ0001  \n",
      "61954CJ0001     0.760119     0.569639     0.535537     0.537957     0.695598  \n",
      "61954CJ0002     0.809785     0.557477     0.533981     0.533980     0.662491  \n",
      "61954CJ0003     0.575422     0.729361     0.605258     0.607488     0.662850  \n",
      "61954CJ0004     0.584460     0.705359     0.594394     0.597535     0.682890  \n",
      "61954CJ0006     0.661373     0.608871     0.556585     0.556175     0.797733  \n",
      "61954CJ0007     0.000000     0.553944     0.530180     0.532196     0.653108  \n",
      "61954CJ0008     0.553944     0.000000     0.652854     0.658690     0.611584  \n",
      "61954CO0007     0.530180     0.652854     0.000000     0.828198     0.557059  \n",
      "61954CO0008     0.532196     0.658690     0.828198     0.000000     0.556750  \n",
      "61955CJ0001     0.653108     0.611584     0.557059     0.556750     0.000000  \n"
     ]
    }
   ],
   "source": [
    "print(similarity_matrix)"
   ]
  },
  {
   "cell_type": "code",
   "execution_count": 6,
   "metadata": {},
   "outputs": [
    {
     "name": "stdout",
     "output_type": "stream",
     "text": [
      "* Computing similar cases...\n",
      "* Public health\n",
      "1 / 63 62003CJ0453\n",
      "('61954CJ0001', 0.6430777342851712)\n",
      "('61954CJ0002', 0.6717938837032017)\n",
      "('61954CJ0003', 0.5449067250804195)\n",
      "('61954CJ0004', 0.5497137992113789)\n",
      "('61954CJ0006', 0.5890921975639446)\n",
      "('61954CJ0007', 0.6847210403401421)\n",
      "('61954CJ0008', 0.5322464658723729)\n",
      "('61954CO0007', 0.5202898844878939)\n",
      "('61954CO0008', 0.5201663423094777)\n",
      "('61955CJ0001', 0.5848253168585886)\n",
      "('61955CJ0005', 0.5553991136939262)\n",
      "('61955CJ0008(01)', 0.6686321723188097)\n",
      "('61955CJ0008', 0.5743178271498697)\n",
      "('61955CJ0009', 0.6324760038215765)\n",
      "('61955CJ0010', 0.5781535199188118)\n",
      "('61956CJ0001', 0.5764151219918593)\n",
      "('61956CJ0002', 0.6048380158325979)\n",
      "('61956CJ0007', 0.684003900973894)\n",
      "('61956CJ0008', 0.5475208488237416)\n",
      "('61956CJ0009', 0.6900537299315248)\n",
      "('61956CJ0010', 0.6703604580222593)\n",
      "('61957CJ0001', 0.5623044157310709)\n",
      "('61957CJ0002', 0.5656529197961095)\n",
      "('61957CJ0008', 0.6703403394741333)\n",
      "('61957CJ0009', 0.6592049008879245)\n",
      "('61957CJ0010', 0.6626231820103506)\n",
      "('61957CJ0011', 0.6555276730194296)\n"
     ]
    },
    {
     "ename": "KeyboardInterrupt",
     "evalue": "",
     "output_type": "error",
     "traceback": [
      "\u001b[1;31m---------------------------------------------------------------------------\u001b[0m",
      "\u001b[1;31mKeyboardInterrupt\u001b[0m                         Traceback (most recent call last)",
      "\u001b[1;32m<ipython-input-6-6bce2b67f9e5>\u001b[0m in \u001b[0;36m<module>\u001b[1;34m\u001b[0m\n\u001b[0;32m     30\u001b[0m \u001b[0mprint\u001b[0m\u001b[1;33m(\u001b[0m\u001b[1;34m\"* Public health\"\u001b[0m\u001b[1;33m)\u001b[0m\u001b[1;33m\u001b[0m\u001b[1;33m\u001b[0m\u001b[0m\n\u001b[0;32m     31\u001b[0m \u001b[1;31m# 1. Public Health\u001b[0m\u001b[1;33m\u001b[0m\u001b[1;33m\u001b[0m\u001b[1;33m\u001b[0m\u001b[0m\n\u001b[1;32m---> 32\u001b[1;33m \u001b[0mlookup_similar_cases\u001b[0m\u001b[1;33m(\u001b[0m\u001b[0mpublichealth\u001b[0m\u001b[1;33m,\u001b[0m\u001b[1;36m20\u001b[0m\u001b[1;33m,\u001b[0m\u001b[1;34m'public health'\u001b[0m\u001b[1;33m)\u001b[0m\u001b[1;33m\u001b[0m\u001b[1;33m\u001b[0m\u001b[0m\n\u001b[0m\u001b[0;32m     33\u001b[0m \u001b[0mprint\u001b[0m\u001b[1;33m(\u001b[0m\u001b[1;34m\"* Social policy\"\u001b[0m\u001b[1;33m)\u001b[0m\u001b[1;33m\u001b[0m\u001b[1;33m\u001b[0m\u001b[0m\n\u001b[0;32m     34\u001b[0m \u001b[1;31m# 2. Social Policy\u001b[0m\u001b[1;33m\u001b[0m\u001b[1;33m\u001b[0m\u001b[1;33m\u001b[0m\u001b[0m\n",
      "\u001b[1;32m<ipython-input-6-6bce2b67f9e5>\u001b[0m in \u001b[0;36mlookup_similar_cases\u001b[1;34m(sample_cases, n, topic)\u001b[0m\n\u001b[0;32m     19\u001b[0m         \u001b[1;32mfor\u001b[0m \u001b[0mk\u001b[0m\u001b[1;33m,\u001b[0m\u001b[0mv\u001b[0m \u001b[1;32min\u001b[0m \u001b[0mcelex_to_value\u001b[0m\u001b[1;33m.\u001b[0m\u001b[0mitems\u001b[0m\u001b[1;33m(\u001b[0m\u001b[1;33m)\u001b[0m\u001b[1;33m:\u001b[0m\u001b[1;33m\u001b[0m\u001b[1;33m\u001b[0m\u001b[0m\n\u001b[0;32m     20\u001b[0m             \u001b[1;32mif\u001b[0m \u001b[0mk\u001b[0m \u001b[1;33m!=\u001b[0m \u001b[0mitem\u001b[0m\u001b[1;33m:\u001b[0m\u001b[1;33m\u001b[0m\u001b[1;33m\u001b[0m\u001b[0m\n\u001b[1;32m---> 21\u001b[1;33m                 \u001b[0mcurrent_sim_val\u001b[0m \u001b[1;33m=\u001b[0m \u001b[0mjarowinkler\u001b[0m\u001b[1;33m.\u001b[0m\u001b[0msimilarity\u001b[0m\u001b[1;33m(\u001b[0m\u001b[0mcelex_to_value\u001b[0m\u001b[1;33m[\u001b[0m\u001b[0mitem\u001b[0m\u001b[1;33m]\u001b[0m\u001b[1;33m,\u001b[0m \u001b[0mv\u001b[0m\u001b[1;33m)\u001b[0m\u001b[1;33m\u001b[0m\u001b[1;33m\u001b[0m\u001b[0m\n\u001b[0m\u001b[0;32m     22\u001b[0m                 \u001b[0mcurrent_dict\u001b[0m\u001b[1;33m[\u001b[0m\u001b[0mk\u001b[0m\u001b[1;33m]\u001b[0m \u001b[1;33m=\u001b[0m \u001b[0mcurrent_sim_val\u001b[0m\u001b[1;33m\u001b[0m\u001b[1;33m\u001b[0m\u001b[0m\n\u001b[0;32m     23\u001b[0m                 \u001b[0mprint\u001b[0m\u001b[1;33m(\u001b[0m\u001b[1;33m(\u001b[0m\u001b[0mk\u001b[0m\u001b[1;33m,\u001b[0m\u001b[0mcurrent_sim_val\u001b[0m\u001b[1;33m)\u001b[0m\u001b[1;33m)\u001b[0m\u001b[1;33m\u001b[0m\u001b[1;33m\u001b[0m\u001b[0m\n",
      "\u001b[1;32mc:\\users\\kody.moodley\\appdata\\local\\continuum\\anaconda3\\envs\\python36\\lib\\site-packages\\similarity\\jarowinkler.py\u001b[0m in \u001b[0;36msimilarity\u001b[1;34m(self, s0, s1)\u001b[0m\n\u001b[0;32m     40\u001b[0m         \u001b[1;32mif\u001b[0m \u001b[0ms0\u001b[0m \u001b[1;33m==\u001b[0m \u001b[0ms1\u001b[0m\u001b[1;33m:\u001b[0m\u001b[1;33m\u001b[0m\u001b[1;33m\u001b[0m\u001b[0m\n\u001b[0;32m     41\u001b[0m             \u001b[1;32mreturn\u001b[0m \u001b[1;36m1.0\u001b[0m\u001b[1;33m\u001b[0m\u001b[1;33m\u001b[0m\u001b[0m\n\u001b[1;32m---> 42\u001b[1;33m         \u001b[0mmtp\u001b[0m \u001b[1;33m=\u001b[0m \u001b[0mself\u001b[0m\u001b[1;33m.\u001b[0m\u001b[0mmatches\u001b[0m\u001b[1;33m(\u001b[0m\u001b[0ms0\u001b[0m\u001b[1;33m,\u001b[0m \u001b[0ms1\u001b[0m\u001b[1;33m)\u001b[0m\u001b[1;33m\u001b[0m\u001b[1;33m\u001b[0m\u001b[0m\n\u001b[0m\u001b[0;32m     43\u001b[0m         \u001b[0mm\u001b[0m \u001b[1;33m=\u001b[0m \u001b[0mmtp\u001b[0m\u001b[1;33m[\u001b[0m\u001b[1;36m0\u001b[0m\u001b[1;33m]\u001b[0m\u001b[1;33m\u001b[0m\u001b[1;33m\u001b[0m\u001b[0m\n\u001b[0;32m     44\u001b[0m         \u001b[1;32mif\u001b[0m \u001b[0mm\u001b[0m \u001b[1;33m==\u001b[0m \u001b[1;36m0\u001b[0m\u001b[1;33m:\u001b[0m\u001b[1;33m\u001b[0m\u001b[1;33m\u001b[0m\u001b[0m\n",
      "\u001b[1;32mc:\\users\\kody.moodley\\appdata\\local\\continuum\\anaconda3\\envs\\python36\\lib\\site-packages\\similarity\\jarowinkler.py\u001b[0m in \u001b[0;36mmatches\u001b[1;34m(s0, s1)\u001b[0m\n\u001b[0;32m     68\u001b[0m             \u001b[0mc1\u001b[0m \u001b[1;33m=\u001b[0m \u001b[0mmin_str\u001b[0m\u001b[1;33m[\u001b[0m\u001b[0mmi\u001b[0m\u001b[1;33m]\u001b[0m\u001b[1;33m\u001b[0m\u001b[1;33m\u001b[0m\u001b[0m\n\u001b[0;32m     69\u001b[0m             \u001b[1;32mfor\u001b[0m \u001b[0mxi\u001b[0m \u001b[1;32min\u001b[0m \u001b[0mrange\u001b[0m\u001b[1;33m(\u001b[0m\u001b[0mmax\u001b[0m\u001b[1;33m(\u001b[0m\u001b[0mmi\u001b[0m \u001b[1;33m-\u001b[0m \u001b[0mran\u001b[0m\u001b[1;33m,\u001b[0m \u001b[1;36m0\u001b[0m\u001b[1;33m)\u001b[0m\u001b[1;33m,\u001b[0m \u001b[0mmin\u001b[0m\u001b[1;33m(\u001b[0m\u001b[0mmi\u001b[0m \u001b[1;33m+\u001b[0m \u001b[0mran\u001b[0m \u001b[1;33m+\u001b[0m \u001b[1;36m1\u001b[0m\u001b[1;33m,\u001b[0m \u001b[0mlen\u001b[0m\u001b[1;33m(\u001b[0m\u001b[0mmax_str\u001b[0m\u001b[1;33m)\u001b[0m\u001b[1;33m)\u001b[0m\u001b[1;33m)\u001b[0m\u001b[1;33m:\u001b[0m\u001b[1;33m\u001b[0m\u001b[1;33m\u001b[0m\u001b[0m\n\u001b[1;32m---> 70\u001b[1;33m                 \u001b[1;32mif\u001b[0m \u001b[1;32mnot\u001b[0m \u001b[0mmatch_flags\u001b[0m\u001b[1;33m[\u001b[0m\u001b[0mxi\u001b[0m\u001b[1;33m]\u001b[0m \u001b[1;32mand\u001b[0m \u001b[0mc1\u001b[0m \u001b[1;33m==\u001b[0m \u001b[0mmax_str\u001b[0m\u001b[1;33m[\u001b[0m\u001b[0mxi\u001b[0m\u001b[1;33m]\u001b[0m\u001b[1;33m:\u001b[0m\u001b[1;33m\u001b[0m\u001b[1;33m\u001b[0m\u001b[0m\n\u001b[0m\u001b[0;32m     71\u001b[0m                     \u001b[0mmatch_indexes\u001b[0m\u001b[1;33m[\u001b[0m\u001b[0mmi\u001b[0m\u001b[1;33m]\u001b[0m \u001b[1;33m=\u001b[0m \u001b[0mxi\u001b[0m\u001b[1;33m\u001b[0m\u001b[1;33m\u001b[0m\u001b[0m\n\u001b[0;32m     72\u001b[0m                     \u001b[0mmatch_flags\u001b[0m\u001b[1;33m[\u001b[0m\u001b[0mxi\u001b[0m\u001b[1;33m]\u001b[0m \u001b[1;33m=\u001b[0m \u001b[1;32mTrue\u001b[0m\u001b[1;33m\u001b[0m\u001b[1;33m\u001b[0m\u001b[0m\n",
      "\u001b[1;31mKeyboardInterrupt\u001b[0m: "
     ]
    }
   ],
   "source": [
    "#started 20:58\n",
    "#end ?\n",
    "results = []\n",
    "\n",
    "\n",
    "\n",
    "\n",
    "def lookup_similar_cases(sample_cases, n, topic):\n",
    "    global results\n",
    "    global celex_to_value\n",
    "    global jarowinkler\n",
    "    count = 1\n",
    "    num = len(sample_cases)\n",
    "    for item in sample_cases:\n",
    "        print(count,\"/\",num,item)\n",
    "        count+=1\n",
    "        current_dict = {}\n",
    "        for k,v in celex_to_value.items():\n",
    "            if k != item:\n",
    "                current_sim_val = jarowinkler.similarity(celex_to_value[item], v)\n",
    "                current_dict[k] = current_sim_val\n",
    "                print((k,current_sim_val))\n",
    "        sorted_dict = sorted(current_dict.items(), key=operator.itemgetter(1))\n",
    "        topn = sorted_dict[-n:]\n",
    "        for reference in topn:\n",
    "            results.append([item,reference[0],reference[1],'jaro-winkler',exists_citation_link_between(item,reference[0]),topic])\n",
    "\n",
    "print(\"* Computing similar cases...\")\n",
    "print(\"* Public health\")\n",
    "# 1. Public Health\n",
    "lookup_similar_cases(publichealth,20,'public health')\n",
    "print(\"* Social policy\")\n",
    "# 2. Social Policy\n",
    "lookup_similar_cases(socialpolicy,20,'social policy')\n",
    "# 3. Data Protection\n",
    "print(\"* Data protection\")\n",
    "lookup_similar_cases(dataprotection,20,'data protection')\n",
    "\n",
    "print(\" Successfully computed similar cases!\")\n",
    "print()"
   ]
  },
  {
   "cell_type": "code",
   "execution_count": null,
   "metadata": {},
   "outputs": [],
   "source": [
    "print(\"* Writing results to file...\")\n",
    "import csv\n",
    "import os.path\n",
    "\n",
    "if os.path.exists('../outputdata/results_jaro.csv') == False:\n",
    "    results.insert(0,['source_case','similar_case','similarity_score','method','citation_link','source_case_topic'])\n",
    "    \n",
    "with open('../outputdata/results_jaro.csv', 'a', newline='') as outfile:\n",
    "    writer = csv.writer(outfile, delimiter=',')\n",
    "    writer.writerows(results)\n",
    "    \n",
    "end = time.time()\n",
    "\n",
    "print(\" Successfully wrote results to file!\")\n",
    "print()\n",
    "print(\" Done!\")\n",
    "print()\n",
    "print(\"* Time taken:\",(end-start),\"s\")"
   ]
  }
 ],
 "metadata": {
  "kernelspec": {
   "display_name": "Python 3",
   "language": "python",
   "name": "python3"
  },
  "language_info": {
   "codemirror_mode": {
    "name": "ipython",
    "version": 3
   },
   "file_extension": ".py",
   "mimetype": "text/x-python",
   "name": "python",
   "nbconvert_exporter": "python",
   "pygments_lexer": "ipython3",
   "version": "3.6.8"
  }
 },
 "nbformat": 4,
 "nbformat_minor": 4
}
